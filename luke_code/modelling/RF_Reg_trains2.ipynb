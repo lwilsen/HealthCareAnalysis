{
 "cells": [
  {
   "cell_type": "code",
   "execution_count": 22,
   "metadata": {},
   "outputs": [],
   "source": [
    "'''This script is used to train a random forest regression model with the second training scheme I'm considering; the \n",
    "one that uses all previous data and aggregated yearly metrics for each beneficiary year and that includes \n",
    "target encoding.'''\n",
    "\n",
    "import numpy as np\n",
    "import pandas as pd\n",
    "from sklearn.ensemble import RandomForestRegressor\n",
    "from sklearn.preprocessing import OneHotEncoder, TargetEncoder\n",
    "from sklearn.metrics import make_scorer, mean_squared_log_error\n",
    "from sklearn.model_selection import GridSearchCV\n",
    "from utils import (\n",
    "    describe_dataframe, df_train_test, graph_results, reg_train_eval\n",
    ")"
   ]
  },
  {
   "cell_type": "code",
   "execution_count": 23,
   "metadata": {},
   "outputs": [
    {
     "name": "stdout",
     "output_type": "stream",
     "text": [
      "(20867, 1)\n",
      "(20867,)\n"
     ]
    }
   ],
   "source": [
    "main = pd.read_csv(\"../data/combo_data.csv\")\n",
    "main\n",
    "\n",
    "#Identify relevant columns\n",
    "select_cols = [\"LOS\" ,\n",
    "               \"YR\",  \n",
    "               \"PRNCPAL_DGNS_CD\", \n",
    "               \"CLM_IP_ADMSN_TYPE_CD\", \n",
    "               \"ER_flag\", \n",
    "               \"STATE_CODE\", \n",
    "               \"COUNTY_CD\", \n",
    "               \"BENE_RACE_CD\", \n",
    "               \"ESRD_IND\",\n",
    "               \"Age\", \n",
    "               \"TOT_RX_CST_AMT\", \n",
    "               \"NUM_DIAG\",\n",
    "               \"SEX_IDENT_CD\"]\n",
    "\n",
    "workingdf_te = main[select_cols].copy()\n",
    "\n",
    "prncpl_diag_col = pd.DataFrame(data = {\"PRNCPL_DGNS_CD\": workingdf_te.loc[:,\"PRNCPAL_DGNS_CD\"]})\n",
    "\n",
    "print(prncpl_diag_col.shape)\n",
    "\n",
    "los_col = workingdf_te.loc[:,\"LOS\"]\n",
    "\n",
    "print(los_col.shape)\n",
    "\n",
    "encoder = TargetEncoder(categories='auto', target_type='continuous', smooth='auto', cv=5, random_state=42)\n",
    "\n",
    "workingdf_te[\"PRNCPAL_DGNS_CD\"] = encoder.fit_transform(prncpl_diag_col, los_col)\n",
    "\n",
    "workingdf_te = workingdf_te.assign(ESRD_IND = workingdf_te[\"ESRD_IND\"].map({\"Y\": 1, \"0\" : 0}))\n",
    "\n",
    "wdf_rest_te = workingdf_te[workingdf_te[\"YR\"] < 2022]\n",
    "wdf_2022_te = workingdf_te[workingdf_te[\"YR\"] >= 2022]\n",
    "\n",
    "ohe = OneHotEncoder(sparse_output=False)\n",
    "\n",
    "ohe.fit(wdf_rest_te[['CLM_IP_ADMSN_TYPE_CD', \n",
    "                  'STATE_CODE', \n",
    "                  'BENE_RACE_CD', \n",
    "                  \"SEX_IDENT_CD\"]])\n",
    "\n",
    "ohe_df_rest_te = pd.DataFrame(data = ohe.transform(wdf_rest_te[['CLM_IP_ADMSN_TYPE_CD', \n",
    "                                                          'STATE_CODE', \n",
    "                                                          'BENE_RACE_CD',\n",
    "                                                          \"SEX_IDENT_CD\"]]), \n",
    "             columns=ohe.get_feature_names_out(wdf_rest_te[['CLM_IP_ADMSN_TYPE_CD', \n",
    "                                                         'STATE_CODE', \n",
    "                                                         'BENE_RACE_CD',\n",
    "                                                         \"SEX_IDENT_CD\"]].columns))\n",
    "\n",
    "ohe.fit(wdf_2022_te[['CLM_IP_ADMSN_TYPE_CD', \n",
    "                  'STATE_CODE', \n",
    "                  'BENE_RACE_CD', \n",
    "                  \"SEX_IDENT_CD\"]])\n",
    "ohe_df_2022_te = pd.DataFrame(data = ohe.transform(wdf_2022_te[['CLM_IP_ADMSN_TYPE_CD', \n",
    "                                                          'STATE_CODE', \n",
    "                                                          'BENE_RACE_CD',\n",
    "                                                          \"SEX_IDENT_CD\"]]), \n",
    "             columns=ohe.get_feature_names_out(wdf_2022_te[['CLM_IP_ADMSN_TYPE_CD', \n",
    "                                                         'STATE_CODE', \n",
    "                                                         'BENE_RACE_CD',\n",
    "                                                         \"SEX_IDENT_CD\"]].columns))\n",
    "\n",
    "#drop year, county code, all one hot encoded vars \n",
    "wdf_rest_te = wdf_rest_te.drop(columns=[\"YR\", \n",
    "                                  \"COUNTY_CD\", \n",
    "                                  'CLM_IP_ADMSN_TYPE_CD', \n",
    "                                  'STATE_CODE', \n",
    "                                  'BENE_RACE_CD',\n",
    "                                  \"SEX_IDENT_CD\"])\n",
    "wdf_2022_te = wdf_2022_te.drop(columns=[\"YR\", \n",
    "                                  \"COUNTY_CD\", \n",
    "                                  'CLM_IP_ADMSN_TYPE_CD', \n",
    "                                  'STATE_CODE', \n",
    "                                  'BENE_RACE_CD',\n",
    "                                  \"SEX_IDENT_CD\"])\n",
    "\n",
    "wdf_rest_te = pd.concat([wdf_rest_te.reset_index(drop=True), ohe_df_rest_te.reset_index(drop=True)], axis=1)\n",
    "wdf_2022_te = pd.concat([wdf_2022_te.reset_index(drop=True), ohe_df_2022_te.reset_index(drop=True)], axis=1)\n",
    "\n",
    "reg_mod_metrics = {\"Test\":{},\n",
    "                   \"Train\":{}}\n",
    "\n",
    "predictions = {}"
   ]
  },
  {
   "cell_type": "code",
   "execution_count": 24,
   "metadata": {},
   "outputs": [],
   "source": [
    "X_train_rest_te, X_test_rest_te, y_train_rest_te, y_test_rest_te = df_train_test(wdf_rest_te, \"LOS\", 0.2)\n",
    "\n",
    "X_train_2022_te, X_test_2022_te, y_train_2022_te, y_test_2022_te = df_train_test(wdf_2022_te, \"LOS\", 0.2)"
   ]
  },
  {
   "cell_type": "code",
   "execution_count": 25,
   "metadata": {},
   "outputs": [
    {
     "data": {
      "text/plain": [
       "{'Test': {'RandomForestRegressor - NoneType - rest_train-2022test-te': {'RMSLE': 0.292312793087425,\n",
       "   'R2': 0.48786033580176014,\n",
       "   'MAE': 0.7268016205402569,\n",
       "   'MSE': 6.767655029019409}},\n",
       " 'Train': {'RandomForestRegressor - NoneType - rest_train-2022test-te': {'RMSLE': 0.13835712847835815,\n",
       "   'R2': 0.9231600713943726,\n",
       "   'MAE': 0.23596542894935751,\n",
       "   'MSE': 0.7250110240728559}}}"
      ]
     },
     "execution_count": 25,
     "metadata": {},
     "output_type": "execute_result"
    }
   ],
   "source": [
    "reg_train_eval(RandomForestRegressor(n_estimators=100, random_state=42),\n",
    "               None,\n",
    "               X_train_rest_te,\n",
    "               y_train_rest_te,\n",
    "               X_test_2022_te,\n",
    "               y_test_2022_te,\n",
    "               reg_mod_metrics,\n",
    "               predictions,\n",
    "               year = \"rest_train-2022test-te\")\n",
    "\n",
    "reg_mod_metrics"
   ]
  },
  {
   "cell_type": "code",
   "execution_count": null,
   "metadata": {},
   "outputs": [
    {
     "ename": "KeyError",
     "evalue": "'mean_test_RMSLE'",
     "output_type": "error",
     "traceback": [
      "\u001b[0;31m---------------------------------------------------------------------------\u001b[0m",
      "\u001b[0;31mKeyError\u001b[0m                                  Traceback (most recent call last)",
      "Cell \u001b[0;32mIn[26], line 29\u001b[0m\n\u001b[1;32m     27\u001b[0m best_params \u001b[38;5;241m=\u001b[39m grid_search\u001b[38;5;241m.\u001b[39mbest_params_\n\u001b[1;32m     28\u001b[0m best_r_squared \u001b[38;5;241m=\u001b[39m grid_search\u001b[38;5;241m.\u001b[39mbest_score_\n\u001b[0;32m---> 29\u001b[0m best_rmsle \u001b[38;5;241m=\u001b[39m \u001b[43mgrid_search\u001b[49m\u001b[38;5;241;43m.\u001b[39;49m\u001b[43mcv_results_\u001b[49m\u001b[43m[\u001b[49m\u001b[38;5;124;43m'\u001b[39;49m\u001b[38;5;124;43mmean_test_RMSLE\u001b[39;49m\u001b[38;5;124;43m'\u001b[39;49m\u001b[43m]\u001b[49m[grid_search\u001b[38;5;241m.\u001b[39mbest_index_]\n\u001b[1;32m     30\u001b[0m \u001b[38;5;28mprint\u001b[39m(\u001b[38;5;124mf\u001b[39m\u001b[38;5;124m\"\u001b[39m\u001b[38;5;124mBest Parameters: \u001b[39m\u001b[38;5;132;01m{\u001b[39;00mbest_params\u001b[38;5;132;01m}\u001b[39;00m\u001b[38;5;124m\"\u001b[39m)\n\u001b[1;32m     31\u001b[0m \u001b[38;5;28mprint\u001b[39m(\u001b[38;5;124mf\u001b[39m\u001b[38;5;124m\"\u001b[39m\u001b[38;5;124mBest R-squared: \u001b[39m\u001b[38;5;132;01m{\u001b[39;00mbest_r_squared\u001b[38;5;132;01m}\u001b[39;00m\u001b[38;5;124m\"\u001b[39m)\n",
      "\u001b[0;31mKeyError\u001b[0m: 'mean_test_RMSLE'"
     ]
    }
   ],
   "source": [
    "# Grid search above model\n",
    "param_grid = {\n",
    "    'n_estimators': [100, 200, 300],\n",
    "    'max_depth': [3, 5, 10, None],\n",
    "    'min_samples_split': [2, 5, 10],\n",
    "    'min_samples_leaf': [2, 4, 6],\n",
    "    'criterion': ['squared_error']  # 'mse' is deprecated, use 'squared_error'\n",
    "}\n",
    "\n",
    "def rmsle(y_true, y_pred):\n",
    "    return np.sqrt(mean_squared_log_error(y_true, y_pred))\n",
    "\n",
    "# Instantiate model\n",
    "rf_mod = RandomForestRegressor(random_state=42)\n",
    "\n",
    "# Define GridSearchCV with multiple scoring metrics\n",
    "grid_search = GridSearchCV(\n",
    "    estimator=rf_mod, \n",
    "    param_grid=param_grid, \n",
    "    cv=5, \n",
    "    n_jobs=-1, \n",
    "    scoring='r2' # Grid search will optimize for r_squared\n",
    ")\n",
    "\n",
    "grid_search.fit(X_train_rest_te, y_train_rest_te)"
   ]
  },
  {
   "cell_type": "code",
   "execution_count": 27,
   "metadata": {},
   "outputs": [
    {
     "name": "stdout",
     "output_type": "stream",
     "text": [
      "Best Parameters: {'criterion': 'squared_error', 'max_depth': 5, 'min_samples_leaf': 6, 'min_samples_split': 2, 'n_estimators': 300}\n",
      "Best R-squared: 0.5450439968834677\n"
     ]
    }
   ],
   "source": [
    "# Best parameters and scores\n",
    "best_params = grid_search.best_params_\n",
    "best_r_squared = grid_search.best_score_\n",
    "print(f\"Best Parameters: {best_params}\")\n",
    "print(f\"Best R-squared: {best_r_squared}\")"
   ]
  },
  {
   "cell_type": "code",
   "execution_count": 31,
   "metadata": {},
   "outputs": [
    {
     "data": {
      "text/plain": [
       "{'RandomForestRegressor - NoneType - rest_train-2022test-te': {'RMSLE': 0.2984610220111602,\n",
       "  'R2': 0.48054203531776596,\n",
       "  'MAE': 0.7291129630267014,\n",
       "  'MSE': 6.864362502657316},\n",
       " 'RandomForestRegressor - NoneType - rest_train-2022test-te-gridcv_best': {'RMSLE': 0.2984610220111602,\n",
       "  'R2': 0.48054203531776596,\n",
       "  'MAE': 0.7291129630267014,\n",
       "  'MSE': 6.864362502657316}}"
      ]
     },
     "execution_count": 31,
     "metadata": {},
     "output_type": "execute_result"
    }
   ],
   "source": [
    "# Evaluate on the test set\n",
    "best_model = grid_search.best_estimator_\n",
    "reg_train_eval(best_model,\n",
    "               None,\n",
    "               X_train_rest_te,\n",
    "               y_train_rest_te,\n",
    "               X_test_2022_te,\n",
    "               y_test_2022_te,\n",
    "               reg_mod_metrics,\n",
    "               predictions,\n",
    "               year = \"rest_train-2022test-te-gridcv_best\")\n",
    "\n",
    "reg_mod_metrics['Test']"
   ]
  },
  {
   "cell_type": "code",
   "execution_count": 32,
   "metadata": {},
   "outputs": [
    {
     "data": {
      "image/png": "[encoded data removed]",
      "text/plain": [
       "<Figure size 700x300 with 2 Axes>"
      ]
     },
     "metadata": {},
     "output_type": "display_data"
    }
   ],
   "source": [
    "# Graph best results\n",
    "graph_results(predictions[\"RandomForestRegressor - NoneType - rest_train-2022test-te-gridcv_best\"][\"y_predict_train\"], \n",
    "              predictions[\"RandomForestRegressor - NoneType - rest_train-2022test-te-gridcv_best\"][\"y_predict\"], \n",
    "              y_train_rest_te, \n",
    "              y_test_2022_te)"
   ]
  }
 ],
 "metadata": {
  "kernelspec": {
   "display_name": "base",
   "language": "python",
   "name": "python3"
  },
  "language_info": {
   "codemirror_mode": {
    "name": "ipython",
    "version": 3
   },
   "file_extension": ".py",
   "mimetype": "text/x-python",
   "name": "python",
   "nbconvert_exporter": "python",
   "pygments_lexer": "ipython3",
   "version": "3.11.9"
  }
 },
 "nbformat": 4,
 "nbformat_minor": 2
}
