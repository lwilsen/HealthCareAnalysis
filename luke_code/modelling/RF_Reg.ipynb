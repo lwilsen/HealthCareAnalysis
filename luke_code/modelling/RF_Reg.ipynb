{
 "cells": [
  {
   "cell_type": "code",
   "execution_count": null,
   "metadata": {},
   "outputs": [],
   "source": [
    "'''This script is used to train a random forest regression model with the second training scheme I'm considering; the \n",
    "one that uses all previous data and aggregated yearly metrics for each beneficiary year.'''\n",
    "\n",
    "import numpy as np\n",
    "import pandas as pd\n",
    "from sklearn.ensemble import RandomForestRegressor\n",
    "from sklearn.preprocessing import OneHotEncoder\n",
    "from utils import (\n",
    "    describe_dataframe, df_train_test, graph_results, reg_train_eval\n",
    ")"
   ]
  },
  {
   "cell_type": "code",
   "execution_count": null,
   "metadata": {},
   "outputs": [],
   "source": [
    "main = pd.read_csv(\"../data/combo_data.csv\")\n",
    "main\n",
    "\n",
    "#Identify relevant columns\n",
    "select_cols = [\"LOS\" ,\n",
    "               \"YR\",  \n",
    "               \"PRNCPAL_DGNS_CD\", \n",
    "               \"CLM_IP_ADMSN_TYPE_CD\", \n",
    "               \"ER_flag\", \n",
    "               \"STATE_CODE\", \n",
    "               \"COUNTY_CD\", \n",
    "               \"BENE_RACE_CD\", \n",
    "               \"ESRD_IND\",\n",
    "               \"Age\", \n",
    "               \"TOT_RX_CST_AMT\", \n",
    "               \"NUM_DIAG\",\n",
    "               \"SEX_IDENT_CD\"]\n",
    "\n",
    "workingdf = main[select_cols]\n",
    "\n",
    "severe_codes = workingdf.loc[workingdf[\"LOS\"] > 10, \"PRNCPAL_DGNS_CD\"].unique()\n",
    "workingdf = workingdf.assign(SEV_FLAG=np.where(workingdf[\"PRNCPAL_DGNS_CD\"].isin(severe_codes), 1, 0))\n",
    "#Have to use severity flag (which could be determined in many ways) instead of PRCNPAL_DGNS_CD because PRNCP can't be used with regression\n",
    "workingdf = workingdf.assign(ESRD_IND = workingdf[\"ESRD_IND\"].map({\"Y\": 1, \"0\" : 0}))\n",
    "\n",
    "workingdf = workingdf.drop(columns=[\"PRNCPAL_DGNS_CD\"])"
   ]
  }
 ],
 "metadata": {
  "language_info": {
   "name": "python"
  }
 },
 "nbformat": 4,
 "nbformat_minor": 2
}
