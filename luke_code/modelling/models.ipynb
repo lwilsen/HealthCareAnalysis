{
 "cells": [
  {
   "cell_type": "code",
   "execution_count": 1,
   "metadata": {},
   "outputs": [],
   "source": [
    "import os\n",
    "import datetime\n",
    "import inspect\n",
    "\n",
    "import numpy as np\n",
    "import pandas as pd\n",
    "import matplotlib.pyplot as plt\n",
    "import seaborn as sns\n",
    "\n",
    "from sklearn.model_selection import train_test_split, learning_curve, GridSearchCV\n",
    "from sklearn.preprocessing import StandardScaler, MinMaxScaler, RobustScaler\n",
    "from sklearn.ensemble import RandomForestClassifier\n",
    "from sklearn.decomposition import PCA\n",
    "from sklearn.linear_model import LogisticRegression\n",
    "from sklearn.neighbors import KNeighborsClassifier\n",
    "from sklearn.svm import SVC, LinearSVC\n",
    "from sklearn.metrics import (\n",
    "    accuracy_score, confusion_matrix, classification_report, \n",
    "    roc_auc_score, roc_curve, auc, precision_recall_curve, f1_score\n",
    ")\n",
    "from sklearn.pipeline import Pipeline, make_pipeline\n",
    "from sklearn.feature_selection import SequentialFeatureSelector\n",
    "\n",
    "from statsmodels.stats.outliers_influence import variance_inflation_factor\n",
    "\n",
    "from utils import describe_dataframe, get_cont_enrolled, train_eval, piped_traineval\n",
    "\n"
   ]
  },
  {
   "cell_type": "code",
   "execution_count": 2,
   "metadata": {},
   "outputs": [],
   "source": [
    "main = pd.read_csv(\"../data/combo_data.csv\")"
   ]
  },
  {
   "cell_type": "code",
   "execution_count": 3,
   "metadata": {},
   "outputs": [],
   "source": [
    "select_cols = [\"LOS\" , \"PRNCPAL_DGNS_CD\", \"CLM_IP_ADMSN_TYPE_CD\", \"ER_flag\", \"STATE_CODE\", \"COUNTY_CD\", \"BENE_RACE_CD\", \"ESRD_IND\",\"AGE\", \"TOT_RX_CST_AMT\"]\n",
    "\n"
   ]
  },
  {
   "cell_type": "code",
   "execution_count": 4,
   "metadata": {},
   "outputs": [
    {
     "name": "stdout",
     "output_type": "stream",
     "text": [
      "def get_cont_enrolled(init_year, end_year, df):\n",
      "    '''Inputs a dataframe of CMS inpatient data and date range, and returns a dictionary of how many unique\n",
      "    id's there are per year, as well as a dictionary of those unique id's per year'''\n",
      "\n",
      "    select_years = df[df[\"YR\"] < end_year]\n",
      "\n",
      "    current_ids = select_years[select_years['YR'] == init_year]['BENE_ID'].unique()\n",
      "    num_ids = [len(current_ids)]\n",
      "    current_id_dict = {str(init_year): list(current_ids)}\n",
      "    \n",
      "    for year in range(init_year + 1, end_year):\n",
      "        current_ids = select_years[(select_years[\"BENE_ID\"].isin(current_ids)) & \n",
      "                                   (select_years['YR'] == year)][\"BENE_ID\"].unique()\n",
      "        num_ids.append(len(current_ids))\n",
      "        current_id_dict[str(year)] = list(current_ids)\n",
      "    \n",
      "    result = {\n",
      "        \"id_year_dict\": current_id_dict, \n",
      "        \"nunique_df\": pd.DataFrame({\"year\": range(init_year, end_year), \"n_unique\": num_ids})\n",
      "    }\n",
      "    return result\n",
      "\n"
     ]
    }
   ],
   "source": [
    "\n",
    "\n",
    "print(inspect.getsource(get_cont_enrolled))"
   ]
  }
 ],
 "metadata": {
  "kernelspec": {
   "display_name": "base",
   "language": "python",
   "name": "python3"
  },
  "language_info": {
   "codemirror_mode": {
    "name": "ipython",
    "version": 3
   },
   "file_extension": ".py",
   "mimetype": "text/x-python",
   "name": "python",
   "nbconvert_exporter": "python",
   "pygments_lexer": "ipython3",
   "version": "3.11.9"
  }
 },
 "nbformat": 4,
 "nbformat_minor": 2
}
