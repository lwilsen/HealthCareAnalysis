{
 "cells": [
  {
   "cell_type": "code",
   "execution_count": 2,
   "metadata": {},
   "outputs": [],
   "source": [
    "'''This script is going to perform xgboost regression on the training set created using \"scheme 2\" \n",
    "(see other documentation).'''\n",
    "\n",
    "import numpy as np\n",
    "import pandas as pd\n",
    "import xgboost as xgb\n",
    "from sklearn.ensemble import RandomForestRegressor\n",
    "from sklearn.preprocessing import OneHotEncoder, TargetEncoder\n",
    "from sklearn.metrics import (\n",
    "    mean_squared_error, mean_absolute_error, r2_score,\n",
    "    root_mean_squared_log_error\n",
    ")\n",
    "from sklearn.model_selection import GridSearchCV\n",
    "from utils import (\n",
    "    describe_dataframe, df_train_test, graph_results, reg_train_eval\n",
    ")"
   ]
  },
  {
   "cell_type": "code",
   "execution_count": null,
   "metadata": {},
   "outputs": [],
   "source": []
  },
  {
   "cell_type": "code",
   "execution_count": 3,
   "metadata": {},
   "outputs": [
    {
     "name": "stdout",
     "output_type": "stream",
     "text": [
      "(20867, 1)\n",
      "(20867,)\n"
     ]
    }
   ],
   "source": [
    "'''Data processing and feature engineering. This is done manually every time so that I can maintain customizability.'''\n",
    "\n",
    "main = pd.read_csv(\"../data/combo_data.csv\")\n",
    "main\n",
    "\n",
    "#Identify relevant columns\n",
    "select_cols = [\"LOS\" ,\n",
    "               \"YR\",  \n",
    "               \"PRNCPAL_DGNS_CD\", \n",
    "               \"CLM_IP_ADMSN_TYPE_CD\", \n",
    "               \"ER_flag\", \n",
    "               \"STATE_CODE\", \n",
    "               \"COUNTY_CD\", \n",
    "               \"BENE_RACE_CD\", \n",
    "               \"ESRD_IND\",\n",
    "               \"Age\", \n",
    "               \"TOT_RX_CST_AMT\", \n",
    "               \"NUM_DIAG\",\n",
    "               \"SEX_IDENT_CD\"]\n",
    "\n",
    "workingdf_te = main[select_cols].copy()\n",
    "\n",
    "prncpl_diag_col = pd.DataFrame(data = {\"PRNCPL_DGNS_CD\": workingdf_te.loc[:,\"PRNCPAL_DGNS_CD\"]})\n",
    "\n",
    "print(prncpl_diag_col.shape)\n",
    "\n",
    "los_col = workingdf_te.loc[:,\"LOS\"]\n",
    "\n",
    "print(los_col.shape)\n",
    "\n",
    "encoder = TargetEncoder(categories='auto', target_type='continuous', smooth='auto', cv=5, random_state=42)\n",
    "\n",
    "workingdf_te[\"PRNCPAL_DGNS_CD\"] = encoder.fit_transform(prncpl_diag_col, los_col)\n",
    "\n",
    "workingdf_te = workingdf_te.assign(ESRD_IND = workingdf_te[\"ESRD_IND\"].map({\"Y\": 1, \"0\" : 0}))\n",
    "\n",
    "wdf_rest_te = workingdf_te[workingdf_te[\"YR\"] < 2022]\n",
    "wdf_2022_te = workingdf_te[workingdf_te[\"YR\"] >= 2022]\n",
    "\n",
    "ohe = OneHotEncoder(sparse_output=False)\n",
    "\n",
    "ohe.fit(wdf_rest_te[['CLM_IP_ADMSN_TYPE_CD', \n",
    "                  'STATE_CODE', \n",
    "                  'BENE_RACE_CD', \n",
    "                  \"SEX_IDENT_CD\"]])\n",
    "\n",
    "ohe_df_rest_te = pd.DataFrame(data = ohe.transform(wdf_rest_te[['CLM_IP_ADMSN_TYPE_CD', \n",
    "                                                          'STATE_CODE', \n",
    "                                                          'BENE_RACE_CD',\n",
    "                                                          \"SEX_IDENT_CD\"]]), \n",
    "             columns=ohe.get_feature_names_out(wdf_rest_te[['CLM_IP_ADMSN_TYPE_CD', \n",
    "                                                         'STATE_CODE', \n",
    "                                                         'BENE_RACE_CD',\n",
    "                                                         \"SEX_IDENT_CD\"]].columns))\n",
    "\n",
    "ohe.fit(wdf_2022_te[['CLM_IP_ADMSN_TYPE_CD', \n",
    "                  'STATE_CODE', \n",
    "                  'BENE_RACE_CD', \n",
    "                  \"SEX_IDENT_CD\"]])\n",
    "ohe_df_2022_te = pd.DataFrame(data = ohe.transform(wdf_2022_te[['CLM_IP_ADMSN_TYPE_CD', \n",
    "                                                          'STATE_CODE', \n",
    "                                                          'BENE_RACE_CD',\n",
    "                                                          \"SEX_IDENT_CD\"]]), \n",
    "             columns=ohe.get_feature_names_out(wdf_2022_te[['CLM_IP_ADMSN_TYPE_CD', \n",
    "                                                         'STATE_CODE', \n",
    "                                                         'BENE_RACE_CD',\n",
    "                                                         \"SEX_IDENT_CD\"]].columns))\n",
    "\n",
    "#drop year, county code, all one hot encoded vars \n",
    "wdf_rest_te = wdf_rest_te.drop(columns=[\"YR\", \n",
    "                                  \"COUNTY_CD\", \n",
    "                                  'CLM_IP_ADMSN_TYPE_CD', \n",
    "                                  'STATE_CODE', \n",
    "                                  'BENE_RACE_CD',\n",
    "                                  \"SEX_IDENT_CD\"])\n",
    "wdf_2022_te = wdf_2022_te.drop(columns=[\"YR\", \n",
    "                                  \"COUNTY_CD\", \n",
    "                                  'CLM_IP_ADMSN_TYPE_CD', \n",
    "                                  'STATE_CODE', \n",
    "                                  'BENE_RACE_CD',\n",
    "                                  \"SEX_IDENT_CD\"])\n",
    "\n",
    "wdf_rest_te = pd.concat([wdf_rest_te.reset_index(drop=True), ohe_df_rest_te.reset_index(drop=True)], axis=1)\n",
    "wdf_2022_te = pd.concat([wdf_2022_te.reset_index(drop=True), ohe_df_2022_te.reset_index(drop=True)], axis=1)\n",
    "\n",
    "reg_mod_metrics = {\"Test\":{},\n",
    "                   \"Train\":{}}\n",
    "\n",
    "predictions = {}\n",
    "\n",
    "X_train_rest_te, X_test_rest_te, y_train_rest_te, y_test_rest_te = df_train_test(wdf_rest_te, \"LOS\", 0.2)\n",
    "\n",
    "X_train_2022_te, X_test_2022_te, y_train_2022_te, y_test_2022_te = df_train_test(wdf_2022_te, \"LOS\", 0.2)"
   ]
  },
  {
   "cell_type": "code",
   "execution_count": 4,
   "metadata": {},
   "outputs": [
    {
     "name": "stdout",
     "output_type": "stream",
     "text": [
      "[0]\teval-rmsle:0.57247\ttrain-rmsle:0.56399\n",
      "[1]\teval-rmsle:0.45720\ttrain-rmsle:0.44785\n",
      "Test RMSLE: 0.6776822805404663\n",
      "Test R2: 0.28062623739242554\n",
      "Test MAE: 1.4815725088119507\n",
      "Test MSE: 9.506142616271973\n"
     ]
    }
   ],
   "source": [
    "'''Transform pandas dataframes into xgboost DMMatrix objects.'''\n",
    "\n",
    "dtrain_rest_te = xgb.DMatrix(X_train_rest_te, label=y_train_rest_te)\n",
    "dtest_rest_te = xgb.DMatrix(X_test_rest_te, label=y_test_rest_te)\n",
    "dtrain_2022_te = xgb.DMatrix(X_train_2022_te, label=y_train_2022_te)\n",
    "dtest_2022_te = xgb.DMatrix(X_test_2022_te, label=y_test_2022_te)\n",
    "\n",
    "#params\n",
    "# default objective function: squared error\n",
    "params = {\"max_depth\": 5, \"eval_metric\":\"rmsle\"}\n",
    "\n",
    "#evals (specifies which sets are training and test)\n",
    "watchlist = [(dtest_rest_te, \"eval\"), (dtrain_rest_te, \"train\")]\n",
    "\n",
    "num_round = 2\n",
    "bst = xgb.train(params, dtrain_rest_te, num_boost_round=num_round, evals=watchlist)\n",
    "\n",
    "preds = bst.predict(dtest_2022_te).round()\n",
    "labels = dtest_2022_te.get_label()\n",
    "\n",
    "rmsle_test = root_mean_squared_log_error(labels, preds)\n",
    "r2_test = r2_score(labels, preds)\n",
    "mae_test = mean_absolute_error(labels, preds)\n",
    "mse_test = mean_squared_error(labels, preds)\n",
    "\n",
    "print(f\"Test RMSLE: {rmsle_test}\")\n",
    "print(f\"Test R2: {r2_test}\")\n",
    "print(f\"Test MAE: {mae_test}\")\n",
    "print(f\"Test MSE: {mse_test}\")\n",
    "\n"
   ]
  },
  {
   "cell_type": "code",
   "execution_count": 5,
   "metadata": {},
   "outputs": [
    {
     "name": "stdout",
     "output_type": "stream",
     "text": [
      "Best hyperparameters: {'learning_rate': 0.045354822141755805, 'max_depth': 4, 'n_estimators': 51, 'subsample': 0.6730326080921576}\n",
      "Best score: 0.533855390548706\n",
      "[0.09913564 0.09913564 2.7148943  ... 0.09913564 0.09913564 0.23162922]\n"
     ]
    }
   ],
   "source": [
    "from sklearn.model_selection import RandomizedSearchCV\n",
    "import scipy.stats as stats\n",
    "\n",
    "param_dist = {\n",
    "    'max_depth': stats.randint(3, 10),\n",
    "    'learning_rate': stats.uniform(0.01, 0.3),\n",
    "    'subsample': stats.uniform(0.5, 0.5),\n",
    "    'n_estimators': stats.randint(50, 300)\n",
    "}\n",
    "\n",
    "# XGBoost model with squared error loss (default regression)\n",
    "xgb_model = xgb.XGBRegressor(objective='reg:squarederror', random_state=42)\n",
    "\n",
    "# Set up RandomizedSearchCV\n",
    "random_search = RandomizedSearchCV(\n",
    "    xgb_model, \n",
    "    param_distributions=param_dist, \n",
    "    n_iter=20, \n",
    "    cv=5, \n",
    "    scoring='r2'\n",
    ")\n",
    "\n",
    "# Fit to training data\n",
    "random_search.fit(X_train_rest_te, y_train_rest_te)\n",
    "\n",
    "print(\"Best hyperparameters:\", random_search.best_params_)\n",
    "print(\"Best score:\", random_search.best_score_)\n",
    "\n",
    "# Make predictions on test set\n",
    "y_pred = random_search.best_estimator_.predict(X_test_rest_te)\n",
    "\n",
    "# Clip negative predictions to 0\n",
    "y_pred = np.clip(y_pred, 0, None)\n",
    "\n",
    "# Now you can evaluate performance or output predictions\n",
    "print(y_pred)"
   ]
  },
  {
   "cell_type": "code",
   "execution_count": 6,
   "metadata": {},
   "outputs": [],
   "source": [
    "#random_search.best_params_\n",
    "\n",
    "best_params = {'learning_rate': 0.04928091996137682,\n",
    " 'max_depth': 4,\n",
    " 'n_estimators': 111,\n",
    " 'subsample': 0.6643614397837909}"
   ]
  },
  {
   "cell_type": "code",
   "execution_count": 7,
   "metadata": {},
   "outputs": [
    {
     "data": {
      "text/plain": [
       "{'XGBRegressor - NoneType - rest_train-2022test-te-gridcv_best': {'RMSLE': 0.30969713047142367,\n",
       "  'R2': 0.4739733338356018,\n",
       "  'MAE': 0.7689482860761427,\n",
       "  'MSE': 6.951163206929393}}"
      ]
     },
     "execution_count": 7,
     "metadata": {},
     "output_type": "execute_result"
    }
   ],
   "source": [
    "best_model = xgb.XGBRegressor(objective='reg:squarederror', random_state=42, learning_rate = 0.04928091996137682,\n",
    "                               max_depth = 4,\n",
    "                               n_estimators = 111,\n",
    "                               subsample = 0.6643614397837909)\n",
    "reg_train_eval(best_model,\n",
    "               None,\n",
    "               X_train_rest_te,\n",
    "               y_train_rest_te,\n",
    "               X_test_2022_te,\n",
    "               y_test_2022_te,\n",
    "               reg_mod_metrics,\n",
    "               predictions,\n",
    "               year = \"rest_train-2022test-te-gridcv_best\")\n",
    "\n",
    "reg_mod_metrics['Test']"
   ]
  },
  {
   "cell_type": "code",
   "execution_count": 8,
   "metadata": {},
   "outputs": [
    {
     "name": "stdout",
     "output_type": "stream",
     "text": [
      "(20867, 1)\n",
      "(20867,)\n"
     ]
    }
   ],
   "source": [
    "# Target Encoding Diagnosis Codes\n",
    "\n",
    "workingdf_te = main[select_cols].copy()\n",
    "\n",
    "prncpl_diag_col = pd.DataFrame(data = {\"PRNCPL_DGNS_CD\": workingdf_te.loc[:,\"PRNCPAL_DGNS_CD\"]})\n",
    "\n",
    "print(prncpl_diag_col.shape)\n",
    "\n",
    "los_col = workingdf_te.loc[:,\"LOS\"]\n",
    "\n",
    "print(los_col.shape)\n",
    "\n",
    "encoder = TargetEncoder(categories='auto', target_type='continuous', smooth='auto', cv=5, random_state=42)\n",
    "\n",
    "workingdf_te[\"PRNCPAL_DGNS_CD\"] = encoder.fit_transform(prncpl_diag_col, los_col)\n",
    "\n",
    "workingdf_te\n",
    "\n",
    "workingdf_te = workingdf_te.assign(ESRD_IND = workingdf_te[\"ESRD_IND\"].map({\"Y\": 1, \"0\" : 0}))\n",
    "\n",
    "wdf_rest_te = workingdf_te[workingdf_te[\"YR\"] < 2022]\n",
    "wdf_2023_te = workingdf_te[workingdf_te[\"YR\"] >= 2022]\n",
    "\n",
    "ohe = OneHotEncoder(sparse_output=False)\n",
    "\n",
    "ohe.fit(wdf_rest_te[['CLM_IP_ADMSN_TYPE_CD', \n",
    "                  'STATE_CODE', \n",
    "                  'BENE_RACE_CD', \n",
    "                  \"SEX_IDENT_CD\"]])\n",
    "\n",
    "ohe_df_rest_te = pd.DataFrame(data = ohe.transform(wdf_rest_te[['CLM_IP_ADMSN_TYPE_CD', \n",
    "                                                          'STATE_CODE', \n",
    "                                                          'BENE_RACE_CD',\n",
    "                                                          \"SEX_IDENT_CD\"]]), \n",
    "             columns=ohe.get_feature_names_out(wdf_rest_te[['CLM_IP_ADMSN_TYPE_CD', \n",
    "                                                         'STATE_CODE', \n",
    "                                                         'BENE_RACE_CD',\n",
    "                                                         \"SEX_IDENT_CD\"]].columns))\n",
    "\n",
    "ohe.fit(wdf_2023_te[['CLM_IP_ADMSN_TYPE_CD', \n",
    "                  'STATE_CODE', \n",
    "                  'BENE_RACE_CD', \n",
    "                  \"SEX_IDENT_CD\"]])\n",
    "ohe_df_2023_te = pd.DataFrame(data = ohe.transform(wdf_2023_te[['CLM_IP_ADMSN_TYPE_CD', \n",
    "                                                          'STATE_CODE', \n",
    "                                                          'BENE_RACE_CD',\n",
    "                                                          \"SEX_IDENT_CD\"]]), \n",
    "             columns=ohe.get_feature_names_out(wdf_2023_te[['CLM_IP_ADMSN_TYPE_CD', \n",
    "                                                         'STATE_CODE', \n",
    "                                                         'BENE_RACE_CD',\n",
    "                                                         \"SEX_IDENT_CD\"]].columns))\n",
    "\n",
    "#drop year, county code, all one hot encoded vars \n",
    "wdf_rest_te = wdf_rest_te.drop(columns=[\"YR\", \n",
    "                                  \"COUNTY_CD\", \n",
    "                                  'CLM_IP_ADMSN_TYPE_CD', \n",
    "                                  'STATE_CODE', \n",
    "                                  'BENE_RACE_CD',\n",
    "                                  \"SEX_IDENT_CD\"])\n",
    "wdf_2023_te = wdf_2023_te.drop(columns=[\"YR\", \n",
    "                                  \"COUNTY_CD\", \n",
    "                                  'CLM_IP_ADMSN_TYPE_CD', \n",
    "                                  'STATE_CODE', \n",
    "                                  'BENE_RACE_CD',\n",
    "                                  \"SEX_IDENT_CD\"])\n",
    "\n",
    "wdf_rest_te = pd.concat([wdf_rest_te.reset_index(drop=True), ohe_df_rest_te.reset_index(drop=True)], axis=1)\n",
    "wdf_2023_te = pd.concat([wdf_2023_te.reset_index(drop=True), ohe_df_2023_te.reset_index(drop=True)], axis=1)"
   ]
  },
  {
   "cell_type": "code",
   "execution_count": 9,
   "metadata": {},
   "outputs": [],
   "source": [
    "X_train_rest_te, X_test_rest_te, y_train_rest_te, y_test_rest_te = df_train_test(wdf_rest_te, \"LOS\", 0.2)\n",
    "\n",
    "X_train_2022_te, X_test_2022_te, y_train_2022_te, y_test_2022_te = df_train_test(wdf_2023_te, \"LOS\", 0.2)"
   ]
  },
  {
   "cell_type": "code",
   "execution_count": 10,
   "metadata": {},
   "outputs": [
    {
     "name": "stdout",
     "output_type": "stream",
     "text": [
      "Best hyperparameters: {'learning_rate': 0.017079211753633243, 'max_depth': 6, 'n_estimators': 293, 'subsample': 0.7616578158156807}\n",
      "Best score: 0.511291241645813\n",
      "[0.00636277 0.01490354 3.372079   ... 0.00554755 0.00836424 0.6275119 ]\n"
     ]
    }
   ],
   "source": [
    "from sklearn.model_selection import RandomizedSearchCV\n",
    "import scipy.stats as stats\n",
    "\n",
    "param_dist = {\n",
    "    'max_depth': stats.randint(3, 10),\n",
    "    'learning_rate': stats.uniform(0.01, 0.3),\n",
    "    'subsample': stats.uniform(0.5, 0.5),\n",
    "    'n_estimators': stats.randint(50, 300)\n",
    "}\n",
    "\n",
    "# XGBoost model with squared error loss (default regression)\n",
    "xgb_model = xgb.XGBRegressor(objective='reg:squarederror', random_state=42)\n",
    "\n",
    "# Set up RandomizedSearchCV\n",
    "random_search = RandomizedSearchCV(\n",
    "    xgb_model, \n",
    "    param_distributions=param_dist, \n",
    "    n_iter=20, \n",
    "    cv=5, \n",
    "    scoring='r2'\n",
    ")\n",
    "\n",
    "# Fit to training data\n",
    "random_search.fit(X_train_rest_te, y_train_rest_te)\n",
    "\n",
    "print(\"Best hyperparameters:\", random_search.best_params_)\n",
    "print(\"Best score:\", random_search.best_score_)\n",
    "\n",
    "# Make predictions on test set\n",
    "y_pred = random_search.best_estimator_.predict(X_test_rest_te)\n",
    "\n",
    "# Clip negative predictions to 0\n",
    "y_pred = np.clip(y_pred, 0, None)\n",
    "\n",
    "# Now you can evaluate performance or output predictions\n",
    "print(y_pred)"
   ]
  },
  {
   "cell_type": "code",
   "execution_count": 11,
   "metadata": {},
   "outputs": [
    {
     "data": {
      "text/plain": [
       "{'learning_rate': 0.017079211753633243,\n",
       " 'max_depth': 6,\n",
       " 'n_estimators': 293,\n",
       " 'subsample': 0.7616578158156807}"
      ]
     },
     "execution_count": 11,
     "metadata": {},
     "output_type": "execute_result"
    }
   ],
   "source": [
    "random_search.best_params_"
   ]
  },
  {
   "cell_type": "code",
   "execution_count": null,
   "metadata": {},
   "outputs": [
    {
     "data": {
      "text/plain": [
       "{'XGBRegressor - NoneType - rest_train-2022test-te-gridcv_best': {'RMSLE': 0.3015823299857391,\n",
       "  'R2': 0.4891522526741028,\n",
       "  'MAE': 0.7533036715323014,\n",
       "  'MSE': 6.7505823669407015}}"
      ]
     },
     "execution_count": 13,
     "metadata": {},
     "output_type": "execute_result"
    }
   ],
   "source": [
    "best_model = xgb.XGBRegressor(objective='reg:squarederror', random_state=42, learning_rate = 0.017079211753633243,\n",
    "                               max_depth = 6,\n",
    "                               n_estimators = 293,\n",
    "                               subsample = 0.7616578158156807)\n",
    "reg_train_eval(best_model,\n",
    "               None,\n",
    "               X_train_rest_te,\n",
    "               y_train_rest_te,\n",
    "               X_test_2022_te,\n",
    "               y_test_2022_te,\n",
    "               reg_mod_metrics,\n",
    "               predictions,\n",
    "               year = \"rest_train-2022test-te-gridcv_best\")\n",
    "\n",
    "reg_mod_metrics['Test']"
   ]
  }
 ],
 "metadata": {
  "kernelspec": {
   "display_name": "base",
   "language": "python",
   "name": "python3"
  },
  "language_info": {
   "codemirror_mode": {
    "name": "ipython",
    "version": 3
   },
   "file_extension": ".py",
   "mimetype": "text/x-python",
   "name": "python",
   "nbconvert_exporter": "python",
   "pygments_lexer": "ipython3",
   "version": "3.11.9"
  }
 },
 "nbformat": 4,
 "nbformat_minor": 2
}
