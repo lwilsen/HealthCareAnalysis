{
 "cells": [
  {
   "cell_type": "code",
   "execution_count": null,
   "metadata": {},
   "outputs": [],
   "source": [
    "'''This script is going to create a model to differentiate cases into differnt categories.\n",
    "Unsupervised learning will be used to create the categories.\n",
    "The reasoning behind this, is to be able to assign each observation to a category, and then create a custom\n",
    "regression model for each category to predict the LOS.'''\n",
    "import numpy as np\n",
    "import pandas as pd\n",
    "from sklearn.ensemble import RandomForestRegressor\n",
    "from sklearn.preprocessing import OneHotEncoder, TargetEncoder\n",
    "from sklearn.model_selection import GridSearchCV, RandomizedSearchCV\n",
    "from sklearn.decomposition import PCA\n",
    "from sklearn.cluster import KMeans\n",
    "from scipy import stats\n",
    "import matplotlib.pyplot as plt\n",
    "import seaborn as sns\n",
    "from utils import (\n",
    "    describe_dataframe, df_train_test, graph_results, reg_train_eval\n",
    ")"
   ]
  },
  {
   "cell_type": "code",
   "execution_count": 27,
   "metadata": {},
   "outputs": [
    {
     "name": "stdout",
     "output_type": "stream",
     "text": [
      "(20867, 1)\n",
      "(20867,)\n"
     ]
    }
   ],
   "source": [
    "main = pd.read_csv(\"../data/combo_data.csv\")\n",
    "main\n",
    "\n",
    "#Identify relevant columns\n",
    "select_cols = [\"LOS\" ,\n",
    "               \"YR\",  \n",
    "               \"PRNCPAL_DGNS_CD\", \n",
    "               \"CLM_IP_ADMSN_TYPE_CD\", \n",
    "               \"ER_flag\", \n",
    "               \"STATE_CODE\", \n",
    "               \"COUNTY_CD\", \n",
    "               \"BENE_RACE_CD\", \n",
    "               \"ESRD_IND\",\n",
    "               \"Age\", \n",
    "               \"TOT_RX_CST_AMT\", \n",
    "               \"NUM_DIAG\",\n",
    "               \"SEX_IDENT_CD\"]\n",
    "\n",
    "workingdf_te = main[select_cols].copy()\n",
    "\n",
    "prncpl_diag_col = pd.DataFrame(data = {\"PRNCPL_DGNS_CD\": workingdf_te.loc[:,\"PRNCPAL_DGNS_CD\"]})\n",
    "\n",
    "print(prncpl_diag_col.shape)\n",
    "\n",
    "los_col = workingdf_te.loc[:,\"LOS\"]\n",
    "\n",
    "print(los_col.shape)\n",
    "\n",
    "encoder = TargetEncoder(categories='auto', target_type='continuous', smooth='auto', cv=5, random_state=42)\n",
    "\n",
    "workingdf_te[\"PRNCPAL_DGNS_CD\"] = encoder.fit_transform(prncpl_diag_col, los_col)\n",
    "\n",
    "workingdf_te = workingdf_te.assign(ESRD_IND = workingdf_te[\"ESRD_IND\"].map({\"Y\": 1, \"0\" : 0}))\n",
    "\n",
    "wdf_rest_te = workingdf_te[workingdf_te[\"YR\"] < 2022]\n",
    "wdf_2022_te = workingdf_te[workingdf_te[\"YR\"] >= 2022]\n",
    "\n",
    "ohe = OneHotEncoder(sparse_output=False)\n",
    "\n",
    "ohe.fit(wdf_rest_te[['CLM_IP_ADMSN_TYPE_CD', \n",
    "                  'STATE_CODE', \n",
    "                  'BENE_RACE_CD', \n",
    "                  \"SEX_IDENT_CD\"]])\n",
    "\n",
    "ohe_df_rest_te = pd.DataFrame(data = ohe.transform(wdf_rest_te[['CLM_IP_ADMSN_TYPE_CD', \n",
    "                                                          'STATE_CODE', \n",
    "                                                          'BENE_RACE_CD',\n",
    "                                                          \"SEX_IDENT_CD\"]]), \n",
    "             columns=ohe.get_feature_names_out(wdf_rest_te[['CLM_IP_ADMSN_TYPE_CD', \n",
    "                                                         'STATE_CODE', \n",
    "                                                         'BENE_RACE_CD',\n",
    "                                                         \"SEX_IDENT_CD\"]].columns))\n",
    "\n",
    "ohe.fit(wdf_2022_te[['CLM_IP_ADMSN_TYPE_CD', \n",
    "                  'STATE_CODE', \n",
    "                  'BENE_RACE_CD', \n",
    "                  \"SEX_IDENT_CD\"]])\n",
    "ohe_df_2022_te = pd.DataFrame(data = ohe.transform(wdf_2022_te[['CLM_IP_ADMSN_TYPE_CD', \n",
    "                                                          'STATE_CODE', \n",
    "                                                          'BENE_RACE_CD',\n",
    "                                                          \"SEX_IDENT_CD\"]]), \n",
    "             columns=ohe.get_feature_names_out(wdf_2022_te[['CLM_IP_ADMSN_TYPE_CD', \n",
    "                                                         'STATE_CODE', \n",
    "                                                         'BENE_RACE_CD',\n",
    "                                                         \"SEX_IDENT_CD\"]].columns))\n",
    "\n",
    "#drop year, county code, all one hot encoded vars \n",
    "wdf_rest_te = wdf_rest_te.drop(columns=[\"YR\", \n",
    "                                  \"COUNTY_CD\", \n",
    "                                  'CLM_IP_ADMSN_TYPE_CD', \n",
    "                                  'STATE_CODE', \n",
    "                                  'BENE_RACE_CD',\n",
    "                                  \"SEX_IDENT_CD\"])\n",
    "wdf_2022_te = wdf_2022_te.drop(columns=[\"YR\", \n",
    "                                  \"COUNTY_CD\", \n",
    "                                  'CLM_IP_ADMSN_TYPE_CD', \n",
    "                                  'STATE_CODE', \n",
    "                                  'BENE_RACE_CD',\n",
    "                                  \"SEX_IDENT_CD\"])\n",
    "\n",
    "wdf_rest_te = pd.concat([wdf_rest_te.reset_index(drop=True), ohe_df_rest_te.reset_index(drop=True)], axis=1)\n",
    "wdf_2022_te = pd.concat([wdf_2022_te.reset_index(drop=True), ohe_df_2022_te.reset_index(drop=True)], axis=1)\n",
    "\n",
    "reg_mod_metrics = {\"Test\":{},\n",
    "                   \"Train\":{}}\n",
    "\n",
    "predictions = {}\n",
    "\n",
    "X_train_rest_te, X_test_rest_te, y_train_rest_te, y_test_rest_te = df_train_test(wdf_rest_te, \"LOS\", 0.2)\n",
    "\n",
    "X_train_2022_te, X_test_2022_te, y_train_2022_te, y_test_2022_te = df_train_test(wdf_2022_te, \"LOS\", 0.2)"
   ]
  },
  {
   "cell_type": "code",
   "execution_count": null,
   "metadata": {},
   "outputs": [],
   "source": [
    "#Scaling\n",
    "#scaler = StandardScaler()\n",
    "#X_train_rest_te = scaler.fit_transform(X_train_rest_te)\n",
    "#X_test_rest_te = scaler.transform(X_test_rest_te)\n",
    "#X_train_2022_te = scaler.fit_transform(X_train_2022_te)\n",
    "#X_test_2022_te = scaler.transform(X_test_2022_te)"
   ]
  },
  {
   "cell_type": "code",
   "execution_count": 28,
   "metadata": {},
   "outputs": [
    {
     "data": {
      "text/plain": [
       "68"
      ]
     },
     "execution_count": 28,
     "metadata": {},
     "output_type": "execute_result"
    }
   ],
   "source": [
    "X_train_2022_te.shape[1]"
   ]
  },
  {
   "cell_type": "code",
   "execution_count": 29,
   "metadata": {},
   "outputs": [
    {
     "data": {
      "text/plain": [
       "[<matplotlib.lines.Line2D at 0x153194590>]"
      ]
     },
     "execution_count": 29,
     "metadata": {},
     "output_type": "execute_result"
    },
    {
     "data": {
      "image/png": "[encoded data removed]",
      "text/plain": [
       "<Figure size 1000x800 with 1 Axes>"
      ]
     },
     "metadata": {},
     "output_type": "display_data"
    }
   ],
   "source": [
    "#PCA\n",
    "pca = PCA()\n",
    "pca.fit(X_train_rest_te)\n",
    "pca.explained_variance_ratio_\n",
    "plt.figure(figsize = (10,8))\n",
    "plt.plot(range(1,X_train_rest_te.shape[1]+1), pca.explained_variance_ratio_.cumsum(), marker = 'o')"
   ]
  },
  {
   "cell_type": "code",
   "execution_count": 30,
   "metadata": {},
   "outputs": [
    {
     "data": {
      "text/plain": [
       "[<matplotlib.lines.Line2D at 0x15f33c050>]"
      ]
     },
     "execution_count": 30,
     "metadata": {},
     "output_type": "execute_result"
    },
    {
     "data": {
      "image/png": "[encoded data removed]",
      "text/plain": [
       "<Figure size 640x480 with 1 Axes>"
      ]
     },
     "metadata": {},
     "output_type": "display_data"
    }
   ],
   "source": [
    "pca = PCA(n_components=63) #information gain after n_components>63 is negligible\n",
    "pca.fit(X_train_rest_te)\n",
    "scores_pca = pca.transform(X_train_rest_te)\n",
    "wcss = []\n",
    "for i in range(1,61):\n",
    "    kmeans_pca = KMeans(n_clusters=i, init='k-means++', random_state=42)\n",
    "    kmeans_pca.fit(scores_pca)\n",
    "    wcss.append(kmeans_pca.inertia_)\n",
    "\n",
    "plt.plot(range(1,61), wcss, marker = 'o')\n",
    "# Looks like 50 something clusters is the best choice, but that is clinically unreasonable (maybe?)\n"
   ]
  },
  {
   "cell_type": "code",
   "execution_count": 37,
   "metadata": {},
   "outputs": [
    {
     "name": "stdout",
     "output_type": "stream",
     "text": [
      "(20867, 1)\n",
      "(20867,)\n"
     ]
    },
    {
     "data": {
      "text/plain": [
       "[<matplotlib.lines.Line2D at 0x15f6e4090>]"
      ]
     },
     "execution_count": 37,
     "metadata": {},
     "output_type": "execute_result"
    },
    {
     "data": {
      "image/png": "[encoded data removed]",
      "text/plain": [
       "<Figure size 1000x800 with 1 Axes>"
      ]
     },
     "metadata": {},
     "output_type": "display_data"
    }
   ],
   "source": [
    "main = pd.read_csv(\"../data/combo_data.csv\")\n",
    "main\n",
    "\n",
    "#Identify relevant columns\n",
    "select_cols = [\"LOS\" ,\n",
    "               \"YR\",  \n",
    "               \"PRNCPAL_DGNS_CD\", \n",
    "               \"CLM_IP_ADMSN_TYPE_CD\", \n",
    "               \"ER_flag\", \n",
    "               \"STATE_CODE\", \n",
    "               \"COUNTY_CD\", \n",
    "               \"BENE_RACE_CD\", \n",
    "               \"ESRD_IND\",\n",
    "               \"Age\", \n",
    "               \"TOT_RX_CST_AMT\", \n",
    "               \"NUM_DIAG\",\n",
    "               \"SEX_IDENT_CD\"]\n",
    "\n",
    "workingdf_te = main[select_cols].copy()\n",
    "\n",
    "prncpl_diag_col = pd.DataFrame(data = {\"PRNCPL_DGNS_CD\": workingdf_te.loc[:,\"PRNCPAL_DGNS_CD\"]})\n",
    "\n",
    "print(prncpl_diag_col.shape)\n",
    "\n",
    "los_col = workingdf_te.loc[:,\"LOS\"]\n",
    "\n",
    "print(los_col.shape)\n",
    "\n",
    "encoder = TargetEncoder(categories='auto', target_type='continuous', smooth='auto', cv=5, random_state=42)\n",
    "\n",
    "workingdf_te[\"PRNCPAL_DGNS_CD\"] = encoder.fit_transform(prncpl_diag_col, los_col)\n",
    "\n",
    "workingdf_te = workingdf_te.assign(ESRD_IND = workingdf_te[\"ESRD_IND\"].map({\"Y\": 1, \"0\" : 0}))\n",
    "\n",
    "wdf_rest_te = workingdf_te[workingdf_te[\"YR\"] < 2022]\n",
    "wdf_2022_te = workingdf_te[workingdf_te[\"YR\"] >= 2022]\n",
    "\n",
    "ohe = OneHotEncoder(sparse_output=False)\n",
    "\n",
    "ohe.fit(wdf_rest_te[['CLM_IP_ADMSN_TYPE_CD', \n",
    "                  'BENE_RACE_CD', \n",
    "                  \"SEX_IDENT_CD\"]])\n",
    "\n",
    "ohe_df_rest_te = pd.DataFrame(data = ohe.transform(wdf_rest_te[['CLM_IP_ADMSN_TYPE_CD', \n",
    "                                                          'BENE_RACE_CD',\n",
    "                                                          \"SEX_IDENT_CD\"]]), \n",
    "             columns=ohe.get_feature_names_out(wdf_rest_te[['CLM_IP_ADMSN_TYPE_CD', \n",
    "                                                         'BENE_RACE_CD',\n",
    "                                                         \"SEX_IDENT_CD\"]].columns))\n",
    "\n",
    "ohe.fit(wdf_2022_te[['CLM_IP_ADMSN_TYPE_CD', \n",
    "                  'BENE_RACE_CD', \n",
    "                  \"SEX_IDENT_CD\"]])\n",
    "ohe_df_2022_te = pd.DataFrame(data = ohe.transform(wdf_2022_te[['CLM_IP_ADMSN_TYPE_CD', \n",
    "                                                          'BENE_RACE_CD',\n",
    "                                                          \"SEX_IDENT_CD\"]]), \n",
    "             columns=ohe.get_feature_names_out(wdf_2022_te[['CLM_IP_ADMSN_TYPE_CD', \n",
    "                                                         'BENE_RACE_CD',\n",
    "                                                         \"SEX_IDENT_CD\"]].columns))\n",
    "\n",
    "#drop year, county code, all one hot encoded vars \n",
    "no_state_wdf_rest_te = wdf_rest_te.drop(columns=[\"YR\", \n",
    "                                  \"COUNTY_CD\", \n",
    "                                  'CLM_IP_ADMSN_TYPE_CD', \n",
    "                                  'STATE_CODE', \n",
    "                                  'BENE_RACE_CD',\n",
    "                                  \"SEX_IDENT_CD\"])\n",
    "no_state_wdf_2022_te = wdf_2022_te.drop(columns=[\"YR\", \n",
    "                                  \"COUNTY_CD\", \n",
    "                                  'CLM_IP_ADMSN_TYPE_CD', \n",
    "                                  'STATE_CODE', \n",
    "                                  'BENE_RACE_CD',\n",
    "                                  \"SEX_IDENT_CD\"])\n",
    "\n",
    "X_train_rest_te, X_test_rest_te, y_train_rest_te, y_test_rest_te = df_train_test(no_state_wdf_rest_te, \"LOS\", 0.2)\n",
    "X_train_2022_te, X_test_2022_te, y_train_2022_te, y_test_2022_te = df_train_test(no_state_wdf_2022_te, \"LOS\", 0.2)\n",
    "\n",
    "\n",
    "#scaler = StandardScaler()\n",
    "#X_train_rest_te = scaler.fit_transform(X_train_rest_te)\n",
    "#X_test_rest_te = scaler.transform(X_test_rest_te)\n",
    "#X_train_2022_te = scaler.fit_transform(X_train_2022_te)\n",
    "#X_test_2022_te = scaler.transform(X_test_2022_te)\n",
    "\n",
    "pca = PCA()\n",
    "pca.fit(X_train_rest_te)\n",
    "pca.explained_variance_ratio_\n",
    "plt.figure(figsize = (10,8))\n",
    "plt.plot(range(1,X_train_rest_te.shape[1]+1), pca.explained_variance_ratio_.cumsum(), marker = 'o')"
   ]
  },
  {
   "cell_type": "code",
   "execution_count": null,
   "metadata": {},
   "outputs": [
    {
     "data": {
      "text/plain": [
       "[<matplotlib.lines.Line2D at 0x15fbcbd90>]"
      ]
     },
     "execution_count": 48,
     "metadata": {},
     "output_type": "execute_result"
    },
    {
     "data": {
      "image/png": "[encoded data removed]",
      "text/plain": [
       "<Figure size 640x480 with 1 Axes>"
      ]
     },
     "metadata": {},
     "output_type": "display_data"
    }
   ],
   "source": [
    "pca = PCA(n_components=3) \n",
    "pca.fit(X_train_rest_te)\n",
    "scores_pca = pca.transform(X_train_rest_te)\n",
    "scores_pca_2022 = pca.transform(X_train_2022_te)\n",
    "wcss = []\n",
    "for i in range(1,7):\n",
    "    kmeans_pca = KMeans(n_clusters=i, init='k-means++', random_state=42)\n",
    "    kmeans_pca.fit(scores_pca)\n",
    "    wcss.append(kmeans_pca.inertia_)\n",
    "\n",
    "plt.plot(range(1,7), wcss, marker = 'o')\n",
    "# Looks like 50 something clusters is the best choice, but that is clinically unreasonable (maybe?)"
   ]
  },
  {
   "cell_type": "code",
   "execution_count": null,
   "metadata": {},
   "outputs": [],
   "source": [
    "# Choosing 2 clusters (based on data with and without state)\n",
    "\n",
    "kmeans_pca = KMeans(n_clusters=2, init='k-means++', random_state=42)\n",
    "\n",
    "kmeans_pca.fit(scores_pca)\n",
    "X_train_rest_te['kmeans_cluster'] = kmeans_pca.labels_\n",
    "\n",
    "kmeans_pca.fit(scores_pca_2022)\n",
    "X_test_2022_te['kmeans_cluster'] = kmeans_pca.labels_"
   ]
  },
  {
   "cell_type": "code",
   "execution_count": null,
   "metadata": {},
   "outputs": [
    {
     "data": {
      "text/plain": [
       "6191     1\n",
       "9725     0\n",
       "17799    0\n",
       "20733    1\n",
       "12041    1\n",
       "        ..\n",
       "7740     0\n",
       "13971    0\n",
       "14817    0\n",
       "6621     0\n",
       "19619    0\n",
       "Name: LOS, Length: 12988, dtype: int64"
      ]
     },
     "execution_count": 57,
     "metadata": {},
     "output_type": "execute_result"
    }
   ],
   "source": [
    "# Rest of the data\n",
    "x_train_rest_te_0 = X_train_rest_te[X_train_rest_te[\"kmeans_cluster\"] == 0]\n",
    "y_train_rest_te_0 = y_train_rest_te[X_train_rest_te[X_train_rest_te[\"kmeans_cluster\"] == 0].index]\n",
    "\n",
    "x_train_rest_te_1 = X_train_rest_te[X_train_rest_te[\"kmeans_cluster\"] == 1]\n",
    "y_train_rest_te_1 = y_train_rest_te[X_train_rest_te[X_train_rest_te[\"kmeans_cluster\"] == 1].index]\n",
    "\n",
    "# 2022 + data\n",
    "x_test_2022_te_0 = X_test_2022_te[X_test_2022_te[\"kmeans_cluster\"] == 0]\n",
    "y_test_2022_te_0 = y_test_2022_te[X_test_2022_te[X_test_2022_te[\"kmeans_cluster\"] == 0].index]"
   ]
  },
  {
   "cell_type": "code",
   "execution_count": null,
   "metadata": {},
   "outputs": [],
   "source": [
    "param_grid = {\n",
    "    'n_estimators': [100, 200, 300],\n",
    "    'max_depth': [3, 5, 10, None],\n",
    "    'min_samples_split': [2, 5, 10],\n",
    "    'min_samples_leaf': [2, 4, 6],\n",
    "    'criterion': ['squared_error']  # 'mse' is deprecated, use 'squared_error'\n",
    "}\n",
    "\n",
    "# Instantiate model\n",
    "rf_mod = RandomForestRegressor(random_state=42)\n",
    "\n",
    "# Define GridSearchCV with multiple scoring metrics\n",
    "grid_search = GridSearchCV(\n",
    "    estimator=rf_mod, \n",
    "    param_grid=param_grid, \n",
    "    cv=5, \n",
    "    n_jobs=-1, \n",
    "    scoring='r2' # Grid search will optimize for r_squared\n",
    ")\n",
    "\n",
    "grid_search.fit(x_train_rest_te_0, y_train_rest_te_0)"
   ]
  },
  {
   "cell_type": "code",
   "execution_count": null,
   "metadata": {},
   "outputs": [],
   "source": [
    "best_params = grid_search.best_params_\n",
    "best_r_squared = grid_search.best_score_\n",
    "print(f\"Best Parameters: {best_params}\")\n",
    "print(f\"Best R-squared: {best_r_squared}\")\n",
    "\n",
    "best_model = RandomForestRegressor(max_depth=5, \n",
    "                                   min_samples_split= 2,\n",
    "                                   min_samples_leaf=6, \n",
    "                                   n_estimators=300,\n",
    "                                   criterion=\"squared_error\",\n",
    "                                   random_state=42)\n",
    "reg_train_eval(best_model,\n",
    "               None,\n",
    "               x_train_rest_te_0,\n",
    "               y_train_rest_te_0,\n",
    "               x_test_2022_te_0,\n",
    "               y_test_2022_te_0,\n",
    "               reg_mod_metrics,\n",
    "               predictions,\n",
    "               year = \"rest_train-2022test-te-std-gridcv_best\")\n",
    "\n",
    "reg_mod_metrics['Test']"
   ]
  },
  {
   "cell_type": "code",
   "execution_count": null,
   "metadata": {},
   "outputs": [],
   "source": [
    "param_dist = {\n",
    "    'max_depth': stats.randint(3, 10),\n",
    "    'learning_rate': stats.uniform(0.01, 0.3),\n",
    "    'subsample': stats.uniform(0.5, 0.5),\n",
    "    'n_estimators': stats.randint(50, 300)\n",
    "}\n",
    "\n",
    "rf_mod = RandomForestRegressor(random_state=42)\n",
    "\n",
    "random_search = RandomizedSearchCV(\n",
    "    rf_mod, \n",
    "    param_distributions=param_dist, \n",
    "    n_iter=20, \n",
    "    cv=5, \n",
    "    scoring='r2'\n",
    ")"
   ]
  }
 ],
 "metadata": {
  "kernelspec": {
   "display_name": "base",
   "language": "python",
   "name": "python3"
  },
  "language_info": {
   "codemirror_mode": {
    "name": "ipython",
    "version": 3
   },
   "file_extension": ".py",
   "mimetype": "text/x-python",
   "name": "python",
   "nbconvert_exporter": "python",
   "pygments_lexer": "ipython3",
   "version": "3.11.9"
  }
 },
 "nbformat": 4,
 "nbformat_minor": 2
}
