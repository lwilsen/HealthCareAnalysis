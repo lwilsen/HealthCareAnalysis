{
 "cells": [
  {
   "cell_type": "code",
   "execution_count": 12,
   "metadata": {
    "colab": {
     "base_uri": "https://localhost:8080/"
    },
    "executionInfo": {
     "elapsed": 574,
     "status": "ok",
     "timestamp": 1740498904695,
     "user": {
      "displayName": "Luke Wilsen",
      "userId": "08296025252065350541"
     },
     "user_tz": 300
    },
    "id": "H1RGoX4I5Es6",
    "outputId": "bcdc3a2b-ff92-431c-fca8-ba397af0a879"
   },
   "outputs": [],
   "source": [
    "import pandas as pd\n",
    "import numpy as np\n",
    "np.set_printoptions(threshold=np.inf)\n",
    "import matplotlib.pyplot as plt\n",
    "import seaborn as sns\n",
    "from datetime import datetime\n",
    "import os"
   ]
  },
  {
   "cell_type": "code",
   "execution_count": 13,
   "metadata": {},
   "outputs": [
    {
     "name": "stdout",
     "output_type": "stream",
     "text": [
      "/Users/lukewilsen/Desktop/School/BS_696_ind_study/HealthCareAnalysis/luke_code\n"
     ]
    }
   ],
   "source": [
    "print(os.getcwd())"
   ]
  },
  {
   "cell_type": "code",
   "execution_count": 14,
   "metadata": {
    "colab": {
     "base_uri": "https://localhost:8080/"
    },
    "executionInfo": {
     "elapsed": 1603,
     "status": "ok",
     "timestamp": 1740498906296,
     "user": {
      "displayName": "Luke Wilsen",
      "userId": "08296025252065350541"
     },
     "user_tz": 300
    },
    "id": "oZ5hZw-Z5ab5",
    "outputId": "66baec4a-fb03-4b7e-9ae0-6819a7f877e0"
   },
   "outputs": [
    {
     "name": "stderr",
     "output_type": "stream",
     "text": [
      "/var/folders/1k/3mrcqp5d4670v77qsx12xwmm0000gn/T/ipykernel_98495/1832550240.py:1: DtypeWarning: Columns (168,169,170,171,172,173,174,175,176,177,178,179,180,181,182,183,184,185,186,187,188,189) have mixed types. Specify dtype option on import or set low_memory=False.\n",
      "  inpatient = pd.read_csv(\"data/inpatient_raw.csv\", sep = \"|\")\n"
     ]
    }
   ],
   "source": [
    "inpatient = pd.read_csv(\"data/inpatient_raw.csv\", sep = \"|\")"
   ]
  },
  {
   "cell_type": "code",
   "execution_count": 15,
   "metadata": {
    "colab": {
     "base_uri": "https://localhost:8080/",
     "height": 423
    },
    "executionInfo": {
     "elapsed": 1683,
     "status": "ok",
     "timestamp": 1740498907980,
     "user": {
      "displayName": "Luke Wilsen",
      "userId": "08296025252065350541"
     },
     "user_tz": 300
    },
    "id": "fL8SCjpepHvH",
    "outputId": "4218d89e-c6cd-4f9d-b30b-1fb5957a6829"
   },
   "outputs": [
    {
     "data": {
      "application/vnd.microsoft.datawrangler.viewer.v0+json": {
       "columns": [
        {
         "name": "index",
         "rawType": "int64",
         "type": "integer"
        },
        {
         "name": "column_name",
         "rawType": "object",
         "type": "string"
        },
        {
         "name": "dtype",
         "rawType": "object",
         "type": "string"
        },
        {
         "name": "non_null_count",
         "rawType": "int64",
         "type": "integer"
        },
        {
         "name": "null_count",
         "rawType": "int64",
         "type": "integer"
        },
        {
         "name": "unique_count",
         "rawType": "int64",
         "type": "integer"
        },
        {
         "name": "sample_values",
         "rawType": "object",
         "type": "string"
        }
       ],
       "conversionMethod": "pd.DataFrame",
       "ref": "492a7d36-d2f5-4ff8-b5d6-3323e26d69d3",
       "rows": [
        [
         "0",
         "BENE_ID",
         "int64",
         "58066",
         "0",
         "5699",
         "[-10000010254618, -10000010254653, -10000010254656, -10000010254666, -10000010254682]"
        ],
        [
         "1",
         "CLM_ID",
         "int64",
         "58066",
         "0",
         "20867",
         "[-10000930037831, -10000930038030, -10000930038031, -10000930038162, -10000930038163]"
        ],
        [
         "2",
         "NCH_NEAR_LINE_REC_IDENT_CD",
         "object",
         "58066",
         "0",
         "1",
         "['V']"
        ],
        [
         "3",
         "NCH_CLM_TYPE_CD",
         "int64",
         "58066",
         "0",
         "1",
         "[60]"
        ],
        [
         "4",
         "CLM_FROM_DT",
         "object",
         "58066",
         "0",
         "2914",
         "['25-Mar-2015', '24-Sep-2015', '09-May-2017', '14-Jan-2017', '17-Mar-2018']"
        ],
        [
         "5",
         "CLM_THRU_DT",
         "object",
         "58066",
         "0",
         "2910",
         "['25-Mar-2015', '24-Sep-2015', '10-May-2017', '14-Jan-2017', '17-Mar-2018']"
        ],
        [
         "6",
         "NCH_WKLY_PROC_DT",
         "object",
         "58066",
         "0",
         "417",
         "['27-Mar-2015', '25-Sep-2015', '12-May-2017', '20-Jan-2017', '23-Mar-2018']"
        ],
        [
         "7",
         "FI_CLM_PROC_DT",
         "float64",
         "0",
         "58066",
         "0",
         "[]"
        ],
        [
         "8",
         "CLAIM_QUERY_CODE",
         "int64",
         "58066",
         "0",
         "1",
         "[3]"
        ],
        [
         "9",
         "PRVDR_NUM",
         "object",
         "55225",
         "2841",
         "4876",
         "['011500', '017129', '010052', '015455', '010131']"
        ],
        [
         "10",
         "CLM_FAC_TYPE_CD",
         "int64",
         "58066",
         "0",
         "1",
         "[1]"
        ],
        [
         "11",
         "CLM_SRVC_CLSFCTN_TYPE_CD",
         "int64",
         "58066",
         "0",
         "1",
         "[1]"
        ],
        [
         "12",
         "CLM_FREQ_CD",
         "int64",
         "58066",
         "0",
         "1",
         "[1]"
        ],
        [
         "13",
         "FI_NUM",
         "float64",
         "0",
         "58066",
         "0",
         "[]"
        ],
        [
         "14",
         "CLM_MDCR_NON_PMT_RSN_CD",
         "object",
         "58066",
         "0",
         "1",
         "[' ']"
        ],
        [
         "15",
         "CLM_PMT_AMT",
         "float64",
         "58066",
         "0",
         "10341",
         "[96.65, 6311.88, 8545.72, 1014.85, 9911.41]"
        ],
        [
         "16",
         "NCH_PRMRY_PYR_CLM_PD_AMT",
         "float64",
         "58066",
         "0",
         "2263",
         "[0.0, 6276.88, 979.85, 9876.41, 2927.04]"
        ],
        [
         "17",
         "NCH_PRMRY_PYR_CD",
         "object",
         "58066",
         "0",
         "1",
         "[' ']"
        ],
        [
         "18",
         "FI_CLM_ACTN_CD",
         "float64",
         "0",
         "58066",
         "0",
         "[]"
        ],
        [
         "19",
         "PRVDR_STATE_CD",
         "int64",
         "58066",
         "0",
         "51",
         "[1, 2, 3, 4, 6]"
        ],
        [
         "20",
         "ORG_NPI_NUM",
         "int64",
         "58066",
         "0",
         "4902",
         "[1578657367, 1770717738, 1598783904, 1033215660, 1023061496]"
        ],
        [
         "21",
         "AT_PHYSN_UPIN",
         "object",
         "58066",
         "0",
         "1",
         "[' ']"
        ],
        [
         "22",
         "AT_PHYSN_NPI",
         "int64",
         "58066",
         "0",
         "2463",
         "[9999870899, 9999877191, 9999995399, 9999856690, 9999998492]"
        ],
        [
         "23",
         "OP_PHYSN_UPIN",
         "object",
         "58066",
         "0",
         "1",
         "[' ']"
        ],
        [
         "24",
         "OP_PHYSN_NPI",
         "int64",
         "58066",
         "0",
         "2463",
         "[9999870899, 9999877191, 9999995399, 9999856690, 9999998492]"
        ],
        [
         "25",
         "OT_PHYSN_UPIN",
         "float64",
         "0",
         "58066",
         "0",
         "[]"
        ],
        [
         "26",
         "OT_PHYSN_NPI",
         "float64",
         "0",
         "58066",
         "0",
         "[]"
        ],
        [
         "27",
         "CLM_MCO_PD_SW",
         "int64",
         "58066",
         "0",
         "1",
         "[0]"
        ],
        [
         "28",
         "PTNT_DSCHRG_STUS_CD",
         "int64",
         "58066",
         "0",
         "1",
         "[1]"
        ],
        [
         "29",
         "CLM_PPS_IND_CD",
         "object",
         "58066",
         "0",
         "1",
         "[' ']"
        ],
        [
         "30",
         "CLM_TOT_CHRG_AMT",
         "float64",
         "58066",
         "0",
         "10341",
         "[96.65, 6311.88, 8545.72, 1014.85, 9911.41]"
        ],
        [
         "31",
         "CLM_ADMSN_DT",
         "object",
         "58066",
         "0",
         "2914",
         "['25-Mar-2015', '24-Sep-2015', '09-May-2017', '14-Jan-2017', '17-Mar-2018']"
        ],
        [
         "32",
         "CLM_IP_ADMSN_TYPE_CD",
         "int64",
         "58066",
         "0",
         "3",
         "[1, 3, 2]"
        ],
        [
         "33",
         "CLM_SRC_IP_ADMSN_CD",
         "int64",
         "58066",
         "0",
         "4",
         "[4, 2, 1, 5]"
        ],
        [
         "34",
         "NCH_PTNT_STATUS_IND_CD",
         "object",
         "58066",
         "0",
         "1",
         "['A']"
        ],
        [
         "35",
         "CLM_PASS_THRU_PER_DIEM_AMT",
         "int64",
         "58066",
         "0",
         "1",
         "[10]"
        ],
        [
         "36",
         "NCH_BENE_IP_DDCTBL_AMT",
         "float64",
         "58066",
         "0",
         "694",
         "[0.0, 72.04, 96.65, 228.68, 66.65]"
        ],
        [
         "37",
         "NCH_BENE_PTA_COINSRNC_LBLTY_AM",
         "float64",
         "58066",
         "0",
         "8032",
         "[19.33, 0.0, 1709.14, 2341.23, 2408.93]"
        ],
        [
         "38",
         "NCH_BENE_BLOOD_DDCTBL_LBLTY_AM",
         "int64",
         "58066",
         "0",
         "1",
         "[0]"
        ],
        [
         "39",
         "NCH_PROFNL_CMPNT_CHRG_AMT",
         "int64",
         "58066",
         "0",
         "1",
         "[4]"
        ],
        [
         "40",
         "NCH_IP_NCVRD_CHRG_AMT",
         "float64",
         "58066",
         "0",
         "2370",
         "[0.0, 35.0, 30.0, 366.23, 72.04]"
        ],
        [
         "41",
         "NCH_IP_TOT_DDCTN_AMT",
         "float64",
         "58066",
         "0",
         "2370",
         "[0.0, 35.0, 30.0, 366.23, 72.04]"
        ],
        [
         "42",
         "CLM_TOT_PPS_CPTL_AMT",
         "int64",
         "58066",
         "0",
         "1",
         "[0]"
        ],
        [
         "43",
         "CLM_PPS_CPTL_FSP_AMT",
         "int64",
         "58066",
         "0",
         "1",
         "[0]"
        ],
        [
         "44",
         "CLM_PPS_CPTL_OUTLIER_AMT",
         "int64",
         "58066",
         "0",
         "1",
         "[0]"
        ],
        [
         "45",
         "CLM_PPS_CPTL_DSPRPRTNT_SHR_AMT",
         "int64",
         "58066",
         "0",
         "1",
         "[0]"
        ],
        [
         "46",
         "CLM_PPS_CPTL_IME_AMT",
         "int64",
         "58066",
         "0",
         "1",
         "[0]"
        ],
        [
         "47",
         "CLM_PPS_CPTL_EXCPTN_AMT",
         "int64",
         "58066",
         "0",
         "1",
         "[0]"
        ],
        [
         "48",
         "CLM_PPS_OLD_CPTL_HLD_HRMLS_AMT",
         "int64",
         "58066",
         "0",
         "1",
         "[0]"
        ],
        [
         "49",
         "CLM_PPS_CPTL_DRG_WT_NUM",
         "int64",
         "58066",
         "0",
         "1",
         "[0]"
        ]
       ],
       "shape": {
        "columns": 6,
        "rows": 197
       }
      },
      "text/html": [
       "<div>\n",
       "<style scoped>\n",
       "    .dataframe tbody tr th:only-of-type {\n",
       "        vertical-align: middle;\n",
       "    }\n",
       "\n",
       "    .dataframe tbody tr th {\n",
       "        vertical-align: top;\n",
       "    }\n",
       "\n",
       "    .dataframe thead th {\n",
       "        text-align: right;\n",
       "    }\n",
       "</style>\n",
       "<table border=\"1\" class=\"dataframe\">\n",
       "  <thead>\n",
       "    <tr style=\"text-align: right;\">\n",
       "      <th></th>\n",
       "      <th>column_name</th>\n",
       "      <th>dtype</th>\n",
       "      <th>non_null_count</th>\n",
       "      <th>null_count</th>\n",
       "      <th>unique_count</th>\n",
       "      <th>sample_values</th>\n",
       "    </tr>\n",
       "  </thead>\n",
       "  <tbody>\n",
       "    <tr>\n",
       "      <th>0</th>\n",
       "      <td>BENE_ID</td>\n",
       "      <td>int64</td>\n",
       "      <td>58066</td>\n",
       "      <td>0</td>\n",
       "      <td>5699</td>\n",
       "      <td>[-10000010254618, -10000010254653, -1000001025...</td>\n",
       "    </tr>\n",
       "    <tr>\n",
       "      <th>1</th>\n",
       "      <td>CLM_ID</td>\n",
       "      <td>int64</td>\n",
       "      <td>58066</td>\n",
       "      <td>0</td>\n",
       "      <td>20867</td>\n",
       "      <td>[-10000930037831, -10000930038030, -1000093003...</td>\n",
       "    </tr>\n",
       "    <tr>\n",
       "      <th>2</th>\n",
       "      <td>NCH_NEAR_LINE_REC_IDENT_CD</td>\n",
       "      <td>object</td>\n",
       "      <td>58066</td>\n",
       "      <td>0</td>\n",
       "      <td>1</td>\n",
       "      <td>[V]</td>\n",
       "    </tr>\n",
       "    <tr>\n",
       "      <th>3</th>\n",
       "      <td>NCH_CLM_TYPE_CD</td>\n",
       "      <td>int64</td>\n",
       "      <td>58066</td>\n",
       "      <td>0</td>\n",
       "      <td>1</td>\n",
       "      <td>[60]</td>\n",
       "    </tr>\n",
       "    <tr>\n",
       "      <th>4</th>\n",
       "      <td>CLM_FROM_DT</td>\n",
       "      <td>object</td>\n",
       "      <td>58066</td>\n",
       "      <td>0</td>\n",
       "      <td>2914</td>\n",
       "      <td>[25-Mar-2015, 24-Sep-2015, 09-May-2017, 14-Jan...</td>\n",
       "    </tr>\n",
       "    <tr>\n",
       "      <th>...</th>\n",
       "      <td>...</td>\n",
       "      <td>...</td>\n",
       "      <td>...</td>\n",
       "      <td>...</td>\n",
       "      <td>...</td>\n",
       "      <td>...</td>\n",
       "    </tr>\n",
       "    <tr>\n",
       "      <th>192</th>\n",
       "      <td>CLM_UNCOMPD_CARE_PMT_AMT</td>\n",
       "      <td>float64</td>\n",
       "      <td>0</td>\n",
       "      <td>58066</td>\n",
       "      <td>0</td>\n",
       "      <td>[]</td>\n",
       "    </tr>\n",
       "    <tr>\n",
       "      <th>193</th>\n",
       "      <td>CLM_LINE_NUM</td>\n",
       "      <td>int64</td>\n",
       "      <td>58066</td>\n",
       "      <td>0</td>\n",
       "      <td>46</td>\n",
       "      <td>[1, 2, 3, 4, 5]</td>\n",
       "    </tr>\n",
       "    <tr>\n",
       "      <th>194</th>\n",
       "      <td>REV_CNTR</td>\n",
       "      <td>int64</td>\n",
       "      <td>58066</td>\n",
       "      <td>0</td>\n",
       "      <td>2</td>\n",
       "      <td>[450, 1]</td>\n",
       "    </tr>\n",
       "    <tr>\n",
       "      <th>195</th>\n",
       "      <td>HCPCS_CD</td>\n",
       "      <td>object</td>\n",
       "      <td>58066</td>\n",
       "      <td>0</td>\n",
       "      <td>106</td>\n",
       "      <td>[99221, 99024, 73610, 29515, 95953]</td>\n",
       "    </tr>\n",
       "    <tr>\n",
       "      <th>196</th>\n",
       "      <td>REV_CNTR_DDCTBL_COINSRNC_CD</td>\n",
       "      <td>float64</td>\n",
       "      <td>49768</td>\n",
       "      <td>8298</td>\n",
       "      <td>4</td>\n",
       "      <td>[3.0, 2.0, 1.0, 0.0]</td>\n",
       "    </tr>\n",
       "  </tbody>\n",
       "</table>\n",
       "<p>197 rows × 6 columns</p>\n",
       "</div>"
      ],
      "text/plain": [
       "                     column_name    dtype  non_null_count  null_count  \\\n",
       "0                        BENE_ID    int64           58066           0   \n",
       "1                         CLM_ID    int64           58066           0   \n",
       "2     NCH_NEAR_LINE_REC_IDENT_CD   object           58066           0   \n",
       "3                NCH_CLM_TYPE_CD    int64           58066           0   \n",
       "4                    CLM_FROM_DT   object           58066           0   \n",
       "..                           ...      ...             ...         ...   \n",
       "192     CLM_UNCOMPD_CARE_PMT_AMT  float64               0       58066   \n",
       "193                 CLM_LINE_NUM    int64           58066           0   \n",
       "194                     REV_CNTR    int64           58066           0   \n",
       "195                     HCPCS_CD   object           58066           0   \n",
       "196  REV_CNTR_DDCTBL_COINSRNC_CD  float64           49768        8298   \n",
       "\n",
       "     unique_count                                      sample_values  \n",
       "0            5699  [-10000010254618, -10000010254653, -1000001025...  \n",
       "1           20867  [-10000930037831, -10000930038030, -1000093003...  \n",
       "2               1                                                [V]  \n",
       "3               1                                               [60]  \n",
       "4            2914  [25-Mar-2015, 24-Sep-2015, 09-May-2017, 14-Jan...  \n",
       "..            ...                                                ...  \n",
       "192             0                                                 []  \n",
       "193            46                                    [1, 2, 3, 4, 5]  \n",
       "194             2                                           [450, 1]  \n",
       "195           106                [99221, 99024, 73610, 29515, 95953]  \n",
       "196             4                               [3.0, 2.0, 1.0, 0.0]  \n",
       "\n",
       "[197 rows x 6 columns]"
      ]
     },
     "execution_count": 15,
     "metadata": {},
     "output_type": "execute_result"
    }
   ],
   "source": [
    "def describe_dataframe(df):\n",
    "  \"\"\"\n",
    "  Generates a descriptive DataFrame summarizing the columns of a given DataFrame.\n",
    "\n",
    "  Args:\n",
    "    df: The input pandas DataFrame.\n",
    "\n",
    "  Returns:\n",
    "    A pandas DataFrame containing descriptive statistics for each column.\n",
    "  \"\"\"\n",
    "  column_descriptions = []\n",
    "  for column in df.columns:\n",
    "    column_data = df[column]\n",
    "    description = {\n",
    "        'column_name': column,\n",
    "        'dtype': column_data.dtype,\n",
    "        'non_null_count': column_data.notna().sum(),\n",
    "        'null_count': column_data.isna().sum(),\n",
    "        'unique_count': column_data.nunique(),\n",
    "        'sample_values': list(column_data.dropna().unique())[:5],\n",
    "    }\n",
    "    column_descriptions.append(description)\n",
    "\n",
    "  return pd.DataFrame(column_descriptions)\n",
    "\n",
    "# Create the dataframe that describes the columns of inpatient\n",
    "inpatient_description = describe_dataframe(inpatient)\n",
    "inpatient_description\n"
   ]
  },
  {
   "cell_type": "code",
   "execution_count": 18,
   "metadata": {
    "colab": {
     "base_uri": "https://localhost:8080/",
     "height": 478
    },
    "executionInfo": {
     "elapsed": 296,
     "status": "ok",
     "timestamp": 1740498908330,
     "user": {
      "displayName": "Luke Wilsen",
      "userId": "08296025252065350541"
     },
     "user_tz": 300
    },
    "id": "ZRYZuCuu3Oro",
    "outputId": "a7ac33a7-e247-4c1a-af66-be16b86ce5b0"
   },
   "outputs": [
    {
     "name": "stderr",
     "output_type": "stream",
     "text": [
      "/var/folders/1k/3mrcqp5d4670v77qsx12xwmm0000gn/T/ipykernel_98495/4047220212.py:1: ParserWarning: Falling back to the 'python' engine because the 'c' engine does not support regex separators (separators > 1 char and different from '\\s+' are interpreted as regex); you can avoid this warning by specifying engine='python'.\n",
      "  icd_codes = pd.read_csv(\"data/ICD_10_CM_codes_2025.txt\", sep = \"  \", header=None)\n"
     ]
    },
    {
     "data": {
      "application/vnd.microsoft.datawrangler.viewer.v0+json": {
       "columns": [
        {
         "name": "index",
         "rawType": "int64",
         "type": "integer"
        },
        {
         "name": "ICD_Code",
         "rawType": "object",
         "type": "string"
        },
        {
         "name": "ICD_Description",
         "rawType": "object",
         "type": "string"
        }
       ],
       "conversionMethod": "pd.DataFrame",
       "ref": "685c843a-d0bd-4d4d-8747-224977ca6f03",
       "rows": [
        [
         "0",
         "A000",
         "Cholera due to Vibrio cholerae 01, biovar cholerae"
        ],
        [
         "1",
         "A001",
         "Cholera due to Vibrio cholerae 01, biovar eltor"
        ],
        [
         "2",
         "A009",
         "Cholera, unspecified"
        ],
        [
         "3",
         "A0100",
         " Typhoid fever, unspecified"
        ],
        [
         "4",
         "A0101",
         " Typhoid meningitis"
        ],
        [
         "5",
         "A0102",
         " Typhoid fever with heart involvement"
        ],
        [
         "6",
         "A0103",
         " Typhoid pneumonia"
        ],
        [
         "7",
         "A0104",
         " Typhoid arthritis"
        ],
        [
         "8",
         "A0105",
         " Typhoid osteomyelitis"
        ],
        [
         "9",
         "A0109",
         " Typhoid fever with other complications"
        ],
        [
         "10",
         "A011",
         "Paratyphoid fever A"
        ],
        [
         "11",
         "A012",
         "Paratyphoid fever B"
        ],
        [
         "12",
         "A013",
         "Paratyphoid fever C"
        ],
        [
         "13",
         "A014",
         "Paratyphoid fever, unspecified"
        ],
        [
         "14",
         "A020",
         "Salmonella enteritis"
        ],
        [
         "15",
         "A021",
         "Salmonella sepsis"
        ],
        [
         "16",
         "A0220",
         " Localized salmonella infection, unspecified"
        ],
        [
         "17",
         "A0221",
         " Salmonella meningitis"
        ],
        [
         "18",
         "A0222",
         " Salmonella pneumonia"
        ],
        [
         "19",
         "A0223",
         " Salmonella arthritis"
        ],
        [
         "20",
         "A0224",
         " Salmonella osteomyelitis"
        ],
        [
         "21",
         "A0225",
         " Salmonella pyelonephritis"
        ],
        [
         "22",
         "A0229",
         " Salmonella with other localized infection"
        ],
        [
         "23",
         "A028",
         "Other specified salmonella infections"
        ],
        [
         "24",
         "A029",
         "Salmonella infection, unspecified"
        ],
        [
         "25",
         "A030",
         "Shigellosis due to Shigella dysenteriae"
        ],
        [
         "26",
         "A031",
         "Shigellosis due to Shigella flexneri"
        ],
        [
         "27",
         "A032",
         "Shigellosis due to Shigella boydii"
        ],
        [
         "28",
         "A033",
         "Shigellosis due to Shigella sonnei"
        ],
        [
         "29",
         "A038",
         "Other shigellosis"
        ],
        [
         "30",
         "A039",
         "Shigellosis, unspecified"
        ],
        [
         "31",
         "A040",
         "Enteropathogenic Escherichia coli infection"
        ],
        [
         "32",
         "A041",
         "Enterotoxigenic Escherichia coli infection"
        ],
        [
         "33",
         "A042",
         "Enteroinvasive Escherichia coli infection"
        ],
        [
         "34",
         "A043",
         "Enterohemorrhagic Escherichia coli infection"
        ],
        [
         "35",
         "A044",
         "Other intestinal Escherichia coli infections"
        ],
        [
         "36",
         "A045",
         "Campylobacter enteritis"
        ],
        [
         "37",
         "A046",
         "Enteritis due to Yersinia enterocolitica"
        ],
        [
         "38",
         "A0471",
         " Enterocolitis due to Clostridium difficile, recurrent"
        ],
        [
         "39",
         "A0472",
         " Enterocolitis due to Clostridium difficile, not specified as recurrent"
        ],
        [
         "40",
         "A048",
         "Other specified bacterial intestinal infections"
        ],
        [
         "41",
         "A049",
         "Bacterial intestinal infection, unspecified"
        ],
        [
         "42",
         "A050",
         "Foodborne staphylococcal intoxication"
        ],
        [
         "43",
         "A051",
         "Botulism food poisoning"
        ],
        [
         "44",
         "A052",
         "Foodborne Clostridium perfringens [Clostridium welchii] intoxication"
        ],
        [
         "45",
         "A053",
         "Foodborne Vibrio parahaemolyticus intoxication"
        ],
        [
         "46",
         "A054",
         "Foodborne Bacillus cereus intoxication"
        ],
        [
         "47",
         "A055",
         "Foodborne Vibrio vulnificus intoxication"
        ],
        [
         "48",
         "A058",
         "Other specified bacterial foodborne intoxications"
        ],
        [
         "49",
         "A059",
         "Bacterial foodborne intoxication, unspecified"
        ]
       ],
       "shape": {
        "columns": 2,
        "rows": 74265
       }
      },
      "text/html": [
       "<div>\n",
       "<style scoped>\n",
       "    .dataframe tbody tr th:only-of-type {\n",
       "        vertical-align: middle;\n",
       "    }\n",
       "\n",
       "    .dataframe tbody tr th {\n",
       "        vertical-align: top;\n",
       "    }\n",
       "\n",
       "    .dataframe thead th {\n",
       "        text-align: right;\n",
       "    }\n",
       "</style>\n",
       "<table border=\"1\" class=\"dataframe\">\n",
       "  <thead>\n",
       "    <tr style=\"text-align: right;\">\n",
       "      <th></th>\n",
       "      <th>ICD_Code</th>\n",
       "      <th>ICD_Description</th>\n",
       "    </tr>\n",
       "  </thead>\n",
       "  <tbody>\n",
       "    <tr>\n",
       "      <th>0</th>\n",
       "      <td>A000</td>\n",
       "      <td>Cholera due to Vibrio cholerae 01, biovar chol...</td>\n",
       "    </tr>\n",
       "    <tr>\n",
       "      <th>1</th>\n",
       "      <td>A001</td>\n",
       "      <td>Cholera due to Vibrio cholerae 01, biovar eltor</td>\n",
       "    </tr>\n",
       "    <tr>\n",
       "      <th>2</th>\n",
       "      <td>A009</td>\n",
       "      <td>Cholera, unspecified</td>\n",
       "    </tr>\n",
       "    <tr>\n",
       "      <th>3</th>\n",
       "      <td>A0100</td>\n",
       "      <td>Typhoid fever, unspecified</td>\n",
       "    </tr>\n",
       "    <tr>\n",
       "      <th>4</th>\n",
       "      <td>A0101</td>\n",
       "      <td>Typhoid meningitis</td>\n",
       "    </tr>\n",
       "    <tr>\n",
       "      <th>...</th>\n",
       "      <td>...</td>\n",
       "      <td>...</td>\n",
       "    </tr>\n",
       "    <tr>\n",
       "      <th>74260</th>\n",
       "      <td>Z9981</td>\n",
       "      <td>Dependence on supplemental oxygen</td>\n",
       "    </tr>\n",
       "    <tr>\n",
       "      <th>74261</th>\n",
       "      <td>Z9989</td>\n",
       "      <td>Dependence on other enabling machines and dev...</td>\n",
       "    </tr>\n",
       "    <tr>\n",
       "      <th>74262</th>\n",
       "      <td>U070</td>\n",
       "      <td>Vaping-related disorder</td>\n",
       "    </tr>\n",
       "    <tr>\n",
       "      <th>74263</th>\n",
       "      <td>U071</td>\n",
       "      <td>COVID-19</td>\n",
       "    </tr>\n",
       "    <tr>\n",
       "      <th>74264</th>\n",
       "      <td>U099</td>\n",
       "      <td>Post COVID-19 condition, unspecified</td>\n",
       "    </tr>\n",
       "  </tbody>\n",
       "</table>\n",
       "<p>74265 rows × 2 columns</p>\n",
       "</div>"
      ],
      "text/plain": [
       "      ICD_Code                                    ICD_Description\n",
       "0         A000  Cholera due to Vibrio cholerae 01, biovar chol...\n",
       "1         A001    Cholera due to Vibrio cholerae 01, biovar eltor\n",
       "2         A009                               Cholera, unspecified\n",
       "3        A0100                         Typhoid fever, unspecified\n",
       "4        A0101                                 Typhoid meningitis\n",
       "...        ...                                                ...\n",
       "74260    Z9981                  Dependence on supplemental oxygen\n",
       "74261    Z9989   Dependence on other enabling machines and dev...\n",
       "74262     U070                            Vaping-related disorder\n",
       "74263     U071                                           COVID-19\n",
       "74264     U099               Post COVID-19 condition, unspecified\n",
       "\n",
       "[74265 rows x 2 columns]"
      ]
     },
     "execution_count": 18,
     "metadata": {},
     "output_type": "execute_result"
    }
   ],
   "source": [
    "icd_codes = pd.read_csv(\"data/ICD_10_CM_codes_2025.txt\", sep = \"  \", header=None)\n",
    "icd_codes['Description'] = np.where(icd_codes[1].isna(), icd_codes[2], icd_codes[1])\n",
    "icd_codes.drop(columns = [1,2], inplace=True)\n",
    "icd_codes.columns = ['ICD_Code', 'ICD_Description']\n",
    "icd_codes"
   ]
  },
  {
   "cell_type": "code",
   "execution_count": 19,
   "metadata": {
    "executionInfo": {
     "elapsed": 11851,
     "status": "ok",
     "timestamp": 1740498920172,
     "user": {
      "displayName": "Luke Wilsen",
      "userId": "08296025252065350541"
     },
     "user_tz": 300
    },
    "id": "fE9hju2wDzrO"
   },
   "outputs": [],
   "source": [
    "icd_codes[icd_codes[\"ICD_Description\"].isna()].head()\n",
    "icd_codes[[\"ICD_Code\", \"ICD_Description\"]] = icd_codes.apply(\n",
    "    lambda row: pd.Series(row[\"ICD_Code\"].split(' ', 1)) if pd.isna(row[\"ICD_Description\"]) else pd.Series([row[\"ICD_Code\"], row[\"ICD_Description\"]]),\n",
    "    axis=1\n",
    ")\n",
    "\n"
   ]
  },
  {
   "cell_type": "code",
   "execution_count": 20,
   "metadata": {
    "colab": {
     "base_uri": "https://localhost:8080/",
     "height": 53
    },
    "executionInfo": {
     "elapsed": 3,
     "status": "ok",
     "timestamp": 1740498920177,
     "user": {
      "displayName": "Luke Wilsen",
      "userId": "08296025252065350541"
     },
     "user_tz": 300
    },
    "id": "IDQ2Z9T5IJfK",
    "outputId": "9b5e9033-1046-4005-8b6c-0195868aeadc"
   },
   "outputs": [
    {
     "data": {
      "application/vnd.microsoft.datawrangler.viewer.v0+json": {
       "columns": [
        {
         "name": "index",
         "rawType": "int64",
         "type": "integer"
        },
        {
         "name": "ICD_Code",
         "rawType": "object",
         "type": "string"
        },
        {
         "name": "ICD_Description",
         "rawType": "object",
         "type": "string"
        }
       ],
       "conversionMethod": "pd.DataFrame",
       "ref": "5bd90e1e-0f65-4797-8876-53d1e8e9d7a8",
       "rows": [],
       "shape": {
        "columns": 2,
        "rows": 0
       }
      },
      "text/html": [
       "<div>\n",
       "<style scoped>\n",
       "    .dataframe tbody tr th:only-of-type {\n",
       "        vertical-align: middle;\n",
       "    }\n",
       "\n",
       "    .dataframe tbody tr th {\n",
       "        vertical-align: top;\n",
       "    }\n",
       "\n",
       "    .dataframe thead th {\n",
       "        text-align: right;\n",
       "    }\n",
       "</style>\n",
       "<table border=\"1\" class=\"dataframe\">\n",
       "  <thead>\n",
       "    <tr style=\"text-align: right;\">\n",
       "      <th></th>\n",
       "      <th>ICD_Code</th>\n",
       "      <th>ICD_Description</th>\n",
       "    </tr>\n",
       "  </thead>\n",
       "  <tbody>\n",
       "  </tbody>\n",
       "</table>\n",
       "</div>"
      ],
      "text/plain": [
       "Empty DataFrame\n",
       "Columns: [ICD_Code, ICD_Description]\n",
       "Index: []"
      ]
     },
     "execution_count": 20,
     "metadata": {},
     "output_type": "execute_result"
    }
   ],
   "source": [
    "icd_codes[icd_codes[\"ICD_Description\"].isna()]"
   ]
  },
  {
   "cell_type": "code",
   "execution_count": 22,
   "metadata": {
    "colab": {
     "base_uri": "https://localhost:8080/",
     "height": 206
    },
    "executionInfo": {
     "elapsed": 100,
     "status": "ok",
     "timestamp": 1740498920278,
     "user": {
      "displayName": "Luke Wilsen",
      "userId": "08296025252065350541"
     },
     "user_tz": 300
    },
    "id": "aqxx8onF4PWY",
    "outputId": "4bbe15b1-b387-48a2-da75-8fccc5193d94"
   },
   "outputs": [
    {
     "data": {
      "application/vnd.microsoft.datawrangler.viewer.v0+json": {
       "columns": [
        {
         "name": "index",
         "rawType": "int64",
         "type": "integer"
        },
        {
         "name": "DRG_CODE",
         "rawType": "object",
         "type": "string"
        },
        {
         "name": "DRG_TITLE",
         "rawType": "object",
         "type": "string"
        }
       ],
       "conversionMethod": "pd.DataFrame",
       "ref": "fbed5273-cefb-47dc-b0c2-691eb1255875",
       "rows": [
        [
         "0",
         "001",
         "HEART TRANSPLANT OR IMPLANT OF HEART ASSIST SYSTEM WITH MCC"
        ],
        [
         "1",
         "002",
         "HEART TRANSPLANT OR IMPLANT OF HEART ASSIST SYSTEM WITHOUT MCC"
        ],
        [
         "2",
         "003",
         "ECMO OR TRACHEOSTOMY WITH MV >96 HOURS OR PRINCIPAL DIAGNOSIS EXCEPT FACE, MOUTH AND NECK WITH MAJOR O.R. PROCEDURES"
        ],
        [
         "3",
         "004",
         "TRACHEOSTOMY WITH MV >96 HOURS OR PRINCIPAL DIAGNOSIS EXCEPT FACE, MOUTH AND NECK WITHOUT MAJOR O.R. PROCEDURES"
        ],
        [
         "4",
         "005",
         "LIVER TRANSPLANT WITH MCC OR INTESTINAL TRANSPLANT"
        ]
       ],
       "shape": {
        "columns": 2,
        "rows": 5
       }
      },
      "text/html": [
       "<div>\n",
       "<style scoped>\n",
       "    .dataframe tbody tr th:only-of-type {\n",
       "        vertical-align: middle;\n",
       "    }\n",
       "\n",
       "    .dataframe tbody tr th {\n",
       "        vertical-align: top;\n",
       "    }\n",
       "\n",
       "    .dataframe thead th {\n",
       "        text-align: right;\n",
       "    }\n",
       "</style>\n",
       "<table border=\"1\" class=\"dataframe\">\n",
       "  <thead>\n",
       "    <tr style=\"text-align: right;\">\n",
       "      <th></th>\n",
       "      <th>DRG_CODE</th>\n",
       "      <th>DRG_TITLE</th>\n",
       "    </tr>\n",
       "  </thead>\n",
       "  <tbody>\n",
       "    <tr>\n",
       "      <th>0</th>\n",
       "      <td>001</td>\n",
       "      <td>HEART TRANSPLANT OR IMPLANT OF HEART ASSIST SY...</td>\n",
       "    </tr>\n",
       "    <tr>\n",
       "      <th>1</th>\n",
       "      <td>002</td>\n",
       "      <td>HEART TRANSPLANT OR IMPLANT OF HEART ASSIST SY...</td>\n",
       "    </tr>\n",
       "    <tr>\n",
       "      <th>2</th>\n",
       "      <td>003</td>\n",
       "      <td>ECMO OR TRACHEOSTOMY WITH MV &gt;96 HOURS OR PRIN...</td>\n",
       "    </tr>\n",
       "    <tr>\n",
       "      <th>3</th>\n",
       "      <td>004</td>\n",
       "      <td>TRACHEOSTOMY WITH MV &gt;96 HOURS OR PRINCIPAL DI...</td>\n",
       "    </tr>\n",
       "    <tr>\n",
       "      <th>4</th>\n",
       "      <td>005</td>\n",
       "      <td>LIVER TRANSPLANT WITH MCC OR INTESTINAL TRANSP...</td>\n",
       "    </tr>\n",
       "  </tbody>\n",
       "</table>\n",
       "</div>"
      ],
      "text/plain": [
       "  DRG_CODE                                          DRG_TITLE\n",
       "0      001  HEART TRANSPLANT OR IMPLANT OF HEART ASSIST SY...\n",
       "1      002  HEART TRANSPLANT OR IMPLANT OF HEART ASSIST SY...\n",
       "2      003  ECMO OR TRACHEOSTOMY WITH MV >96 HOURS OR PRIN...\n",
       "3      004  TRACHEOSTOMY WITH MV >96 HOURS OR PRINCIPAL DI...\n",
       "4      005  LIVER TRANSPLANT WITH MCC OR INTESTINAL TRANSP..."
      ]
     },
     "execution_count": 22,
     "metadata": {},
     "output_type": "execute_result"
    }
   ],
   "source": [
    "drg_codes = pd.read_excel(\"data/MS-DRG-1023.xlsx\", header = 1)\n",
    "drg_codes = drg_codes[[\"MS-DRG \", \"MS-DRG Title\"]]\n",
    "drg_codes.rename(columns = {\"MS-DRG \":\"DRG_CODE\", \"MS-DRG Title\":\"DRG_TITLE\"}, inplace=True)\n",
    "drg_codes[\"DRG_CODE\"] = drg_codes[\"DRG_CODE\"].astype(str).str.zfill(3)\n",
    "drg_codes.head()"
   ]
  },
  {
   "cell_type": "markdown",
   "metadata": {
    "id": "wi1khLHw6fgK"
   },
   "source": [
    "# Datasets:\n",
    "1. Inpatient\n",
    "2. Patient Drug Events (PDE)\n",
    "3. Enrollment Info (\"Beneficiary Years\")\n"
   ]
  },
  {
   "cell_type": "markdown",
   "metadata": {
    "id": "mZPokxHXEV5-"
   },
   "source": []
  },
  {
   "cell_type": "code",
   "execution_count": 23,
   "metadata": {
    "colab": {
     "base_uri": "https://localhost:8080/"
    },
    "executionInfo": {
     "elapsed": 16,
     "status": "ok",
     "timestamp": 1740498920295,
     "user": {
      "displayName": "Luke Wilsen",
      "userId": "08296025252065350541"
     },
     "user_tz": 300
    },
    "id": "sGTkb1S27aqg",
    "outputId": "d52c0b9d-17dc-4dad-8b68-10553f8de309"
   },
   "outputs": [
    {
     "name": "stdout",
     "output_type": "stream",
     "text": [
      "['BENE_ID' 'CLM_ID' 'NCH_NEAR_LINE_REC_IDENT_CD' 'NCH_CLM_TYPE_CD'\n",
      " 'CLM_FROM_DT' 'CLM_THRU_DT' 'NCH_WKLY_PROC_DT' 'FI_CLM_PROC_DT'\n",
      " 'CLAIM_QUERY_CODE' 'PRVDR_NUM' 'CLM_FAC_TYPE_CD'\n",
      " 'CLM_SRVC_CLSFCTN_TYPE_CD' 'CLM_FREQ_CD' 'FI_NUM'\n",
      " 'CLM_MDCR_NON_PMT_RSN_CD' 'CLM_PMT_AMT' 'NCH_PRMRY_PYR_CLM_PD_AMT'\n",
      " 'NCH_PRMRY_PYR_CD' 'FI_CLM_ACTN_CD' 'PRVDR_STATE_CD' 'ORG_NPI_NUM'\n",
      " 'AT_PHYSN_UPIN' 'AT_PHYSN_NPI' 'OP_PHYSN_UPIN' 'OP_PHYSN_NPI'\n",
      " 'OT_PHYSN_UPIN' 'OT_PHYSN_NPI' 'CLM_MCO_PD_SW' 'PTNT_DSCHRG_STUS_CD'\n",
      " 'CLM_PPS_IND_CD' 'CLM_TOT_CHRG_AMT' 'CLM_ADMSN_DT' 'CLM_IP_ADMSN_TYPE_CD'\n",
      " 'CLM_SRC_IP_ADMSN_CD' 'NCH_PTNT_STATUS_IND_CD'\n",
      " 'CLM_PASS_THRU_PER_DIEM_AMT' 'NCH_BENE_IP_DDCTBL_AMT'\n",
      " 'NCH_BENE_PTA_COINSRNC_LBLTY_AM' 'NCH_BENE_BLOOD_DDCTBL_LBLTY_AM'\n",
      " 'NCH_PROFNL_CMPNT_CHRG_AMT' 'NCH_IP_NCVRD_CHRG_AMT'\n",
      " 'NCH_IP_TOT_DDCTN_AMT' 'CLM_TOT_PPS_CPTL_AMT' 'CLM_PPS_CPTL_FSP_AMT'\n",
      " 'CLM_PPS_CPTL_OUTLIER_AMT' 'CLM_PPS_CPTL_DSPRPRTNT_SHR_AMT'\n",
      " 'CLM_PPS_CPTL_IME_AMT' 'CLM_PPS_CPTL_EXCPTN_AMT'\n",
      " 'CLM_PPS_OLD_CPTL_HLD_HRMLS_AMT' 'CLM_PPS_CPTL_DRG_WT_NUM'\n",
      " 'CLM_UTLZTN_DAY_CNT' 'BENE_TOT_COINSRNC_DAYS_CNT' 'BENE_LRD_USED_CNT'\n",
      " 'CLM_NON_UTLZTN_DAYS_CNT' 'NCH_BLOOD_PNTS_FRNSHD_QTY'\n",
      " 'NCH_VRFD_NCVRD_STAY_FROM_DT' 'NCH_VRFD_NCVRD_STAY_THRU_DT'\n",
      " 'NCH_ACTV_OR_CVRD_LVL_CARE_THRU' 'NCH_BENE_MDCR_BNFTS_EXHTD_DT_I'\n",
      " 'NCH_BENE_DSCHRG_DT' 'CLM_DRG_CD' 'CLM_DRG_OUTLIER_STAY_CD'\n",
      " 'NCH_DRG_OUTLIER_APRVD_PMT_AMT' 'ADMTG_DGNS_CD' 'PRNCPAL_DGNS_CD'\n",
      " 'ICD_DGNS_CD1' 'CLM_POA_IND_SW1' 'ICD_DGNS_CD2' 'CLM_POA_IND_SW2'\n",
      " 'ICD_DGNS_CD3' 'CLM_POA_IND_SW3' 'ICD_DGNS_CD4' 'CLM_POA_IND_SW4'\n",
      " 'ICD_DGNS_CD5' 'CLM_POA_IND_SW5' 'ICD_DGNS_CD6' 'CLM_POA_IND_SW6'\n",
      " 'ICD_DGNS_CD7' 'CLM_POA_IND_SW7' 'ICD_DGNS_CD8' 'CLM_POA_IND_SW8'\n",
      " 'ICD_DGNS_CD9' 'CLM_POA_IND_SW9' 'ICD_DGNS_CD10' 'CLM_POA_IND_SW10'\n",
      " 'ICD_DGNS_CD11' 'CLM_POA_IND_SW11' 'ICD_DGNS_CD12' 'CLM_POA_IND_SW12'\n",
      " 'ICD_DGNS_CD13' 'CLM_POA_IND_SW13' 'ICD_DGNS_CD14' 'CLM_POA_IND_SW14'\n",
      " 'ICD_DGNS_CD15' 'CLM_POA_IND_SW15' 'ICD_DGNS_CD16' 'CLM_POA_IND_SW16'\n",
      " 'ICD_DGNS_CD17' 'CLM_POA_IND_SW17' 'ICD_DGNS_CD18' 'CLM_POA_IND_SW18'\n",
      " 'ICD_DGNS_CD19' 'CLM_POA_IND_SW19' 'ICD_DGNS_CD20' 'CLM_POA_IND_SW20'\n",
      " 'ICD_DGNS_CD21' 'CLM_POA_IND_SW21' 'ICD_DGNS_CD22' 'CLM_POA_IND_SW22'\n",
      " 'ICD_DGNS_CD23' 'CLM_POA_IND_SW23' 'ICD_DGNS_CD24' 'CLM_POA_IND_SW24'\n",
      " 'ICD_DGNS_CD25' 'CLM_POA_IND_SW25' 'FST_DGNS_E_CD' 'ICD_DGNS_E_CD1'\n",
      " 'CLM_E_POA_IND_SW1' 'ICD_DGNS_E_CD2' 'CLM_E_POA_IND_SW2' 'ICD_DGNS_E_CD3'\n",
      " 'CLM_E_POA_IND_SW3' 'ICD_DGNS_E_CD4' 'CLM_E_POA_IND_SW4' 'ICD_DGNS_E_CD5'\n",
      " 'CLM_E_POA_IND_SW5' 'ICD_DGNS_E_CD6' 'CLM_E_POA_IND_SW6' 'ICD_DGNS_E_CD7'\n",
      " 'CLM_E_POA_IND_SW7' 'ICD_DGNS_E_CD8' 'CLM_E_POA_IND_SW8' 'ICD_DGNS_E_CD9'\n",
      " 'CLM_E_POA_IND_SW9' 'ICD_DGNS_E_CD10' 'CLM_E_POA_IND_SW10'\n",
      " 'ICD_DGNS_E_CD11' 'CLM_E_POA_IND_SW11' 'ICD_DGNS_E_CD12'\n",
      " 'CLM_E_POA_IND_SW12' 'ICD_PRCDR_CD1' 'PRCDR_DT1' 'ICD_PRCDR_CD2'\n",
      " 'PRCDR_DT2' 'ICD_PRCDR_CD3' 'PRCDR_DT3' 'ICD_PRCDR_CD4' 'PRCDR_DT4'\n",
      " 'ICD_PRCDR_CD5' 'PRCDR_DT5' 'ICD_PRCDR_CD6' 'PRCDR_DT6' 'ICD_PRCDR_CD7'\n",
      " 'PRCDR_DT7' 'ICD_PRCDR_CD8' 'PRCDR_DT8' 'ICD_PRCDR_CD9' 'PRCDR_DT9'\n",
      " 'ICD_PRCDR_CD10' 'PRCDR_DT10' 'ICD_PRCDR_CD11' 'PRCDR_DT11'\n",
      " 'ICD_PRCDR_CD12' 'PRCDR_DT12' 'ICD_PRCDR_CD13' 'PRCDR_DT13'\n",
      " 'ICD_PRCDR_CD14' 'PRCDR_DT14' 'ICD_PRCDR_CD15' 'PRCDR_DT15'\n",
      " 'ICD_PRCDR_CD16' 'PRCDR_DT16' 'ICD_PRCDR_CD17' 'PRCDR_DT17'\n",
      " 'ICD_PRCDR_CD18' 'PRCDR_DT18' 'ICD_PRCDR_CD19' 'PRCDR_DT19'\n",
      " 'ICD_PRCDR_CD20' 'PRCDR_DT20' 'ICD_PRCDR_CD21' 'PRCDR_DT21'\n",
      " 'ICD_PRCDR_CD22' 'PRCDR_DT22' 'ICD_PRCDR_CD23' 'PRCDR_DT23'\n",
      " 'ICD_PRCDR_CD24' 'PRCDR_DT24' 'ICD_PRCDR_CD25' 'PRCDR_DT25'\n",
      " 'IME_OP_CLM_VAL_AMT' 'DSH_OP_CLM_VAL_AMT' 'CLM_UNCOMPD_CARE_PMT_AMT'\n",
      " 'CLM_LINE_NUM' 'REV_CNTR' 'HCPCS_CD' 'REV_CNTR_DDCTBL_COINSRNC_CD']\n"
     ]
    }
   ],
   "source": [
    "print(np.array(inpatient.columns))"
   ]
  },
  {
   "cell_type": "code",
   "execution_count": 24,
   "metadata": {
    "colab": {
     "base_uri": "https://localhost:8080/"
    },
    "executionInfo": {
     "elapsed": 17,
     "status": "ok",
     "timestamp": 1740498920313,
     "user": {
      "displayName": "Luke Wilsen",
      "userId": "08296025252065350541"
     },
     "user_tz": 300
    },
    "id": "Ntxi7e1v6Pt_",
    "outputId": "e475bfaf-4051-42ab-8b93-4b3ca0c914b4"
   },
   "outputs": [
    {
     "name": "stdout",
     "output_type": "stream",
     "text": [
      "<class 'pandas.core.frame.DataFrame'>\n",
      "RangeIndex: 58066 entries, 0 to 58065\n",
      "Columns: 197 entries, BENE_ID to REV_CNTR_DDCTBL_COINSRNC_CD\n",
      "dtypes: float64(19), int64(37), object(141)\n",
      "memory usage: 87.3+ MB\n"
     ]
    }
   ],
   "source": [
    "inpatient.info()"
   ]
  },
  {
   "cell_type": "code",
   "execution_count": 25,
   "metadata": {
    "colab": {
     "base_uri": "https://localhost:8080/"
    },
    "executionInfo": {
     "elapsed": 290,
     "status": "ok",
     "timestamp": 1740498920603,
     "user": {
      "displayName": "Luke Wilsen",
      "userId": "08296025252065350541"
     },
     "user_tz": 300
    },
    "id": "1h4Jr_72m3Gi",
    "outputId": "4c6449cc-ff9a-4b6f-a519-c3ebc3efa873"
   },
   "outputs": [],
   "source": [
    "inpatient[\"BENE_ID\"] = inpatient[\"BENE_ID\"].astype(str)\n",
    "inpatient[\"CLM_ID\"] = inpatient[\"CLM_ID\"].astype(str)\n",
    "inpatient['PTNT_DSCHRG_STUS_CD'] = inpatient['PTNT_DSCHRG_STUS_CD'].astype(str)\n",
    "inpatient['CLM_IP_ADMSN_TYPE_CD'] = inpatient['CLM_IP_ADMSN_TYPE_CD'].astype(str)\n",
    "\n",
    "#Convert date columns\n",
    "inpatient['CLM_FROM_DT'] = pd.to_datetime(inpatient['CLM_FROM_DT'], format='%d-%b-%Y')\n",
    "inpatient['CLM_THRU_DT'] = pd.to_datetime(inpatient['CLM_THRU_DT'], format='%d-%b-%Y')\n",
    "\n",
    "#calculate LOS and YR\n",
    "inpatient['LOS'] = (inpatient['CLM_THRU_DT'] - inpatient['CLM_FROM_DT']).dt.days\n",
    "inpatient['YR'] = inpatient['CLM_FROM_DT'].dt.year\n",
    "\n",
    "#Convert claim drg to numeric\n",
    "inpatient['CLM_DRG_CD'] = pd.to_numeric(inpatient['CLM_DRG_CD'], errors='coerce')\n",
    "inpatient['DRG'] = inpatient['CLM_DRG_CD'].fillna(0).astype(int).astype(str).str.zfill(3)\n",
    "\n",
    "#drop columns\n",
    "#E codes correspond to injury codes so include if interested\n",
    "#POA in col for present on admission (could be used to measure infections/conditions aquired in hospital)\n",
    "cols_to_drop = ['CLM_DRG_CD'] + [col for col in inpatient.columns if 'POA' in col or col.endswith(\"UPIN\") or col.startswith(\"ICD_DGNS_E_CD\") or col.startswith(\"PRCDR_DT\")]\n",
    "inpatient = inpatient.drop(columns=cols_to_drop)\n",
    "\n",
    "#filter rows\n",
    "inpatient = inpatient[inpatient['CLM_LINE_NUM'] == 1] #amt charged per claim is the same for each claim line num\n",
    "\n",
    "# ER flag\n",
    "# Try out including ER flag with LOS > 1\n",
    "inpatient[\"ER_flag\"] = np.where((inpatient['REV_CNTR'] == 450) & (inpatient[\"LOS\"] == 1), 1, 0)\n",
    "inpatient[\"ER_outpatient_flag\"] = np.where((inpatient['REV_CNTR'] == 450) & (inpatient[\"LOS\"] == 0), 1, 0) #these obs technically belong in the outpatient file"
   ]
  },
  {
   "cell_type": "code",
   "execution_count": 26,
   "metadata": {
    "executionInfo": {
     "elapsed": 71,
     "status": "ok",
     "timestamp": 1740498920695,
     "user": {
      "displayName": "Luke Wilsen",
      "userId": "08296025252065350541"
     },
     "user_tz": 300
    },
    "id": "AtEGcnIk7UFW"
   },
   "outputs": [],
   "source": [
    "unique_cols = inpatient.nunique()\n",
    "sorted_unique_cols = unique_cols.sort_values(ascending=True)\n",
    "\n",
    "meaning_cols = list(sorted_unique_cols[(sorted_unique_cols != 0) & (sorted_unique_cols != 1)].index)"
   ]
  },
  {
   "cell_type": "code",
   "execution_count": 27,
   "metadata": {
    "colab": {
     "base_uri": "https://localhost:8080/"
    },
    "executionInfo": {
     "elapsed": 8,
     "status": "ok",
     "timestamp": 1740498920717,
     "user": {
      "displayName": "Luke Wilsen",
      "userId": "08296025252065350541"
     },
     "user_tz": 300
    },
    "id": "IwXKDHdr_ZnB",
    "outputId": "98fa91a1-ca2b-4c4c-a165-140a0d03b489"
   },
   "outputs": [
    {
     "name": "stdout",
     "output_type": "stream",
     "text": [
      "CLM_ID                            1.000000\n",
      "CLM_PMT_AMT                       0.495567\n",
      "CLM_TOT_CHRG_AMT                  0.495567\n",
      "NCH_BENE_PTA_COINSRNC_LBLTY_AM    0.384914\n",
      "BENE_ID                           0.273111\n",
      "ORG_NPI_NUM                       0.234916\n",
      "PRVDR_NUM                         0.233670\n",
      "CLM_ADMSN_DT                      0.139646\n",
      "CLM_FROM_DT                       0.139646\n",
      "CLM_THRU_DT                       0.139455\n",
      "NCH_BENE_DSCHRG_DT                0.139455\n",
      "OP_PHYSN_NPI                      0.118033\n",
      "AT_PHYSN_NPI                      0.118033\n",
      "NCH_IP_TOT_DDCTN_AMT              0.113576\n",
      "NCH_IP_NCVRD_CHRG_AMT             0.113576\n",
      "NCH_PRMRY_PYR_CLM_PD_AMT          0.108449\n",
      "NCH_BENE_IP_DDCTBL_AMT            0.033258\n",
      "NCH_WKLY_PROC_DT                  0.019984\n",
      "ICD_DGNS_CD2                      0.011597\n",
      "ICD_DGNS_CD3                      0.011406\n",
      "dtype: float64\n"
     ]
    }
   ],
   "source": [
    "unique_ratio = unique_cols / len(inpatient)\n",
    "\n",
    "# Display the columns with high uniqueness\n",
    "print(unique_ratio.sort_values(ascending=False).head(20))"
   ]
  },
  {
   "cell_type": "code",
   "execution_count": 28,
   "metadata": {
    "executionInfo": {
     "elapsed": 13,
     "status": "ok",
     "timestamp": 1740498920731,
     "user": {
      "displayName": "Luke Wilsen",
      "userId": "08296025252065350541"
     },
     "user_tz": 300
    },
    "id": "EfAITcijL0BL"
   },
   "outputs": [],
   "source": [
    "select_vars = [\"BENE_ID\",\n",
    "            \"CLM_ID\",\n",
    "            \"LOS\",\n",
    "            \"CLM_PMT_AMT\",\n",
    "            \"YR\",\n",
    "            \"PRNCPAL_DGNS_CD\",\n",
    "            \"DRG\",\n",
    "            \"PTNT_DSCHRG_STUS_CD\",\n",
    "            \"ER_flag\"]"
   ]
  },
  {
   "cell_type": "code",
   "execution_count": null,
   "metadata": {
    "executionInfo": {
     "elapsed": 13,
     "status": "ok",
     "timestamp": 1740498920745,
     "user": {
      "displayName": "Luke Wilsen",
      "userId": "08296025252065350541"
     },
     "user_tz": 300
    },
    "id": "xXkVb-W6L9MP"
   },
   "outputs": [
    {
     "ename": "NameError",
     "evalue": "name 'inpatient' is not defined",
     "output_type": "error",
     "traceback": [
      "\u001b[0;31m---------------------------------------------------------------------------\u001b[0m",
      "\u001b[0;31mNameError\u001b[0m                                 Traceback (most recent call last)",
      "Cell \u001b[0;32mIn[1], line 1\u001b[0m\n\u001b[0;32m----> 1\u001b[0m diagnosis \u001b[38;5;241m=\u001b[39m \u001b[43minpatient\u001b[49m[[\u001b[38;5;124m\"\u001b[39m\u001b[38;5;124mBENE_ID\u001b[39m\u001b[38;5;124m\"\u001b[39m,\u001b[38;5;124m\"\u001b[39m\u001b[38;5;124mYR\u001b[39m\u001b[38;5;124m\"\u001b[39m,\u001b[38;5;124m\"\u001b[39m\u001b[38;5;124mPRNCPAL_DGNS_CD\u001b[39m\u001b[38;5;124m\"\u001b[39m] \u001b[38;5;241m+\u001b[39m [col \u001b[38;5;28;01mfor\u001b[39;00m col \u001b[38;5;129;01min\u001b[39;00m inpatient\u001b[38;5;241m.\u001b[39mcolumns \u001b[38;5;28;01mif\u001b[39;00m col\u001b[38;5;241m.\u001b[39mstartswith(\u001b[38;5;124m\"\u001b[39m\u001b[38;5;124mICD_DGNS_CD\u001b[39m\u001b[38;5;124m\"\u001b[39m)]]\n\u001b[1;32m      2\u001b[0m diagnosis\n",
      "\u001b[0;31mNameError\u001b[0m: name 'inpatient' is not defined"
     ]
    }
   ],
   "source": [
    "diagnosis = inpatient[[\"BENE_ID\",\"YR\",\"PRNCPAL_DGNS_CD\"] + [col for col in inpatient.columns if col.startswith(\"ICD_DGNS_CD\")]]\n"
   ]
  },
  {
   "cell_type": "code",
   "execution_count": 30,
   "metadata": {
    "executionInfo": {
     "elapsed": 279,
     "status": "ok",
     "timestamp": 1740498921025,
     "user": {
      "displayName": "Luke Wilsen",
      "userId": "08296025252065350541"
     },
     "user_tz": 300
    },
    "id": "QQG7ITC27LRp"
   },
   "outputs": [],
   "source": [
    "#Wide to long\n",
    "diagnosis = pd.melt(diagnosis,\n",
    "                    id_vars = [\"BENE_ID\", \"YR\"],\n",
    "                    var_name = \"ICD_DIAG_COL\",\n",
    "                    value_name = \"ICD_DIAG_CD\")\n",
    "\n",
    "diagnosis = diagnosis[diagnosis['ICD_DIAG_CD'].notna() & (diagnosis['ICD_DIAG_CD'] != \"\")]\n",
    "\n",
    "diagnosis.drop(columns=\"ICD_DIAG_COL\", inplace=True)\n",
    "diagnosis = diagnosis.drop_duplicates()"
   ]
  },
  {
   "cell_type": "code",
   "execution_count": 31,
   "metadata": {
    "colab": {
     "base_uri": "https://localhost:8080/",
     "height": 1000
    },
    "executionInfo": {
     "elapsed": 34,
     "status": "ok",
     "timestamp": 1740498921061,
     "user": {
      "displayName": "Luke Wilsen",
      "userId": "08296025252065350541"
     },
     "user_tz": 300
    },
    "id": "Ivp932fGLTEM",
    "outputId": "9484d9f8-334a-4c9f-eb75-354e016af9a5"
   },
   "outputs": [
    {
     "data": {
      "application/vnd.microsoft.datawrangler.viewer.v0+json": {
       "columns": [
        {
         "name": "index",
         "rawType": "int64",
         "type": "integer"
        },
        {
         "name": "BENE_ID",
         "rawType": "object",
         "type": "string"
        },
        {
         "name": "YR",
         "rawType": "int64",
         "type": "integer"
        },
        {
         "name": "ICD_DIAG_CD",
         "rawType": "object",
         "type": "string"
        }
       ],
       "conversionMethod": "pd.DataFrame",
       "ref": "f6328a60-2ff3-4004-94b3-461d81695715",
       "rows": [
        [
         "8",
         "-10000010254691",
         "2020",
         "Z608"
        ],
        [
         "10",
         "-10000010254691",
         "2020",
         "R5081"
        ],
        [
         "11",
         "-10000010254691",
         "2021",
         "Z733"
        ],
        [
         "20877",
         "-10000010254691",
         "2020",
         "P84"
        ],
        [
         "41742",
         "-10000010254691",
         "2020",
         "Z7682"
        ],
        [
         "41744",
         "-10000010254691",
         "2020",
         "T7432X"
        ],
        [
         "41745",
         "-10000010254691",
         "2021",
         "R0902"
        ],
        [
         "62609",
         "-10000010254691",
         "2020",
         "N184"
        ],
        [
         "62612",
         "-10000010254691",
         "2021",
         "Z608"
        ],
        [
         "83476",
         "-10000010254691",
         "2020",
         "E1121"
        ],
        [
         "83477",
         "-10000010254691",
         "2020",
         "R809"
        ],
        [
         "83479",
         "-10000010254691",
         "2021",
         "Z7682"
        ],
        [
         "104343",
         "-10000010254691",
         "2020",
         "Y0703"
        ],
        [
         "104344",
         "-10000010254691",
         "2020",
         "E0922"
        ],
        [
         "104346",
         "-10000010254691",
         "2021",
         "N184"
        ],
        [
         "125210",
         "-10000010254691",
         "2020",
         "N182"
        ],
        [
         "125211",
         "-10000010254691",
         "2020",
         "R801"
        ],
        [
         "125213",
         "-10000010254691",
         "2021",
         "E1129"
        ],
        [
         "146077",
         "-10000010254691",
         "2020",
         "E1129"
        ],
        [
         "146078",
         "-10000010254691",
         "2020",
         "I1310"
        ],
        [
         "146080",
         "-10000010254691",
         "2021",
         "N182"
        ],
        [
         "166944",
         "-10000010254691",
         "2020",
         "I129"
        ],
        [
         "187812",
         "-10000010254691",
         "2020",
         "I10"
        ],
        [
         "187814",
         "-10000010254691",
         "2021",
         "E1122"
        ],
        [
         "208679",
         "-10000010254691",
         "2020",
         "E669"
        ],
        [
         "208681",
         "-10000010254691",
         "2021",
         "E1121"
        ],
        [
         "229546",
         "-10000010254691",
         "2020",
         "K37"
        ],
        [
         "229547",
         "-10000010254691",
         "2020",
         "P292"
        ],
        [
         "229548",
         "-10000010254691",
         "2021",
         "P292"
        ],
        [
         "250413",
         "-10000010254691",
         "2020",
         "Z9049"
        ],
        [
         "250415",
         "-10000010254691",
         "2021",
         "E669"
        ],
        [
         "271282",
         "-10000010254691",
         "2021",
         "K37"
        ],
        [
         "292149",
         "-10000010254691",
         "2021",
         "Z9049"
        ]
       ],
       "shape": {
        "columns": 3,
        "rows": 33
       }
      },
      "text/html": [
       "<div>\n",
       "<style scoped>\n",
       "    .dataframe tbody tr th:only-of-type {\n",
       "        vertical-align: middle;\n",
       "    }\n",
       "\n",
       "    .dataframe tbody tr th {\n",
       "        vertical-align: top;\n",
       "    }\n",
       "\n",
       "    .dataframe thead th {\n",
       "        text-align: right;\n",
       "    }\n",
       "</style>\n",
       "<table border=\"1\" class=\"dataframe\">\n",
       "  <thead>\n",
       "    <tr style=\"text-align: right;\">\n",
       "      <th></th>\n",
       "      <th>BENE_ID</th>\n",
       "      <th>YR</th>\n",
       "      <th>ICD_DIAG_CD</th>\n",
       "    </tr>\n",
       "  </thead>\n",
       "  <tbody>\n",
       "    <tr>\n",
       "      <th>8</th>\n",
       "      <td>-10000010254691</td>\n",
       "      <td>2020</td>\n",
       "      <td>Z608</td>\n",
       "    </tr>\n",
       "    <tr>\n",
       "      <th>10</th>\n",
       "      <td>-10000010254691</td>\n",
       "      <td>2020</td>\n",
       "      <td>R5081</td>\n",
       "    </tr>\n",
       "    <tr>\n",
       "      <th>11</th>\n",
       "      <td>-10000010254691</td>\n",
       "      <td>2021</td>\n",
       "      <td>Z733</td>\n",
       "    </tr>\n",
       "    <tr>\n",
       "      <th>20877</th>\n",
       "      <td>-10000010254691</td>\n",
       "      <td>2020</td>\n",
       "      <td>P84</td>\n",
       "    </tr>\n",
       "    <tr>\n",
       "      <th>41742</th>\n",
       "      <td>-10000010254691</td>\n",
       "      <td>2020</td>\n",
       "      <td>Z7682</td>\n",
       "    </tr>\n",
       "    <tr>\n",
       "      <th>41744</th>\n",
       "      <td>-10000010254691</td>\n",
       "      <td>2020</td>\n",
       "      <td>T7432X</td>\n",
       "    </tr>\n",
       "    <tr>\n",
       "      <th>41745</th>\n",
       "      <td>-10000010254691</td>\n",
       "      <td>2021</td>\n",
       "      <td>R0902</td>\n",
       "    </tr>\n",
       "    <tr>\n",
       "      <th>62609</th>\n",
       "      <td>-10000010254691</td>\n",
       "      <td>2020</td>\n",
       "      <td>N184</td>\n",
       "    </tr>\n",
       "    <tr>\n",
       "      <th>62612</th>\n",
       "      <td>-10000010254691</td>\n",
       "      <td>2021</td>\n",
       "      <td>Z608</td>\n",
       "    </tr>\n",
       "    <tr>\n",
       "      <th>83476</th>\n",
       "      <td>-10000010254691</td>\n",
       "      <td>2020</td>\n",
       "      <td>E1121</td>\n",
       "    </tr>\n",
       "    <tr>\n",
       "      <th>83477</th>\n",
       "      <td>-10000010254691</td>\n",
       "      <td>2020</td>\n",
       "      <td>R809</td>\n",
       "    </tr>\n",
       "    <tr>\n",
       "      <th>83479</th>\n",
       "      <td>-10000010254691</td>\n",
       "      <td>2021</td>\n",
       "      <td>Z7682</td>\n",
       "    </tr>\n",
       "    <tr>\n",
       "      <th>104343</th>\n",
       "      <td>-10000010254691</td>\n",
       "      <td>2020</td>\n",
       "      <td>Y0703</td>\n",
       "    </tr>\n",
       "    <tr>\n",
       "      <th>104344</th>\n",
       "      <td>-10000010254691</td>\n",
       "      <td>2020</td>\n",
       "      <td>E0922</td>\n",
       "    </tr>\n",
       "    <tr>\n",
       "      <th>104346</th>\n",
       "      <td>-10000010254691</td>\n",
       "      <td>2021</td>\n",
       "      <td>N184</td>\n",
       "    </tr>\n",
       "    <tr>\n",
       "      <th>125210</th>\n",
       "      <td>-10000010254691</td>\n",
       "      <td>2020</td>\n",
       "      <td>N182</td>\n",
       "    </tr>\n",
       "    <tr>\n",
       "      <th>125211</th>\n",
       "      <td>-10000010254691</td>\n",
       "      <td>2020</td>\n",
       "      <td>R801</td>\n",
       "    </tr>\n",
       "    <tr>\n",
       "      <th>125213</th>\n",
       "      <td>-10000010254691</td>\n",
       "      <td>2021</td>\n",
       "      <td>E1129</td>\n",
       "    </tr>\n",
       "    <tr>\n",
       "      <th>146077</th>\n",
       "      <td>-10000010254691</td>\n",
       "      <td>2020</td>\n",
       "      <td>E1129</td>\n",
       "    </tr>\n",
       "    <tr>\n",
       "      <th>146078</th>\n",
       "      <td>-10000010254691</td>\n",
       "      <td>2020</td>\n",
       "      <td>I1310</td>\n",
       "    </tr>\n",
       "    <tr>\n",
       "      <th>146080</th>\n",
       "      <td>-10000010254691</td>\n",
       "      <td>2021</td>\n",
       "      <td>N182</td>\n",
       "    </tr>\n",
       "    <tr>\n",
       "      <th>166944</th>\n",
       "      <td>-10000010254691</td>\n",
       "      <td>2020</td>\n",
       "      <td>I129</td>\n",
       "    </tr>\n",
       "    <tr>\n",
       "      <th>187812</th>\n",
       "      <td>-10000010254691</td>\n",
       "      <td>2020</td>\n",
       "      <td>I10</td>\n",
       "    </tr>\n",
       "    <tr>\n",
       "      <th>187814</th>\n",
       "      <td>-10000010254691</td>\n",
       "      <td>2021</td>\n",
       "      <td>E1122</td>\n",
       "    </tr>\n",
       "    <tr>\n",
       "      <th>208679</th>\n",
       "      <td>-10000010254691</td>\n",
       "      <td>2020</td>\n",
       "      <td>E669</td>\n",
       "    </tr>\n",
       "    <tr>\n",
       "      <th>208681</th>\n",
       "      <td>-10000010254691</td>\n",
       "      <td>2021</td>\n",
       "      <td>E1121</td>\n",
       "    </tr>\n",
       "    <tr>\n",
       "      <th>229546</th>\n",
       "      <td>-10000010254691</td>\n",
       "      <td>2020</td>\n",
       "      <td>K37</td>\n",
       "    </tr>\n",
       "    <tr>\n",
       "      <th>229547</th>\n",
       "      <td>-10000010254691</td>\n",
       "      <td>2020</td>\n",
       "      <td>P292</td>\n",
       "    </tr>\n",
       "    <tr>\n",
       "      <th>229548</th>\n",
       "      <td>-10000010254691</td>\n",
       "      <td>2021</td>\n",
       "      <td>P292</td>\n",
       "    </tr>\n",
       "    <tr>\n",
       "      <th>250413</th>\n",
       "      <td>-10000010254691</td>\n",
       "      <td>2020</td>\n",
       "      <td>Z9049</td>\n",
       "    </tr>\n",
       "    <tr>\n",
       "      <th>250415</th>\n",
       "      <td>-10000010254691</td>\n",
       "      <td>2021</td>\n",
       "      <td>E669</td>\n",
       "    </tr>\n",
       "    <tr>\n",
       "      <th>271282</th>\n",
       "      <td>-10000010254691</td>\n",
       "      <td>2021</td>\n",
       "      <td>K37</td>\n",
       "    </tr>\n",
       "    <tr>\n",
       "      <th>292149</th>\n",
       "      <td>-10000010254691</td>\n",
       "      <td>2021</td>\n",
       "      <td>Z9049</td>\n",
       "    </tr>\n",
       "  </tbody>\n",
       "</table>\n",
       "</div>"
      ],
      "text/plain": [
       "                BENE_ID    YR ICD_DIAG_CD\n",
       "8       -10000010254691  2020        Z608\n",
       "10      -10000010254691  2020       R5081\n",
       "11      -10000010254691  2021        Z733\n",
       "20877   -10000010254691  2020         P84\n",
       "41742   -10000010254691  2020       Z7682\n",
       "41744   -10000010254691  2020      T7432X\n",
       "41745   -10000010254691  2021       R0902\n",
       "62609   -10000010254691  2020        N184\n",
       "62612   -10000010254691  2021        Z608\n",
       "83476   -10000010254691  2020       E1121\n",
       "83477   -10000010254691  2020        R809\n",
       "83479   -10000010254691  2021       Z7682\n",
       "104343  -10000010254691  2020       Y0703\n",
       "104344  -10000010254691  2020       E0922\n",
       "104346  -10000010254691  2021        N184\n",
       "125210  -10000010254691  2020        N182\n",
       "125211  -10000010254691  2020        R801\n",
       "125213  -10000010254691  2021       E1129\n",
       "146077  -10000010254691  2020       E1129\n",
       "146078  -10000010254691  2020       I1310\n",
       "146080  -10000010254691  2021        N182\n",
       "166944  -10000010254691  2020        I129\n",
       "187812  -10000010254691  2020         I10\n",
       "187814  -10000010254691  2021       E1122\n",
       "208679  -10000010254691  2020        E669\n",
       "208681  -10000010254691  2021       E1121\n",
       "229546  -10000010254691  2020         K37\n",
       "229547  -10000010254691  2020        P292\n",
       "229548  -10000010254691  2021        P292\n",
       "250413  -10000010254691  2020       Z9049\n",
       "250415  -10000010254691  2021        E669\n",
       "271282  -10000010254691  2021         K37\n",
       "292149  -10000010254691  2021       Z9049"
      ]
     },
     "execution_count": 31,
     "metadata": {},
     "output_type": "execute_result"
    }
   ],
   "source": [
    "diagnosis[diagnosis[\"BENE_ID\"] == \"-10000010254691\"]"
   ]
  },
  {
   "cell_type": "code",
   "execution_count": 32,
   "metadata": {
    "executionInfo": {
     "elapsed": 2,
     "status": "ok",
     "timestamp": 1740498921108,
     "user": {
      "displayName": "Luke Wilsen",
      "userId": "08296025252065350541"
     },
     "user_tz": 300
    },
    "id": "_J57lVfM8R0H"
   },
   "outputs": [],
   "source": [
    "diagnosis = pd.merge(diagnosis, icd_codes, how = \"left\", left_on = \"ICD_DIAG_CD\", right_on = \"ICD_Code\")"
   ]
  },
  {
   "cell_type": "code",
   "execution_count": 33,
   "metadata": {
    "executionInfo": {
     "elapsed": 35,
     "status": "ok",
     "timestamp": 1740498921143,
     "user": {
      "displayName": "Luke Wilsen",
      "userId": "08296025252065350541"
     },
     "user_tz": 300
    },
    "id": "ro8UTvsiISHT"
   },
   "outputs": [],
   "source": [
    "diagnosis.drop(columns=\"ICD_Code\", inplace=True)"
   ]
  },
  {
   "cell_type": "code",
   "execution_count": 34,
   "metadata": {
    "colab": {
     "base_uri": "https://localhost:8080/",
     "height": 1000
    },
    "executionInfo": {
     "elapsed": 4,
     "status": "ok",
     "timestamp": 1740498921159,
     "user": {
      "displayName": "Luke Wilsen",
      "userId": "08296025252065350541"
     },
     "user_tz": 300
    },
    "id": "dumS-NF2LDtI",
    "outputId": "961e70d4-2361-431f-d2fa-dcdeb42073b4"
   },
   "outputs": [
    {
     "data": {
      "application/vnd.microsoft.datawrangler.viewer.v0+json": {
       "columns": [
        {
         "name": "index",
         "rawType": "int64",
         "type": "integer"
        },
        {
         "name": "BENE_ID",
         "rawType": "object",
         "type": "string"
        },
        {
         "name": "YR",
         "rawType": "int64",
         "type": "integer"
        },
        {
         "name": "ICD_DIAG_CD",
         "rawType": "object",
         "type": "string"
        },
        {
         "name": "ICD_Description",
         "rawType": "object",
         "type": "string"
        }
       ],
       "conversionMethod": "pd.DataFrame",
       "ref": "ab3bbd21-0686-40ff-a1a4-98ec5f17109c",
       "rows": [
        [
         "8",
         "-10000010254691",
         "2020",
         "Z608",
         "Other problems related to social environment"
        ],
        [
         "9",
         "-10000010254691",
         "2020",
         "R5081",
         " Fever presenting with conditions classified elsewhere"
        ],
        [
         "10",
         "-10000010254691",
         "2021",
         "Z733",
         "Stress, not elsewhere classified"
        ],
        [
         "15254",
         "-10000010254691",
         "2020",
         "P84",
         " Other problems with newborn"
        ],
        [
         "20339",
         "-10000010254691",
         "2020",
         "Z7682",
         " Awaiting organ transplant status"
        ],
        [
         "20340",
         "-10000010254691",
         "2020",
         "T7432X",
         "Child psychological abuse, confirmed"
        ],
        [
         "20341",
         "-10000010254691",
         "2021",
         "R0902",
         " Hypoxemia"
        ],
        [
         "32840",
         "-10000010254691",
         "2020",
         "N184",
         "Chronic kidney disease, stage 4 (severe)"
        ],
        [
         "32841",
         "-10000010254691",
         "2021",
         "Z608",
         "Other problems related to social environment"
        ],
        [
         "45197",
         "-10000010254691",
         "2020",
         "E1121",
         " Type 2 diabetes mellitus with diabetic nephropathy"
        ],
        [
         "45198",
         "-10000010254691",
         "2020",
         "R809",
         "Proteinuria, unspecified"
        ],
        [
         "45199",
         "-10000010254691",
         "2021",
         "Z7682",
         " Awaiting organ transplant status"
        ],
        [
         "57149",
         "-10000010254691",
         "2020",
         "Y0703",
         " Male partner, perpetrator of maltreatment and neglect"
        ],
        [
         "57150",
         "-10000010254691",
         "2020",
         "E0922",
         " Drug or chemical induced diabetes mellitus with diabetic chronic kidney disease"
        ],
        [
         "57151",
         "-10000010254691",
         "2021",
         "N184",
         "Chronic kidney disease, stage 4 (severe)"
        ],
        [
         "68819",
         "-10000010254691",
         "2020",
         "N182",
         "Chronic kidney disease, stage 2 (mild)"
        ],
        [
         "68820",
         "-10000010254691",
         "2020",
         "R801",
         "Persistent proteinuria, unspecified"
        ],
        [
         "68821",
         "-10000010254691",
         "2021",
         "E1129",
         " Type 2 diabetes mellitus with other diabetic kidney complication"
        ],
        [
         "80085",
         "-10000010254691",
         "2020",
         "E1129",
         " Type 2 diabetes mellitus with other diabetic kidney complication"
        ],
        [
         "80086",
         "-10000010254691",
         "2020",
         "I1310",
         " Hypertensive heart and chronic kidney disease without heart failure, with stage 1 through stage 4 chronic kidney disease, or unspecified chronic kidney disease"
        ],
        [
         "80087",
         "-10000010254691",
         "2021",
         "N182",
         "Chronic kidney disease, stage 2 (mild)"
        ],
        [
         "90896",
         "-10000010254691",
         "2020",
         "I129",
         "Hypertensive chronic kidney disease with stage 1 through stage 4 chronic kidney disease, or unspecified chronic kidney disease"
        ],
        [
         "101229",
         "-10000010254691",
         "2020",
         "I10",
         " Essential (primary) hypertension"
        ],
        [
         "101230",
         "-10000010254691",
         "2021",
         "E1122",
         " Type 2 diabetes mellitus with diabetic chronic kidney disease"
        ],
        [
         "110874",
         "-10000010254691",
         "2020",
         "E669",
         "Obesity, unspecified"
        ],
        [
         "110875",
         "-10000010254691",
         "2021",
         "E1121",
         " Type 2 diabetes mellitus with diabetic nephropathy"
        ],
        [
         "119841",
         "-10000010254691",
         "2020",
         "K37",
         " Unspecified appendicitis"
        ],
        [
         "119842",
         "-10000010254691",
         "2020",
         "P292",
         "Neonatal hypertension"
        ],
        [
         "119843",
         "-10000010254691",
         "2021",
         "P292",
         "Neonatal hypertension"
        ],
        [
         "128141",
         "-10000010254691",
         "2020",
         "Z9049",
         " Acquired absence of other specified parts of digestive tract"
        ],
        [
         "128142",
         "-10000010254691",
         "2021",
         "E669",
         "Obesity, unspecified"
        ],
        [
         "135703",
         "-10000010254691",
         "2021",
         "K37",
         " Unspecified appendicitis"
        ],
        [
         "142549",
         "-10000010254691",
         "2021",
         "Z9049",
         " Acquired absence of other specified parts of digestive tract"
        ]
       ],
       "shape": {
        "columns": 4,
        "rows": 33
       }
      },
      "text/html": [
       "<div>\n",
       "<style scoped>\n",
       "    .dataframe tbody tr th:only-of-type {\n",
       "        vertical-align: middle;\n",
       "    }\n",
       "\n",
       "    .dataframe tbody tr th {\n",
       "        vertical-align: top;\n",
       "    }\n",
       "\n",
       "    .dataframe thead th {\n",
       "        text-align: right;\n",
       "    }\n",
       "</style>\n",
       "<table border=\"1\" class=\"dataframe\">\n",
       "  <thead>\n",
       "    <tr style=\"text-align: right;\">\n",
       "      <th></th>\n",
       "      <th>BENE_ID</th>\n",
       "      <th>YR</th>\n",
       "      <th>ICD_DIAG_CD</th>\n",
       "      <th>ICD_Description</th>\n",
       "    </tr>\n",
       "  </thead>\n",
       "  <tbody>\n",
       "    <tr>\n",
       "      <th>8</th>\n",
       "      <td>-10000010254691</td>\n",
       "      <td>2020</td>\n",
       "      <td>Z608</td>\n",
       "      <td>Other problems related to social environment</td>\n",
       "    </tr>\n",
       "    <tr>\n",
       "      <th>9</th>\n",
       "      <td>-10000010254691</td>\n",
       "      <td>2020</td>\n",
       "      <td>R5081</td>\n",
       "      <td>Fever presenting with conditions classified e...</td>\n",
       "    </tr>\n",
       "    <tr>\n",
       "      <th>10</th>\n",
       "      <td>-10000010254691</td>\n",
       "      <td>2021</td>\n",
       "      <td>Z733</td>\n",
       "      <td>Stress, not elsewhere classified</td>\n",
       "    </tr>\n",
       "    <tr>\n",
       "      <th>15254</th>\n",
       "      <td>-10000010254691</td>\n",
       "      <td>2020</td>\n",
       "      <td>P84</td>\n",
       "      <td>Other problems with newborn</td>\n",
       "    </tr>\n",
       "    <tr>\n",
       "      <th>20339</th>\n",
       "      <td>-10000010254691</td>\n",
       "      <td>2020</td>\n",
       "      <td>Z7682</td>\n",
       "      <td>Awaiting organ transplant status</td>\n",
       "    </tr>\n",
       "    <tr>\n",
       "      <th>20340</th>\n",
       "      <td>-10000010254691</td>\n",
       "      <td>2020</td>\n",
       "      <td>T7432X</td>\n",
       "      <td>Child psychological abuse, confirmed</td>\n",
       "    </tr>\n",
       "    <tr>\n",
       "      <th>20341</th>\n",
       "      <td>-10000010254691</td>\n",
       "      <td>2021</td>\n",
       "      <td>R0902</td>\n",
       "      <td>Hypoxemia</td>\n",
       "    </tr>\n",
       "    <tr>\n",
       "      <th>32840</th>\n",
       "      <td>-10000010254691</td>\n",
       "      <td>2020</td>\n",
       "      <td>N184</td>\n",
       "      <td>Chronic kidney disease, stage 4 (severe)</td>\n",
       "    </tr>\n",
       "    <tr>\n",
       "      <th>32841</th>\n",
       "      <td>-10000010254691</td>\n",
       "      <td>2021</td>\n",
       "      <td>Z608</td>\n",
       "      <td>Other problems related to social environment</td>\n",
       "    </tr>\n",
       "    <tr>\n",
       "      <th>45197</th>\n",
       "      <td>-10000010254691</td>\n",
       "      <td>2020</td>\n",
       "      <td>E1121</td>\n",
       "      <td>Type 2 diabetes mellitus with diabetic nephro...</td>\n",
       "    </tr>\n",
       "    <tr>\n",
       "      <th>45198</th>\n",
       "      <td>-10000010254691</td>\n",
       "      <td>2020</td>\n",
       "      <td>R809</td>\n",
       "      <td>Proteinuria, unspecified</td>\n",
       "    </tr>\n",
       "    <tr>\n",
       "      <th>45199</th>\n",
       "      <td>-10000010254691</td>\n",
       "      <td>2021</td>\n",
       "      <td>Z7682</td>\n",
       "      <td>Awaiting organ transplant status</td>\n",
       "    </tr>\n",
       "    <tr>\n",
       "      <th>57149</th>\n",
       "      <td>-10000010254691</td>\n",
       "      <td>2020</td>\n",
       "      <td>Y0703</td>\n",
       "      <td>Male partner, perpetrator of maltreatment and...</td>\n",
       "    </tr>\n",
       "    <tr>\n",
       "      <th>57150</th>\n",
       "      <td>-10000010254691</td>\n",
       "      <td>2020</td>\n",
       "      <td>E0922</td>\n",
       "      <td>Drug or chemical induced diabetes mellitus wi...</td>\n",
       "    </tr>\n",
       "    <tr>\n",
       "      <th>57151</th>\n",
       "      <td>-10000010254691</td>\n",
       "      <td>2021</td>\n",
       "      <td>N184</td>\n",
       "      <td>Chronic kidney disease, stage 4 (severe)</td>\n",
       "    </tr>\n",
       "    <tr>\n",
       "      <th>68819</th>\n",
       "      <td>-10000010254691</td>\n",
       "      <td>2020</td>\n",
       "      <td>N182</td>\n",
       "      <td>Chronic kidney disease, stage 2 (mild)</td>\n",
       "    </tr>\n",
       "    <tr>\n",
       "      <th>68820</th>\n",
       "      <td>-10000010254691</td>\n",
       "      <td>2020</td>\n",
       "      <td>R801</td>\n",
       "      <td>Persistent proteinuria, unspecified</td>\n",
       "    </tr>\n",
       "    <tr>\n",
       "      <th>68821</th>\n",
       "      <td>-10000010254691</td>\n",
       "      <td>2021</td>\n",
       "      <td>E1129</td>\n",
       "      <td>Type 2 diabetes mellitus with other diabetic ...</td>\n",
       "    </tr>\n",
       "    <tr>\n",
       "      <th>80085</th>\n",
       "      <td>-10000010254691</td>\n",
       "      <td>2020</td>\n",
       "      <td>E1129</td>\n",
       "      <td>Type 2 diabetes mellitus with other diabetic ...</td>\n",
       "    </tr>\n",
       "    <tr>\n",
       "      <th>80086</th>\n",
       "      <td>-10000010254691</td>\n",
       "      <td>2020</td>\n",
       "      <td>I1310</td>\n",
       "      <td>Hypertensive heart and chronic kidney disease...</td>\n",
       "    </tr>\n",
       "    <tr>\n",
       "      <th>80087</th>\n",
       "      <td>-10000010254691</td>\n",
       "      <td>2021</td>\n",
       "      <td>N182</td>\n",
       "      <td>Chronic kidney disease, stage 2 (mild)</td>\n",
       "    </tr>\n",
       "    <tr>\n",
       "      <th>90896</th>\n",
       "      <td>-10000010254691</td>\n",
       "      <td>2020</td>\n",
       "      <td>I129</td>\n",
       "      <td>Hypertensive chronic kidney disease with stage...</td>\n",
       "    </tr>\n",
       "    <tr>\n",
       "      <th>101229</th>\n",
       "      <td>-10000010254691</td>\n",
       "      <td>2020</td>\n",
       "      <td>I10</td>\n",
       "      <td>Essential (primary) hypertension</td>\n",
       "    </tr>\n",
       "    <tr>\n",
       "      <th>101230</th>\n",
       "      <td>-10000010254691</td>\n",
       "      <td>2021</td>\n",
       "      <td>E1122</td>\n",
       "      <td>Type 2 diabetes mellitus with diabetic chroni...</td>\n",
       "    </tr>\n",
       "    <tr>\n",
       "      <th>110874</th>\n",
       "      <td>-10000010254691</td>\n",
       "      <td>2020</td>\n",
       "      <td>E669</td>\n",
       "      <td>Obesity, unspecified</td>\n",
       "    </tr>\n",
       "    <tr>\n",
       "      <th>110875</th>\n",
       "      <td>-10000010254691</td>\n",
       "      <td>2021</td>\n",
       "      <td>E1121</td>\n",
       "      <td>Type 2 diabetes mellitus with diabetic nephro...</td>\n",
       "    </tr>\n",
       "    <tr>\n",
       "      <th>119841</th>\n",
       "      <td>-10000010254691</td>\n",
       "      <td>2020</td>\n",
       "      <td>K37</td>\n",
       "      <td>Unspecified appendicitis</td>\n",
       "    </tr>\n",
       "    <tr>\n",
       "      <th>119842</th>\n",
       "      <td>-10000010254691</td>\n",
       "      <td>2020</td>\n",
       "      <td>P292</td>\n",
       "      <td>Neonatal hypertension</td>\n",
       "    </tr>\n",
       "    <tr>\n",
       "      <th>119843</th>\n",
       "      <td>-10000010254691</td>\n",
       "      <td>2021</td>\n",
       "      <td>P292</td>\n",
       "      <td>Neonatal hypertension</td>\n",
       "    </tr>\n",
       "    <tr>\n",
       "      <th>128141</th>\n",
       "      <td>-10000010254691</td>\n",
       "      <td>2020</td>\n",
       "      <td>Z9049</td>\n",
       "      <td>Acquired absence of other specified parts of ...</td>\n",
       "    </tr>\n",
       "    <tr>\n",
       "      <th>128142</th>\n",
       "      <td>-10000010254691</td>\n",
       "      <td>2021</td>\n",
       "      <td>E669</td>\n",
       "      <td>Obesity, unspecified</td>\n",
       "    </tr>\n",
       "    <tr>\n",
       "      <th>135703</th>\n",
       "      <td>-10000010254691</td>\n",
       "      <td>2021</td>\n",
       "      <td>K37</td>\n",
       "      <td>Unspecified appendicitis</td>\n",
       "    </tr>\n",
       "    <tr>\n",
       "      <th>142549</th>\n",
       "      <td>-10000010254691</td>\n",
       "      <td>2021</td>\n",
       "      <td>Z9049</td>\n",
       "      <td>Acquired absence of other specified parts of ...</td>\n",
       "    </tr>\n",
       "  </tbody>\n",
       "</table>\n",
       "</div>"
      ],
      "text/plain": [
       "                BENE_ID    YR ICD_DIAG_CD  \\\n",
       "8       -10000010254691  2020        Z608   \n",
       "9       -10000010254691  2020       R5081   \n",
       "10      -10000010254691  2021        Z733   \n",
       "15254   -10000010254691  2020         P84   \n",
       "20339   -10000010254691  2020       Z7682   \n",
       "20340   -10000010254691  2020      T7432X   \n",
       "20341   -10000010254691  2021       R0902   \n",
       "32840   -10000010254691  2020        N184   \n",
       "32841   -10000010254691  2021        Z608   \n",
       "45197   -10000010254691  2020       E1121   \n",
       "45198   -10000010254691  2020        R809   \n",
       "45199   -10000010254691  2021       Z7682   \n",
       "57149   -10000010254691  2020       Y0703   \n",
       "57150   -10000010254691  2020       E0922   \n",
       "57151   -10000010254691  2021        N184   \n",
       "68819   -10000010254691  2020        N182   \n",
       "68820   -10000010254691  2020        R801   \n",
       "68821   -10000010254691  2021       E1129   \n",
       "80085   -10000010254691  2020       E1129   \n",
       "80086   -10000010254691  2020       I1310   \n",
       "80087   -10000010254691  2021        N182   \n",
       "90896   -10000010254691  2020        I129   \n",
       "101229  -10000010254691  2020         I10   \n",
       "101230  -10000010254691  2021       E1122   \n",
       "110874  -10000010254691  2020        E669   \n",
       "110875  -10000010254691  2021       E1121   \n",
       "119841  -10000010254691  2020         K37   \n",
       "119842  -10000010254691  2020        P292   \n",
       "119843  -10000010254691  2021        P292   \n",
       "128141  -10000010254691  2020       Z9049   \n",
       "128142  -10000010254691  2021        E669   \n",
       "135703  -10000010254691  2021         K37   \n",
       "142549  -10000010254691  2021       Z9049   \n",
       "\n",
       "                                          ICD_Description  \n",
       "8            Other problems related to social environment  \n",
       "9        Fever presenting with conditions classified e...  \n",
       "10                       Stress, not elsewhere classified  \n",
       "15254                         Other problems with newborn  \n",
       "20339                    Awaiting organ transplant status  \n",
       "20340                Child psychological abuse, confirmed  \n",
       "20341                                           Hypoxemia  \n",
       "32840            Chronic kidney disease, stage 4 (severe)  \n",
       "32841        Other problems related to social environment  \n",
       "45197    Type 2 diabetes mellitus with diabetic nephro...  \n",
       "45198                            Proteinuria, unspecified  \n",
       "45199                    Awaiting organ transplant status  \n",
       "57149    Male partner, perpetrator of maltreatment and...  \n",
       "57150    Drug or chemical induced diabetes mellitus wi...  \n",
       "57151            Chronic kidney disease, stage 4 (severe)  \n",
       "68819              Chronic kidney disease, stage 2 (mild)  \n",
       "68820                 Persistent proteinuria, unspecified  \n",
       "68821    Type 2 diabetes mellitus with other diabetic ...  \n",
       "80085    Type 2 diabetes mellitus with other diabetic ...  \n",
       "80086    Hypertensive heart and chronic kidney disease...  \n",
       "80087              Chronic kidney disease, stage 2 (mild)  \n",
       "90896   Hypertensive chronic kidney disease with stage...  \n",
       "101229                   Essential (primary) hypertension  \n",
       "101230   Type 2 diabetes mellitus with diabetic chroni...  \n",
       "110874                               Obesity, unspecified  \n",
       "110875   Type 2 diabetes mellitus with diabetic nephro...  \n",
       "119841                           Unspecified appendicitis  \n",
       "119842                              Neonatal hypertension  \n",
       "119843                              Neonatal hypertension  \n",
       "128141   Acquired absence of other specified parts of ...  \n",
       "128142                               Obesity, unspecified  \n",
       "135703                           Unspecified appendicitis  \n",
       "142549   Acquired absence of other specified parts of ...  "
      ]
     },
     "execution_count": 34,
     "metadata": {},
     "output_type": "execute_result"
    }
   ],
   "source": [
    "diagnosis[diagnosis[\"BENE_ID\"] == \"-10000010254691\"]"
   ]
  },
  {
   "cell_type": "code",
   "execution_count": 35,
   "metadata": {
    "executionInfo": {
     "elapsed": 34,
     "status": "ok",
     "timestamp": 1740498921194,
     "user": {
      "displayName": "Luke Wilsen",
      "userId": "08296025252065350541"
     },
     "user_tz": 300
    },
    "id": "j78edWUI-fsk"
   },
   "outputs": [],
   "source": [
    "num_diag = diagnosis.groupby(['BENE_ID', 'YR']).size().reset_index(name = \"NUM_DIAG\")"
   ]
  },
  {
   "cell_type": "code",
   "execution_count": 36,
   "metadata": {
    "executionInfo": {
     "elapsed": 33,
     "status": "ok",
     "timestamp": 1740498921229,
     "user": {
      "displayName": "Luke Wilsen",
      "userId": "08296025252065350541"
     },
     "user_tz": 300
    },
    "id": "D1t5GRJPJFn-"
   },
   "outputs": [],
   "source": [
    "inpatient_encounters = inpatient[[\"BENE_ID\",\"CLM_ID\",\"CLM_FROM_DT\",\n",
    "                                  \"CLM_THRU_DT\",\"YR\",\"LOS\",\"DRG\",\n",
    "                                  'PRNCPAL_DGNS_CD','PTNT_DSCHRG_STUS_CD','CLM_IP_ADMSN_TYPE_CD',\n",
    "                                  'ER_flag','CLM_TOT_CHRG_AMT','CLM_PMT_AMT']]\n",
    "\n",
    "inpatient_encounters = inpatient_encounters.merge(num_diag, on = [\"BENE_ID\", \"YR\"], how = \"left\")"
   ]
  },
  {
   "cell_type": "code",
   "execution_count": 37,
   "metadata": {
    "colab": {
     "base_uri": "https://localhost:8080/",
     "height": 226
    },
    "executionInfo": {
     "elapsed": 110,
     "status": "ok",
     "timestamp": 1740498921337,
     "user": {
      "displayName": "Luke Wilsen",
      "userId": "08296025252065350541"
     },
     "user_tz": 300
    },
    "id": "J5aBfTMaMf03",
    "outputId": "2c25bb7b-dbd0-45bf-c832-98ecd7d156ac"
   },
   "outputs": [
    {
     "data": {
      "application/vnd.microsoft.datawrangler.viewer.v0+json": {
       "columns": [
        {
         "name": "index",
         "rawType": "int64",
         "type": "integer"
        },
        {
         "name": "BENE_ID",
         "rawType": "object",
         "type": "string"
        },
        {
         "name": "CLM_ID",
         "rawType": "object",
         "type": "string"
        },
        {
         "name": "CLM_FROM_DT",
         "rawType": "datetime64[ns]",
         "type": "datetime"
        },
        {
         "name": "CLM_THRU_DT",
         "rawType": "datetime64[ns]",
         "type": "datetime"
        },
        {
         "name": "YR",
         "rawType": "int64",
         "type": "integer"
        },
        {
         "name": "LOS",
         "rawType": "int64",
         "type": "integer"
        },
        {
         "name": "DRG",
         "rawType": "object",
         "type": "string"
        },
        {
         "name": "PRNCPAL_DGNS_CD",
         "rawType": "object",
         "type": "string"
        },
        {
         "name": "PTNT_DSCHRG_STUS_CD",
         "rawType": "object",
         "type": "string"
        },
        {
         "name": "CLM_IP_ADMSN_TYPE_CD",
         "rawType": "object",
         "type": "string"
        },
        {
         "name": "ER_flag",
         "rawType": "int64",
         "type": "integer"
        },
        {
         "name": "CLM_TOT_CHRG_AMT",
         "rawType": "float64",
         "type": "float"
        },
        {
         "name": "CLM_PMT_AMT",
         "rawType": "float64",
         "type": "float"
        },
        {
         "name": "NUM_DIAG",
         "rawType": "int64",
         "type": "integer"
        }
       ],
       "conversionMethod": "pd.DataFrame",
       "ref": "b5355d33-f997-4519-b9b9-a54cd16a2cb6",
       "rows": [
        [
         "0",
         "-10000010254618",
         "-10000930037831",
         "2015-03-25 00:00:00",
         "2015-03-25 00:00:00",
         "2015",
         "0",
         "551",
         "S134XX",
         "1",
         "1",
         "0",
         "96.65",
         "96.65",
         "9"
        ],
        [
         "1",
         "-10000010254653",
         "-10000930038030",
         "2015-09-24 00:00:00",
         "2015-09-24 00:00:00",
         "2015",
         "0",
         "951",
         "Z3480",
         "1",
         "1",
         "0",
         "6311.88",
         "6311.88",
         "4"
        ],
        [
         "2",
         "-10000010254653",
         "-10000930038031",
         "2017-05-09 00:00:00",
         "2017-05-10 00:00:00",
         "2017",
         "1",
         "923",
         "T7432X",
         "1",
         "3",
         "0",
         "8545.72",
         "8545.72",
         "3"
        ],
        [
         "3",
         "-10000010254656",
         "-10000930038162",
         "2017-01-14 00:00:00",
         "2017-01-14 00:00:00",
         "2017",
         "0",
         "564",
         "S8290X",
         "1",
         "1",
         "0",
         "1014.85",
         "1014.85",
         "4"
        ],
        [
         "4",
         "-10000010254656",
         "-10000930038163",
         "2018-03-17 00:00:00",
         "2018-03-17 00:00:00",
         "2018",
         "0",
         "951",
         "Z3480",
         "1",
         "1",
         "0",
         "9911.41",
         "9911.41",
         "6"
        ]
       ],
       "shape": {
        "columns": 14,
        "rows": 5
       }
      },
      "text/html": [
       "<div>\n",
       "<style scoped>\n",
       "    .dataframe tbody tr th:only-of-type {\n",
       "        vertical-align: middle;\n",
       "    }\n",
       "\n",
       "    .dataframe tbody tr th {\n",
       "        vertical-align: top;\n",
       "    }\n",
       "\n",
       "    .dataframe thead th {\n",
       "        text-align: right;\n",
       "    }\n",
       "</style>\n",
       "<table border=\"1\" class=\"dataframe\">\n",
       "  <thead>\n",
       "    <tr style=\"text-align: right;\">\n",
       "      <th></th>\n",
       "      <th>BENE_ID</th>\n",
       "      <th>CLM_ID</th>\n",
       "      <th>CLM_FROM_DT</th>\n",
       "      <th>CLM_THRU_DT</th>\n",
       "      <th>YR</th>\n",
       "      <th>LOS</th>\n",
       "      <th>DRG</th>\n",
       "      <th>PRNCPAL_DGNS_CD</th>\n",
       "      <th>PTNT_DSCHRG_STUS_CD</th>\n",
       "      <th>CLM_IP_ADMSN_TYPE_CD</th>\n",
       "      <th>ER_flag</th>\n",
       "      <th>CLM_TOT_CHRG_AMT</th>\n",
       "      <th>CLM_PMT_AMT</th>\n",
       "      <th>NUM_DIAG</th>\n",
       "    </tr>\n",
       "  </thead>\n",
       "  <tbody>\n",
       "    <tr>\n",
       "      <th>0</th>\n",
       "      <td>-10000010254618</td>\n",
       "      <td>-10000930037831</td>\n",
       "      <td>2015-03-25</td>\n",
       "      <td>2015-03-25</td>\n",
       "      <td>2015</td>\n",
       "      <td>0</td>\n",
       "      <td>551</td>\n",
       "      <td>S134XX</td>\n",
       "      <td>1</td>\n",
       "      <td>1</td>\n",
       "      <td>0</td>\n",
       "      <td>96.65</td>\n",
       "      <td>96.65</td>\n",
       "      <td>9</td>\n",
       "    </tr>\n",
       "    <tr>\n",
       "      <th>1</th>\n",
       "      <td>-10000010254653</td>\n",
       "      <td>-10000930038030</td>\n",
       "      <td>2015-09-24</td>\n",
       "      <td>2015-09-24</td>\n",
       "      <td>2015</td>\n",
       "      <td>0</td>\n",
       "      <td>951</td>\n",
       "      <td>Z3480</td>\n",
       "      <td>1</td>\n",
       "      <td>1</td>\n",
       "      <td>0</td>\n",
       "      <td>6311.88</td>\n",
       "      <td>6311.88</td>\n",
       "      <td>4</td>\n",
       "    </tr>\n",
       "    <tr>\n",
       "      <th>2</th>\n",
       "      <td>-10000010254653</td>\n",
       "      <td>-10000930038031</td>\n",
       "      <td>2017-05-09</td>\n",
       "      <td>2017-05-10</td>\n",
       "      <td>2017</td>\n",
       "      <td>1</td>\n",
       "      <td>923</td>\n",
       "      <td>T7432X</td>\n",
       "      <td>1</td>\n",
       "      <td>3</td>\n",
       "      <td>0</td>\n",
       "      <td>8545.72</td>\n",
       "      <td>8545.72</td>\n",
       "      <td>3</td>\n",
       "    </tr>\n",
       "    <tr>\n",
       "      <th>3</th>\n",
       "      <td>-10000010254656</td>\n",
       "      <td>-10000930038162</td>\n",
       "      <td>2017-01-14</td>\n",
       "      <td>2017-01-14</td>\n",
       "      <td>2017</td>\n",
       "      <td>0</td>\n",
       "      <td>564</td>\n",
       "      <td>S8290X</td>\n",
       "      <td>1</td>\n",
       "      <td>1</td>\n",
       "      <td>0</td>\n",
       "      <td>1014.85</td>\n",
       "      <td>1014.85</td>\n",
       "      <td>4</td>\n",
       "    </tr>\n",
       "    <tr>\n",
       "      <th>4</th>\n",
       "      <td>-10000010254656</td>\n",
       "      <td>-10000930038163</td>\n",
       "      <td>2018-03-17</td>\n",
       "      <td>2018-03-17</td>\n",
       "      <td>2018</td>\n",
       "      <td>0</td>\n",
       "      <td>951</td>\n",
       "      <td>Z3480</td>\n",
       "      <td>1</td>\n",
       "      <td>1</td>\n",
       "      <td>0</td>\n",
       "      <td>9911.41</td>\n",
       "      <td>9911.41</td>\n",
       "      <td>6</td>\n",
       "    </tr>\n",
       "  </tbody>\n",
       "</table>\n",
       "</div>"
      ],
      "text/plain": [
       "           BENE_ID           CLM_ID CLM_FROM_DT CLM_THRU_DT    YR  LOS  DRG  \\\n",
       "0  -10000010254618  -10000930037831  2015-03-25  2015-03-25  2015    0  551   \n",
       "1  -10000010254653  -10000930038030  2015-09-24  2015-09-24  2015    0  951   \n",
       "2  -10000010254653  -10000930038031  2017-05-09  2017-05-10  2017    1  923   \n",
       "3  -10000010254656  -10000930038162  2017-01-14  2017-01-14  2017    0  564   \n",
       "4  -10000010254656  -10000930038163  2018-03-17  2018-03-17  2018    0  951   \n",
       "\n",
       "  PRNCPAL_DGNS_CD PTNT_DSCHRG_STUS_CD CLM_IP_ADMSN_TYPE_CD  ER_flag  \\\n",
       "0          S134XX                   1                    1        0   \n",
       "1           Z3480                   1                    1        0   \n",
       "2          T7432X                   1                    3        0   \n",
       "3          S8290X                   1                    1        0   \n",
       "4           Z3480                   1                    1        0   \n",
       "\n",
       "   CLM_TOT_CHRG_AMT  CLM_PMT_AMT  NUM_DIAG  \n",
       "0             96.65        96.65         9  \n",
       "1           6311.88      6311.88         4  \n",
       "2           8545.72      8545.72         3  \n",
       "3           1014.85      1014.85         4  \n",
       "4           9911.41      9911.41         6  "
      ]
     },
     "execution_count": 37,
     "metadata": {},
     "output_type": "execute_result"
    }
   ],
   "source": [
    "inpatient_encounters.head()"
   ]
  },
  {
   "cell_type": "code",
   "execution_count": 38,
   "metadata": {
    "executionInfo": {
     "elapsed": 5,
     "status": "ok",
     "timestamp": 1740498921340,
     "user": {
      "displayName": "Luke Wilsen",
      "userId": "08296025252065350541"
     },
     "user_tz": 300
    },
    "id": "ta4LWAVXKcnr"
   },
   "outputs": [],
   "source": [
    "inpatient_encounters = inpatient_encounters.merge(icd_codes, how = \"left\", left_on = \"PRNCPAL_DGNS_CD\", right_on = \"ICD_Code\")\n",
    "inpatient_encounters.drop(columns=\"ICD_Code\", inplace=True)"
   ]
  },
  {
   "cell_type": "code",
   "execution_count": 39,
   "metadata": {
    "executionInfo": {
     "elapsed": 24,
     "status": "ok",
     "timestamp": 1740498921370,
     "user": {
      "displayName": "Luke Wilsen",
      "userId": "08296025252065350541"
     },
     "user_tz": 300
    },
    "id": "AjhD9o_5N57h"
   },
   "outputs": [],
   "source": [
    "inpatient_encounters = inpatient_encounters.merge(drg_codes, how = \"left\", left_on = \"DRG\", right_on = \"DRG_CODE\")\n",
    "inpatient_encounters.drop(columns=\"DRG_CODE\", inplace=True)"
   ]
  },
  {
   "cell_type": "code",
   "execution_count": 40,
   "metadata": {
    "colab": {
     "base_uri": "https://localhost:8080/",
     "height": 825
    },
    "executionInfo": {
     "elapsed": 164,
     "status": "ok",
     "timestamp": 1740498921535,
     "user": {
      "displayName": "Luke Wilsen",
      "userId": "08296025252065350541"
     },
     "user_tz": 300
    },
    "id": "5E_5yQWkOCC7",
    "outputId": "b2064a4b-af92-4ffc-a5e7-748bfe80bc7c"
   },
   "outputs": [
    {
     "data": {
      "application/vnd.microsoft.datawrangler.viewer.v0+json": {
       "columns": [
        {
         "name": "index",
         "rawType": "int64",
         "type": "integer"
        },
        {
         "name": "BENE_ID",
         "rawType": "object",
         "type": "string"
        },
        {
         "name": "CLM_ID",
         "rawType": "object",
         "type": "string"
        },
        {
         "name": "CLM_FROM_DT",
         "rawType": "datetime64[ns]",
         "type": "datetime"
        },
        {
         "name": "CLM_THRU_DT",
         "rawType": "datetime64[ns]",
         "type": "datetime"
        },
        {
         "name": "YR",
         "rawType": "int64",
         "type": "integer"
        },
        {
         "name": "LOS",
         "rawType": "int64",
         "type": "integer"
        },
        {
         "name": "DRG",
         "rawType": "object",
         "type": "string"
        },
        {
         "name": "PRNCPAL_DGNS_CD",
         "rawType": "object",
         "type": "string"
        },
        {
         "name": "PTNT_DSCHRG_STUS_CD",
         "rawType": "object",
         "type": "string"
        },
        {
         "name": "CLM_IP_ADMSN_TYPE_CD",
         "rawType": "object",
         "type": "string"
        },
        {
         "name": "ER_flag",
         "rawType": "int64",
         "type": "integer"
        },
        {
         "name": "CLM_TOT_CHRG_AMT",
         "rawType": "float64",
         "type": "float"
        },
        {
         "name": "CLM_PMT_AMT",
         "rawType": "float64",
         "type": "float"
        },
        {
         "name": "NUM_DIAG",
         "rawType": "int64",
         "type": "integer"
        },
        {
         "name": "ICD_Description",
         "rawType": "object",
         "type": "string"
        },
        {
         "name": "DRG_TITLE",
         "rawType": "object",
         "type": "string"
        }
       ],
       "conversionMethod": "pd.DataFrame",
       "ref": "5c743d58-469a-46d4-b5f2-3d0c304b7d3a",
       "rows": [
        [
         "0",
         "-10000010254618",
         "-10000930037831",
         "2015-03-25 00:00:00",
         "2015-03-25 00:00:00",
         "2015",
         "0",
         "551",
         "S134XX",
         "1",
         "1",
         "0",
         "96.65",
         "96.65",
         "9",
         "Sprain of ligaments of cervical spine",
         "MEDICAL BACK PROBLEMS WITH MCC"
        ],
        [
         "1",
         "-10000010254653",
         "-10000930038030",
         "2015-09-24 00:00:00",
         "2015-09-24 00:00:00",
         "2015",
         "0",
         "951",
         "Z3480",
         "1",
         "1",
         "0",
         "6311.88",
         "6311.88",
         "4",
         " Encounter for supervision of other normal pregnancy, unspecified trimester",
         "OTHER FACTORS INFLUENCING HEALTH STATUS"
        ],
        [
         "2",
         "-10000010254653",
         "-10000930038031",
         "2017-05-09 00:00:00",
         "2017-05-10 00:00:00",
         "2017",
         "1",
         "923",
         "T7432X",
         "1",
         "3",
         "0",
         "8545.72",
         "8545.72",
         "3",
         "Child psychological abuse, confirmed",
         "OTHER INJURY, POISONING AND TOXIC EFFECT DIAGNOSES WITHOUT MCC"
        ],
        [
         "3",
         "-10000010254656",
         "-10000930038162",
         "2017-01-14 00:00:00",
         "2017-01-14 00:00:00",
         "2017",
         "0",
         "564",
         "S8290X",
         "1",
         "1",
         "0",
         "1014.85",
         "1014.85",
         "4",
         "Unspecified fracture of unspecified lower leg",
         "OTHER MUSCULOSKELETAL SYSTEM AND CONNECTIVE TISSUE DIAGNOSES WITH MCC"
        ],
        [
         "4",
         "-10000010254656",
         "-10000930038163",
         "2018-03-17 00:00:00",
         "2018-03-17 00:00:00",
         "2018",
         "0",
         "951",
         "Z3480",
         "1",
         "1",
         "0",
         "9911.41",
         "9911.41",
         "6",
         " Encounter for supervision of other normal pregnancy, unspecified trimester",
         "OTHER FACTORS INFLUENCING HEALTH STATUS"
        ],
        [
         "5",
         "-10000010254656",
         "-10000930038164",
         "2022-03-12 00:00:00",
         "2022-03-12 00:00:00",
         "2022",
         "0",
         "951",
         "Z3400",
         "1",
         "1",
         "0",
         "2962.04",
         "2962.04",
         "8",
         " Encounter for supervision of normal first pregnancy, unspecified trimester",
         "OTHER FACTORS INFLUENCING HEALTH STATUS"
        ],
        [
         "6",
         "-10000010254666",
         "-10000930038283",
         "2015-03-21 00:00:00",
         "2015-03-21 00:00:00",
         "2015",
         "0",
         "101",
         "R569",
         "1",
         "1",
         "0",
         "11706.13",
         "11706.13",
         "4",
         "Unspecified convulsions",
         "SEIZURES WITHOUT MCC"
        ],
        [
         "7",
         "-10000010254682",
         "-10000930038442",
         "2021-04-30 00:00:00",
         "2021-04-30 00:00:00",
         "2021",
         "0",
         "963",
         "S8290X",
         "1",
         "1",
         "0",
         "12044.66",
         "12044.66",
         "16",
         "Unspecified fracture of unspecified lower leg",
         "OTHER MULTIPLE SIGNIFICANT TRAUMA WITH MCC"
        ],
        [
         "8",
         "-10000010254691",
         "-10000930038483",
         "2020-03-12 00:00:00",
         "2020-03-12 00:00:00",
         "2020",
         "0",
         "951",
         "Z608",
         "1",
         "1",
         "0",
         "769.73",
         "769.73",
         "20",
         "Other problems related to social environment",
         "OTHER FACTORS INFLUENCING HEALTH STATUS"
        ],
        [
         "9",
         "-10000010254691",
         "-10000930038484",
         "2020-05-21 00:00:00",
         "2020-05-21 00:00:00",
         "2020",
         "0",
         "951",
         "Z608",
         "1",
         "1",
         "0",
         "769.73",
         "769.73",
         "20",
         "Other problems related to social environment",
         "OTHER FACTORS INFLUENCING HEALTH STATUS"
        ],
        [
         "10",
         "-10000010254691",
         "-10000930038485",
         "2020-10-11 00:00:00",
         "2020-10-21 00:00:00",
         "2020",
         "10",
         "864",
         "R5081",
         "1",
         "3",
         "0",
         "25223.04",
         "25223.04",
         "20",
         " Fever presenting with conditions classified elsewhere",
         "FEVER AND INFLAMMATORY CONDITIONS"
        ],
        [
         "11",
         "-10000010254691",
         "-10000930038486",
         "2021-05-06 00:00:00",
         "2021-05-06 00:00:00",
         "2021",
         "0",
         "951",
         "Z733",
         "1",
         "1",
         "0",
         "1579.98",
         "1579.98",
         "13",
         "Stress, not elsewhere classified",
         "OTHER FACTORS INFLUENCING HEALTH STATUS"
        ],
        [
         "12",
         "-10000010254694",
         "-10000930038641",
         "2015-06-21 00:00:00",
         "2015-06-22 00:00:00",
         "2015",
         "1",
         "951",
         "Z733",
         "1",
         "1",
         "1",
         "1831.15",
         "1831.15",
         "12",
         "Stress, not elsewhere classified",
         "OTHER FACTORS INFLUENCING HEALTH STATUS"
        ],
        [
         "13",
         "-10000010254694",
         "-10000930038643",
         "2023-01-20 00:00:00",
         "2023-01-20 00:00:00",
         "2023",
         "0",
         "522",
         "S72009",
         "1",
         "1",
         "0",
         "9184.59",
         "9184.59",
         "15",
         null,
         "HIP REPLACEMENT WITH PRINCIPAL DIAGNOSIS OF HIP FRACTURE WITHOUT MCC"
        ],
        [
         "14",
         "-10000010254711",
         "-10000930039677",
         "2016-02-24 00:00:00",
         "2016-02-24 00:00:00",
         "2016",
         "0",
         "949",
         "S93409",
         "1",
         "1",
         "0",
         "96.65",
         "96.65",
         "6",
         null,
         "AFTERCARE WITH CC/MCC"
        ],
        [
         "15",
         "-10000010254711",
         "-10000930039678",
         "2019-05-23 00:00:00",
         "2019-05-23 00:00:00",
         "2019",
         "0",
         "088",
         "S060X9",
         "1",
         "1",
         "0",
         "96.65",
         "96.65",
         "6",
         null,
         "CONCUSSION WITH MCC"
        ],
        [
         "16",
         "-10000010254711",
         "-10000930039679",
         "2021-06-19 00:00:00",
         "2021-06-19 00:00:00",
         "2021",
         "0",
         "963",
         "S134XX",
         "1",
         "1",
         "0",
         "96.65",
         "96.65",
         "6",
         "Sprain of ligaments of cervical spine",
         "OTHER MULTIPLE SIGNIFICANT TRAUMA WITH MCC"
        ],
        [
         "17",
         "-10000010254718",
         "-10000930039730",
         "2021-01-30 00:00:00",
         "2021-02-10 00:00:00",
         "2021",
         "11",
         "203",
         "J208",
         "1",
         "3",
         "0",
         "28382.8",
         "28382.8",
         "19",
         "Acute bronchitis due to other specified organisms",
         "BRONCHITIS AND ASTHMA WITHOUT CC/MCC"
        ],
        [
         "18",
         "-10000010254718",
         "-10000930039731",
         "2021-02-10 00:00:00",
         "2021-02-12 00:00:00",
         "2021",
         "2",
         "864",
         "R5081",
         "1",
         "3",
         "0",
         "3399.77",
         "3399.77",
         "19",
         " Fever presenting with conditions classified elsewhere",
         "FEVER AND INFLAMMATORY CONDITIONS"
        ],
        [
         "19",
         "-10000010254718",
         "-10000930039732",
         "2021-02-12 00:00:00",
         "2021-02-15 00:00:00",
         "2021",
         "3",
         "203",
         "J208",
         "1",
         "3",
         "0",
         "96.65",
         "96.65",
         "19",
         "Acute bronchitis due to other specified organisms",
         "BRONCHITIS AND ASTHMA WITHOUT CC/MCC"
        ],
        [
         "20",
         "-10000010254721",
         "-10000930039758",
         "2021-06-23 00:00:00",
         "2021-06-23 00:00:00",
         "2021",
         "0",
         "951",
         "Z733",
         "1",
         "1",
         "0",
         "1521.52",
         "1521.52",
         "37",
         "Stress, not elsewhere classified",
         "OTHER FACTORS INFLUENCING HEALTH STATUS"
        ],
        [
         "21",
         "-10000010254721",
         "-10000930039759",
         "2021-08-25 00:00:00",
         "2021-08-25 00:00:00",
         "2021",
         "0",
         "951",
         "Z733",
         "1",
         "1",
         "0",
         "1545.52",
         "1545.52",
         "37",
         "Stress, not elsewhere classified",
         "OTHER FACTORS INFLUENCING HEALTH STATUS"
        ],
        [
         "22",
         "-10000010254721",
         "-10000930039760",
         "2021-09-01 00:00:00",
         "2021-09-01 00:00:00",
         "2021",
         "0",
         "951",
         "Z733",
         "1",
         "1",
         "0",
         "310.63",
         "310.63",
         "37",
         "Stress, not elsewhere classified",
         "OTHER FACTORS INFLUENCING HEALTH STATUS"
        ],
        [
         "23",
         "-10000010254721",
         "-10000930039761",
         "2021-10-20 00:00:00",
         "2021-10-20 00:00:00",
         "2021",
         "0",
         "950",
         "T7432X",
         "1",
         "1",
         "0",
         "983.71",
         "983.71",
         "37",
         "Child psychological abuse, confirmed",
         "AFTERCARE WITHOUT CC/MCC"
        ],
        [
         "24",
         "-10000010254721",
         "-10000930039762",
         "2022-03-23 00:00:00",
         "2022-03-23 00:00:00",
         "2022",
         "0",
         "951",
         "Z733",
         "1",
         "1",
         "0",
         "983.71",
         "983.71",
         "39",
         "Stress, not elsewhere classified",
         "OTHER FACTORS INFLUENCING HEALTH STATUS"
        ],
        [
         "25",
         "-10000010254721",
         "-10000930039763",
         "2022-04-20 00:00:00",
         "2022-04-20 00:00:00",
         "2022",
         "0",
         "951",
         "Z604",
         "1",
         "1",
         "0",
         "983.71",
         "983.71",
         "39",
         "Social exclusion and rejection",
         "OTHER FACTORS INFLUENCING HEALTH STATUS"
        ],
        [
         "26",
         "-10000010254721",
         "-10000930039764",
         "2022-05-18 00:00:00",
         "2022-05-18 00:00:00",
         "2022",
         "0",
         "949",
         "T7432X",
         "1",
         "1",
         "0",
         "1585.31",
         "1585.31",
         "39",
         "Child psychological abuse, confirmed",
         "AFTERCARE WITH CC/MCC"
        ],
        [
         "27",
         "-10000010254721",
         "-10000930039765",
         "2022-06-15 00:00:00",
         "2022-06-15 00:00:00",
         "2022",
         "0",
         "950",
         "T7432X",
         "1",
         "1",
         "0",
         "1709.82",
         "1709.82",
         "39",
         "Child psychological abuse, confirmed",
         "AFTERCARE WITHOUT CC/MCC"
        ],
        [
         "28",
         "-10000010254721",
         "-10000930039766",
         "2022-08-17 00:00:00",
         "2022-08-17 00:00:00",
         "2022",
         "0",
         "951",
         "Z604",
         "1",
         "1",
         "0",
         "1458.33",
         "1458.33",
         "39",
         "Social exclusion and rejection",
         "OTHER FACTORS INFLUENCING HEALTH STATUS"
        ],
        [
         "29",
         "-10000010254721",
         "-10000930039767",
         "2022-09-21 00:00:00",
         "2022-09-21 00:00:00",
         "2022",
         "0",
         "951",
         "Z733",
         "1",
         "1",
         "0",
         "727.81",
         "727.81",
         "39",
         "Stress, not elsewhere classified",
         "OTHER FACTORS INFLUENCING HEALTH STATUS"
        ],
        [
         "30",
         "-10000010254721",
         "-10000930039768",
         "2022-10-19 00:00:00",
         "2022-10-19 00:00:00",
         "2022",
         "0",
         "951",
         "Z733",
         "1",
         "1",
         "0",
         "983.71",
         "983.71",
         "39",
         "Stress, not elsewhere classified",
         "OTHER FACTORS INFLUENCING HEALTH STATUS"
        ],
        [
         "31",
         "-10000010254721",
         "-10000930039769",
         "2022-11-16 00:00:00",
         "2022-11-16 00:00:00",
         "2022",
         "0",
         "951",
         "Z604",
         "1",
         "1",
         "0",
         "983.71",
         "983.71",
         "39",
         "Social exclusion and rejection",
         "OTHER FACTORS INFLUENCING HEALTH STATUS"
        ],
        [
         "32",
         "-10000010254721",
         "-10000930039770",
         "2023-02-15 00:00:00",
         "2023-02-15 00:00:00",
         "2023",
         "0",
         "951",
         "Z733",
         "1",
         "1",
         "0",
         "983.71",
         "983.71",
         "23",
         "Stress, not elsewhere classified",
         "OTHER FACTORS INFLUENCING HEALTH STATUS"
        ],
        [
         "33",
         "-10000010254725",
         "-10000930039858",
         "2021-02-05 00:00:00",
         "2021-02-05 00:00:00",
         "2021",
         "0",
         "964",
         "S0181X",
         "1",
         "1",
         "0",
         "10302.24",
         "10302.24",
         "4",
         null,
         "OTHER MULTIPLE SIGNIFICANT TRAUMA WITH CC"
        ],
        [
         "34",
         "-10000010254731",
         "-10000930040100",
         "2019-06-15 00:00:00",
         "2019-06-15 00:00:00",
         "2019",
         "0",
         "605",
         "S91319",
         "1",
         "1",
         "0",
         "10846.75",
         "10846.75",
         "18",
         null,
         "TRAUMA TO THE SKIN, SUBCUTANEOUS TISSUE AND BREAST WITHOUT MCC"
        ],
        [
         "35",
         "-10000010254731",
         "-10000930040101",
         "2021-05-26 00:00:00",
         "2021-05-26 00:00:00",
         "2021",
         "0",
         "561",
         "S42009",
         "1",
         "1",
         "0",
         "8550.45",
         "8550.45",
         "23",
         null,
         "AFTERCARE, MUSCULOSKELETAL SYSTEM AND CONNECTIVE TISSUE WITHOUT CC/MCC"
        ],
        [
         "36",
         "-10000010254731",
         "-10000930040102",
         "2021-06-16 00:00:00",
         "2021-06-16 00:00:00",
         "2021",
         "0",
         "222",
         "I213",
         "1",
         "1",
         "0",
         "10469.46",
         "10469.46",
         "23",
         "ST elevation (STEMI) myocardial infarction of unspecified site",
         null
        ],
        [
         "37",
         "-10000010254731",
         "-10000930040103",
         "2021-06-16 00:00:00",
         "2021-06-17 00:00:00",
         "2021",
         "1",
         "284",
         "I213",
         "1",
         "2",
         "0",
         "17597.02",
         "17597.02",
         "23",
         "ST elevation (STEMI) myocardial infarction of unspecified site",
         "ACUTE MYOCARDIAL INFARCTION, EXPIRED WITH CC"
        ],
        [
         "38",
         "-10000010254731",
         "-10000930040104",
         "2023-02-03 00:00:00",
         "2023-02-03 00:00:00",
         "2023",
         "0",
         "011",
         "B085",
         "1",
         "1",
         "0",
         "914.26",
         "914.26",
         "23",
         "Enteroviral vesicular pharyngitis",
         "TRACHEOSTOMY FOR FACE, MOUTH AND NECK DIAGNOSES OR LARYNGECTOMY WITH MCC"
        ],
        [
         "39",
         "-10000010254731",
         "-10000930040105",
         "2023-02-10 00:00:00",
         "2023-02-10 00:00:00",
         "2023",
         "0",
         "951",
         "Z733",
         "1",
         "1",
         "0",
         "939.22",
         "939.22",
         "23",
         "Stress, not elsewhere classified",
         "OTHER FACTORS INFLUENCING HEALTH STATUS"
        ],
        [
         "40",
         "-10000010254734",
         "-10000930040166",
         "2016-04-30 00:00:00",
         "2016-05-01 00:00:00",
         "2016",
         "1",
         "951",
         "Z733",
         "1",
         "3",
         "0",
         "96.65",
         "96.65",
         "21",
         "Stress, not elsewhere classified",
         "OTHER FACTORS INFLUENCING HEALTH STATUS"
        ],
        [
         "41",
         "-10000010254734",
         "-10000930040167",
         "2016-06-01 00:00:00",
         "2016-06-05 00:00:00",
         "2016",
         "4",
         "951",
         "Z7682",
         "1",
         "3",
         "0",
         "3921.15",
         "3921.15",
         "21",
         " Awaiting organ transplant status",
         "OTHER FACTORS INFLUENCING HEALTH STATUS"
        ],
        [
         "42",
         "-10000010254734",
         "-10000930040168",
         "2016-11-13 00:00:00",
         "2016-11-27 00:00:00",
         "2016",
         "14",
         "000",
         "Z940",
         "1",
         "3",
         "0",
         "96.65",
         "96.65",
         "21",
         "Kidney transplant status",
         null
        ],
        [
         "43",
         "-10000010254734",
         "-10000930040169",
         "2017-12-09 00:00:00",
         "2017-12-09 00:00:00",
         "2017",
         "0",
         "000",
         "Z940",
         "1",
         "1",
         "0",
         "555.75",
         "555.75",
         "11",
         "Kidney transplant status",
         null
        ],
        [
         "44",
         "-10000010254734",
         "-10000930040170",
         "2019-06-27 00:00:00",
         "2019-06-27 00:00:00",
         "2019",
         "0",
         "000",
         "T50901A",
         "1",
         "1",
         "0",
         "96.65",
         "96.65",
         "16",
         "Poisoning by unspecified drugs, medicaments and biological substances, accidental (unintentional), initial encounter",
         null
        ],
        [
         "45",
         "-10000010254734",
         "-10000930040171",
         "2019-10-10 00:00:00",
         "2019-10-10 00:00:00",
         "2019",
         "0",
         "000",
         "T50901A",
         "1",
         "1",
         "0",
         "96.65",
         "96.65",
         "16",
         "Poisoning by unspecified drugs, medicaments and biological substances, accidental (unintentional), initial encounter",
         null
        ],
        [
         "46",
         "-10000010254734",
         "-10000930040172",
         "2021-09-05 00:00:00",
         "2021-09-05 00:00:00",
         "2021",
         "0",
         "000",
         "T50901A",
         "1",
         "1",
         "0",
         "96.65",
         "96.65",
         "12",
         "Poisoning by unspecified drugs, medicaments and biological substances, accidental (unintentional), initial encounter",
         null
        ],
        [
         "47",
         "-10000010254738",
         "-10000930040375",
         "2019-12-19 00:00:00",
         "2019-12-19 00:00:00",
         "2019",
         "0",
         "965",
         "S51819",
         "1",
         "1",
         "0",
         "10365.27",
         "10365.27",
         "10",
         null,
         "OTHER MULTIPLE SIGNIFICANT TRAUMA WITHOUT CC/MCC"
        ],
        [
         "48",
         "-10000010254738",
         "-10000930040377",
         "2020-11-11 00:00:00",
         "2020-11-24 00:00:00",
         "2020",
         "13",
         "203",
         "J208",
         "1",
         "3",
         "0",
         "28632.76",
         "28632.76",
         "11",
         "Acute bronchitis due to other specified organisms",
         "BRONCHITIS AND ASTHMA WITHOUT CC/MCC"
        ],
        [
         "49",
         "-10000010254740",
         "-10000930040594",
         "2021-01-03 00:00:00",
         "2021-01-13 00:00:00",
         "2021",
         "10",
         "975",
         "J1282",
         "1",
         "3",
         "0",
         "22256.3",
         "22256.3",
         "25",
         " Pneumonia due to coronavirus disease 2019",
         "HIV WITH MAJOR RELATED CONDITION WITH CC"
        ]
       ],
       "shape": {
        "columns": 16,
        "rows": 20867
       }
      },
      "text/html": [
       "<div>\n",
       "<style scoped>\n",
       "    .dataframe tbody tr th:only-of-type {\n",
       "        vertical-align: middle;\n",
       "    }\n",
       "\n",
       "    .dataframe tbody tr th {\n",
       "        vertical-align: top;\n",
       "    }\n",
       "\n",
       "    .dataframe thead th {\n",
       "        text-align: right;\n",
       "    }\n",
       "</style>\n",
       "<table border=\"1\" class=\"dataframe\">\n",
       "  <thead>\n",
       "    <tr style=\"text-align: right;\">\n",
       "      <th></th>\n",
       "      <th>BENE_ID</th>\n",
       "      <th>CLM_ID</th>\n",
       "      <th>CLM_FROM_DT</th>\n",
       "      <th>CLM_THRU_DT</th>\n",
       "      <th>YR</th>\n",
       "      <th>LOS</th>\n",
       "      <th>DRG</th>\n",
       "      <th>PRNCPAL_DGNS_CD</th>\n",
       "      <th>PTNT_DSCHRG_STUS_CD</th>\n",
       "      <th>CLM_IP_ADMSN_TYPE_CD</th>\n",
       "      <th>ER_flag</th>\n",
       "      <th>CLM_TOT_CHRG_AMT</th>\n",
       "      <th>CLM_PMT_AMT</th>\n",
       "      <th>NUM_DIAG</th>\n",
       "      <th>ICD_Description</th>\n",
       "      <th>DRG_TITLE</th>\n",
       "    </tr>\n",
       "  </thead>\n",
       "  <tbody>\n",
       "    <tr>\n",
       "      <th>0</th>\n",
       "      <td>-10000010254618</td>\n",
       "      <td>-10000930037831</td>\n",
       "      <td>2015-03-25</td>\n",
       "      <td>2015-03-25</td>\n",
       "      <td>2015</td>\n",
       "      <td>0</td>\n",
       "      <td>551</td>\n",
       "      <td>S134XX</td>\n",
       "      <td>1</td>\n",
       "      <td>1</td>\n",
       "      <td>0</td>\n",
       "      <td>96.65</td>\n",
       "      <td>96.65</td>\n",
       "      <td>9</td>\n",
       "      <td>Sprain of ligaments of cervical spine</td>\n",
       "      <td>MEDICAL BACK PROBLEMS WITH MCC</td>\n",
       "    </tr>\n",
       "    <tr>\n",
       "      <th>1</th>\n",
       "      <td>-10000010254653</td>\n",
       "      <td>-10000930038030</td>\n",
       "      <td>2015-09-24</td>\n",
       "      <td>2015-09-24</td>\n",
       "      <td>2015</td>\n",
       "      <td>0</td>\n",
       "      <td>951</td>\n",
       "      <td>Z3480</td>\n",
       "      <td>1</td>\n",
       "      <td>1</td>\n",
       "      <td>0</td>\n",
       "      <td>6311.88</td>\n",
       "      <td>6311.88</td>\n",
       "      <td>4</td>\n",
       "      <td>Encounter for supervision of other normal pre...</td>\n",
       "      <td>OTHER FACTORS INFLUENCING HEALTH STATUS</td>\n",
       "    </tr>\n",
       "    <tr>\n",
       "      <th>2</th>\n",
       "      <td>-10000010254653</td>\n",
       "      <td>-10000930038031</td>\n",
       "      <td>2017-05-09</td>\n",
       "      <td>2017-05-10</td>\n",
       "      <td>2017</td>\n",
       "      <td>1</td>\n",
       "      <td>923</td>\n",
       "      <td>T7432X</td>\n",
       "      <td>1</td>\n",
       "      <td>3</td>\n",
       "      <td>0</td>\n",
       "      <td>8545.72</td>\n",
       "      <td>8545.72</td>\n",
       "      <td>3</td>\n",
       "      <td>Child psychological abuse, confirmed</td>\n",
       "      <td>OTHER INJURY, POISONING AND TOXIC EFFECT DIAGN...</td>\n",
       "    </tr>\n",
       "    <tr>\n",
       "      <th>3</th>\n",
       "      <td>-10000010254656</td>\n",
       "      <td>-10000930038162</td>\n",
       "      <td>2017-01-14</td>\n",
       "      <td>2017-01-14</td>\n",
       "      <td>2017</td>\n",
       "      <td>0</td>\n",
       "      <td>564</td>\n",
       "      <td>S8290X</td>\n",
       "      <td>1</td>\n",
       "      <td>1</td>\n",
       "      <td>0</td>\n",
       "      <td>1014.85</td>\n",
       "      <td>1014.85</td>\n",
       "      <td>4</td>\n",
       "      <td>Unspecified fracture of unspecified lower leg</td>\n",
       "      <td>OTHER MUSCULOSKELETAL SYSTEM AND CONNECTIVE TI...</td>\n",
       "    </tr>\n",
       "    <tr>\n",
       "      <th>4</th>\n",
       "      <td>-10000010254656</td>\n",
       "      <td>-10000930038163</td>\n",
       "      <td>2018-03-17</td>\n",
       "      <td>2018-03-17</td>\n",
       "      <td>2018</td>\n",
       "      <td>0</td>\n",
       "      <td>951</td>\n",
       "      <td>Z3480</td>\n",
       "      <td>1</td>\n",
       "      <td>1</td>\n",
       "      <td>0</td>\n",
       "      <td>9911.41</td>\n",
       "      <td>9911.41</td>\n",
       "      <td>6</td>\n",
       "      <td>Encounter for supervision of other normal pre...</td>\n",
       "      <td>OTHER FACTORS INFLUENCING HEALTH STATUS</td>\n",
       "    </tr>\n",
       "    <tr>\n",
       "      <th>...</th>\n",
       "      <td>...</td>\n",
       "      <td>...</td>\n",
       "      <td>...</td>\n",
       "      <td>...</td>\n",
       "      <td>...</td>\n",
       "      <td>...</td>\n",
       "      <td>...</td>\n",
       "      <td>...</td>\n",
       "      <td>...</td>\n",
       "      <td>...</td>\n",
       "      <td>...</td>\n",
       "      <td>...</td>\n",
       "      <td>...</td>\n",
       "      <td>...</td>\n",
       "      <td>...</td>\n",
       "      <td>...</td>\n",
       "    </tr>\n",
       "    <tr>\n",
       "      <th>20862</th>\n",
       "      <td>-10000010288008</td>\n",
       "      <td>-10000931485965</td>\n",
       "      <td>2020-01-08</td>\n",
       "      <td>2020-01-14</td>\n",
       "      <td>2020</td>\n",
       "      <td>6</td>\n",
       "      <td>000</td>\n",
       "      <td>T50901A</td>\n",
       "      <td>1</td>\n",
       "      <td>3</td>\n",
       "      <td>0</td>\n",
       "      <td>166.97</td>\n",
       "      <td>166.97</td>\n",
       "      <td>12</td>\n",
       "      <td>Poisoning by unspecified drugs, medicaments an...</td>\n",
       "      <td>NaN</td>\n",
       "    </tr>\n",
       "    <tr>\n",
       "      <th>20863</th>\n",
       "      <td>-10000010288008</td>\n",
       "      <td>-10000931485967</td>\n",
       "      <td>2020-10-23</td>\n",
       "      <td>2020-10-23</td>\n",
       "      <td>2020</td>\n",
       "      <td>0</td>\n",
       "      <td>000</td>\n",
       "      <td>T50901A</td>\n",
       "      <td>1</td>\n",
       "      <td>1</td>\n",
       "      <td>0</td>\n",
       "      <td>166.97</td>\n",
       "      <td>166.97</td>\n",
       "      <td>12</td>\n",
       "      <td>Poisoning by unspecified drugs, medicaments an...</td>\n",
       "      <td>NaN</td>\n",
       "    </tr>\n",
       "    <tr>\n",
       "      <th>20864</th>\n",
       "      <td>-10000010288008</td>\n",
       "      <td>-10000931485969</td>\n",
       "      <td>2021-08-22</td>\n",
       "      <td>2021-08-23</td>\n",
       "      <td>2021</td>\n",
       "      <td>1</td>\n",
       "      <td>000</td>\n",
       "      <td>T50901A</td>\n",
       "      <td>1</td>\n",
       "      <td>1</td>\n",
       "      <td>1</td>\n",
       "      <td>166.97</td>\n",
       "      <td>166.97</td>\n",
       "      <td>13</td>\n",
       "      <td>Poisoning by unspecified drugs, medicaments an...</td>\n",
       "      <td>NaN</td>\n",
       "    </tr>\n",
       "    <tr>\n",
       "      <th>20865</th>\n",
       "      <td>-10000010288008</td>\n",
       "      <td>-10000931485971</td>\n",
       "      <td>2021-09-13</td>\n",
       "      <td>2021-09-16</td>\n",
       "      <td>2021</td>\n",
       "      <td>3</td>\n",
       "      <td>000</td>\n",
       "      <td>T50901A</td>\n",
       "      <td>1</td>\n",
       "      <td>2</td>\n",
       "      <td>0</td>\n",
       "      <td>166.97</td>\n",
       "      <td>166.97</td>\n",
       "      <td>13</td>\n",
       "      <td>Poisoning by unspecified drugs, medicaments an...</td>\n",
       "      <td>NaN</td>\n",
       "    </tr>\n",
       "    <tr>\n",
       "      <th>20866</th>\n",
       "      <td>-10000010288010</td>\n",
       "      <td>-10000931486024</td>\n",
       "      <td>2017-06-11</td>\n",
       "      <td>2017-06-11</td>\n",
       "      <td>2017</td>\n",
       "      <td>0</td>\n",
       "      <td>963</td>\n",
       "      <td>S93409</td>\n",
       "      <td>1</td>\n",
       "      <td>1</td>\n",
       "      <td>0</td>\n",
       "      <td>166.97</td>\n",
       "      <td>166.97</td>\n",
       "      <td>10</td>\n",
       "      <td>NaN</td>\n",
       "      <td>OTHER MULTIPLE SIGNIFICANT TRAUMA WITH MCC</td>\n",
       "    </tr>\n",
       "  </tbody>\n",
       "</table>\n",
       "<p>20867 rows × 16 columns</p>\n",
       "</div>"
      ],
      "text/plain": [
       "               BENE_ID           CLM_ID CLM_FROM_DT CLM_THRU_DT    YR  LOS  \\\n",
       "0      -10000010254618  -10000930037831  2015-03-25  2015-03-25  2015    0   \n",
       "1      -10000010254653  -10000930038030  2015-09-24  2015-09-24  2015    0   \n",
       "2      -10000010254653  -10000930038031  2017-05-09  2017-05-10  2017    1   \n",
       "3      -10000010254656  -10000930038162  2017-01-14  2017-01-14  2017    0   \n",
       "4      -10000010254656  -10000930038163  2018-03-17  2018-03-17  2018    0   \n",
       "...                ...              ...         ...         ...   ...  ...   \n",
       "20862  -10000010288008  -10000931485965  2020-01-08  2020-01-14  2020    6   \n",
       "20863  -10000010288008  -10000931485967  2020-10-23  2020-10-23  2020    0   \n",
       "20864  -10000010288008  -10000931485969  2021-08-22  2021-08-23  2021    1   \n",
       "20865  -10000010288008  -10000931485971  2021-09-13  2021-09-16  2021    3   \n",
       "20866  -10000010288010  -10000931486024  2017-06-11  2017-06-11  2017    0   \n",
       "\n",
       "       DRG PRNCPAL_DGNS_CD PTNT_DSCHRG_STUS_CD CLM_IP_ADMSN_TYPE_CD  ER_flag  \\\n",
       "0      551          S134XX                   1                    1        0   \n",
       "1      951           Z3480                   1                    1        0   \n",
       "2      923          T7432X                   1                    3        0   \n",
       "3      564          S8290X                   1                    1        0   \n",
       "4      951           Z3480                   1                    1        0   \n",
       "...    ...             ...                 ...                  ...      ...   \n",
       "20862  000         T50901A                   1                    3        0   \n",
       "20863  000         T50901A                   1                    1        0   \n",
       "20864  000         T50901A                   1                    1        1   \n",
       "20865  000         T50901A                   1                    2        0   \n",
       "20866  963          S93409                   1                    1        0   \n",
       "\n",
       "       CLM_TOT_CHRG_AMT  CLM_PMT_AMT  NUM_DIAG  \\\n",
       "0                 96.65        96.65         9   \n",
       "1               6311.88      6311.88         4   \n",
       "2               8545.72      8545.72         3   \n",
       "3               1014.85      1014.85         4   \n",
       "4               9911.41      9911.41         6   \n",
       "...                 ...          ...       ...   \n",
       "20862            166.97       166.97        12   \n",
       "20863            166.97       166.97        12   \n",
       "20864            166.97       166.97        13   \n",
       "20865            166.97       166.97        13   \n",
       "20866            166.97       166.97        10   \n",
       "\n",
       "                                         ICD_Description  \\\n",
       "0                  Sprain of ligaments of cervical spine   \n",
       "1       Encounter for supervision of other normal pre...   \n",
       "2                   Child psychological abuse, confirmed   \n",
       "3          Unspecified fracture of unspecified lower leg   \n",
       "4       Encounter for supervision of other normal pre...   \n",
       "...                                                  ...   \n",
       "20862  Poisoning by unspecified drugs, medicaments an...   \n",
       "20863  Poisoning by unspecified drugs, medicaments an...   \n",
       "20864  Poisoning by unspecified drugs, medicaments an...   \n",
       "20865  Poisoning by unspecified drugs, medicaments an...   \n",
       "20866                                                NaN   \n",
       "\n",
       "                                               DRG_TITLE  \n",
       "0                         MEDICAL BACK PROBLEMS WITH MCC  \n",
       "1                OTHER FACTORS INFLUENCING HEALTH STATUS  \n",
       "2      OTHER INJURY, POISONING AND TOXIC EFFECT DIAGN...  \n",
       "3      OTHER MUSCULOSKELETAL SYSTEM AND CONNECTIVE TI...  \n",
       "4                OTHER FACTORS INFLUENCING HEALTH STATUS  \n",
       "...                                                  ...  \n",
       "20862                                                NaN  \n",
       "20863                                                NaN  \n",
       "20864                                                NaN  \n",
       "20865                                                NaN  \n",
       "20866         OTHER MULTIPLE SIGNIFICANT TRAUMA WITH MCC  \n",
       "\n",
       "[20867 rows x 16 columns]"
      ]
     },
     "execution_count": 40,
     "metadata": {},
     "output_type": "execute_result"
    }
   ],
   "source": [
    "inpatient_encounters"
   ]
  },
  {
   "cell_type": "code",
   "execution_count": 42,
   "metadata": {
    "executionInfo": {
     "elapsed": 2013,
     "status": "ok",
     "timestamp": 1740498923549,
     "user": {
      "displayName": "Luke Wilsen",
      "userId": "08296025252065350541"
     },
     "user_tz": 300
    },
    "id": "mkZRdHD2Op7j"
   },
   "outputs": [],
   "source": [
    "# prompt: Save diagnosis and inpatient_encounters as csvs\n",
    "\n",
    "# Save diagnosis as a CSV\n",
    "diagnosis.to_csv(\"data/diagnosis.csv\", index=False)\n",
    "\n",
    "# Save inpatient_encounters as a CSV\n",
    "inpatient_encounters.to_csv(\"data/inpatient_encounters.csv\", index=False)\n"
   ]
  },
  {
   "cell_type": "code",
   "execution_count": 43,
   "metadata": {
    "colab": {
     "base_uri": "https://localhost:8080/"
    },
    "executionInfo": {
     "elapsed": 6,
     "status": "ok",
     "timestamp": 1740498923551,
     "user": {
      "displayName": "Luke Wilsen",
      "userId": "08296025252065350541"
     },
     "user_tz": 300
    },
    "id": "mcBIdD60yZWJ",
    "outputId": "f3a6dbee-a5af-4e59-eb6a-0608eace2db1"
   },
   "outputs": [
    {
     "name": "stdout",
     "output_type": "stream",
     "text": [
      "<class 'pandas.core.frame.DataFrame'>\n",
      "Int64Index: 20867 entries, 0 to 20866\n",
      "Data columns (total 16 columns):\n",
      " #   Column                Non-Null Count  Dtype         \n",
      "---  ------                --------------  -----         \n",
      " 0   BENE_ID               20867 non-null  object        \n",
      " 1   CLM_ID                20867 non-null  object        \n",
      " 2   CLM_FROM_DT           20867 non-null  datetime64[ns]\n",
      " 3   CLM_THRU_DT           20867 non-null  datetime64[ns]\n",
      " 4   YR                    20867 non-null  int64         \n",
      " 5   LOS                   20867 non-null  int64         \n",
      " 6   DRG                   20867 non-null  object        \n",
      " 7   PRNCPAL_DGNS_CD       20867 non-null  object        \n",
      " 8   PTNT_DSCHRG_STUS_CD   20867 non-null  object        \n",
      " 9   CLM_IP_ADMSN_TYPE_CD  20867 non-null  object        \n",
      " 10  ER_flag               20867 non-null  int64         \n",
      " 11  CLM_TOT_CHRG_AMT      20867 non-null  float64       \n",
      " 12  CLM_PMT_AMT           20867 non-null  float64       \n",
      " 13  NUM_DIAG              20867 non-null  int64         \n",
      " 14  ICD_Description       17098 non-null  object        \n",
      " 15  DRG_TITLE             17952 non-null  object        \n",
      "dtypes: datetime64[ns](2), float64(2), int64(4), object(8)\n",
      "memory usage: 2.7+ MB\n"
     ]
    }
   ],
   "source": [
    "inpatient_encounters.info()"
   ]
  },
  {
   "cell_type": "code",
   "execution_count": 44,
   "metadata": {
    "colab": {
     "base_uri": "https://localhost:8080/"
    },
    "executionInfo": {
     "elapsed": 53,
     "status": "ok",
     "timestamp": 1740499001919,
     "user": {
      "displayName": "Luke Wilsen",
      "userId": "08296025252065350541"
     },
     "user_tz": 300
    },
    "id": "FHMibjB9yaMs",
    "outputId": "e623cc6e-acf4-45eb-d02e-aba14ea5f00c"
   },
   "outputs": [
    {
     "name": "stdout",
     "output_type": "stream",
     "text": [
      "<class 'pandas.core.frame.DataFrame'>\n",
      "Int64Index: 176690 entries, 0 to 176689\n",
      "Data columns (total 4 columns):\n",
      " #   Column           Non-Null Count   Dtype \n",
      "---  ------           --------------   ----- \n",
      " 0   BENE_ID          176690 non-null  object\n",
      " 1   YR               176690 non-null  int64 \n",
      " 2   ICD_DIAG_CD      176690 non-null  object\n",
      " 3   ICD_Description  163357 non-null  object\n",
      "dtypes: int64(1), object(3)\n",
      "memory usage: 6.7+ MB\n"
     ]
    }
   ],
   "source": [
    "diagnosis.info()"
   ]
  }
 ],
 "metadata": {
  "colab": {
   "authorship_tag": "ABX9TyNJs42NTMV7im56Se6ryofF",
   "provenance": []
  },
  "kernelspec": {
   "display_name": "base",
   "language": "python",
   "name": "python3"
  },
  "language_info": {
   "codemirror_mode": {
    "name": "ipython",
    "version": 3
   },
   "file_extension": ".py",
   "mimetype": "text/x-python",
   "name": "python",
   "nbconvert_exporter": "python",
   "pygments_lexer": "ipython3",
   "version": "3.11.9"
  }
 },
 "nbformat": 4,
 "nbformat_minor": 0
}
